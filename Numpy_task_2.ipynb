{
  "cells": [
    {
      "cell_type": "markdown",
      "metadata": {
        "id": "sDewdZVGr3SG"
      },
      "source": [
        "# Numpy\n",
        "\n"
      ]
    },
    {
      "cell_type": "markdown",
      "metadata": {
        "id": "Eh4NbHcsr3SJ"
      },
      "source": [
        "#### 1. Import the numpy package under the name `np` (★☆☆) \n",
        "(**hint**: import … as …)"
      ]
    },
    {
      "cell_type": "code",
      "execution_count": 2,
      "metadata": {
        "id": "FQ4pi0xYr3SK"
      },
      "outputs": [],
      "source": [
        "import numpy as np"
      ]
    },
    {
      "cell_type": "markdown",
      "metadata": {
        "id": "xQCgPiQFr3SL"
      },
      "source": [
        "#### 2. Print the numpy version and the configuration (★☆☆) \n",
        "(**hint**: np.\\_\\_version\\_\\_, np.show\\_config)"
      ]
    },
    {
      "cell_type": "code",
      "execution_count": 3,
      "metadata": {
        "id": "oI1nyQrVr3SM",
        "outputId": "2dbc31b0-9a58-4833-be23-63e29a6b2d14",
        "colab": {
          "base_uri": "https://localhost:8080/"
        }
      },
      "outputs": [
        {
          "output_type": "stream",
          "name": "stdout",
          "text": [
            "1.21.6\n",
            "blas_mkl_info:\n",
            "  NOT AVAILABLE\n",
            "blis_info:\n",
            "  NOT AVAILABLE\n",
            "openblas_info:\n",
            "    libraries = ['openblas', 'openblas']\n",
            "    library_dirs = ['/usr/local/lib']\n",
            "    language = c\n",
            "    define_macros = [('HAVE_CBLAS', None)]\n",
            "    runtime_library_dirs = ['/usr/local/lib']\n",
            "blas_opt_info:\n",
            "    libraries = ['openblas', 'openblas']\n",
            "    library_dirs = ['/usr/local/lib']\n",
            "    language = c\n",
            "    define_macros = [('HAVE_CBLAS', None)]\n",
            "    runtime_library_dirs = ['/usr/local/lib']\n",
            "lapack_mkl_info:\n",
            "  NOT AVAILABLE\n",
            "openblas_lapack_info:\n",
            "    libraries = ['openblas', 'openblas']\n",
            "    library_dirs = ['/usr/local/lib']\n",
            "    language = c\n",
            "    define_macros = [('HAVE_CBLAS', None)]\n",
            "    runtime_library_dirs = ['/usr/local/lib']\n",
            "lapack_opt_info:\n",
            "    libraries = ['openblas', 'openblas']\n",
            "    library_dirs = ['/usr/local/lib']\n",
            "    language = c\n",
            "    define_macros = [('HAVE_CBLAS', None)]\n",
            "    runtime_library_dirs = ['/usr/local/lib']\n",
            "Supported SIMD extensions in this NumPy install:\n",
            "    baseline = SSE,SSE2,SSE3\n",
            "    found = SSSE3,SSE41,POPCNT,SSE42,AVX,F16C,FMA3,AVX2\n",
            "    not found = AVX512F,AVX512CD,AVX512_KNL,AVX512_KNM,AVX512_SKX,AVX512_CLX,AVX512_CNL,AVX512_ICL\n",
            "None\n"
          ]
        }
      ],
      "source": [
        "print(np.__version__)\n",
        "print(np.show_config())"
      ]
    },
    {
      "cell_type": "markdown",
      "metadata": {
        "id": "uqbFN8j2r3SN"
      },
      "source": [
        "#### 3. Create a null vector of size 10 (★☆☆) \n",
        "(**hint**: np.zeros)"
      ]
    },
    {
      "cell_type": "code",
      "execution_count": 4,
      "metadata": {
        "id": "n9WE9Zn1r3SO",
        "outputId": "1abe60ec-4995-4673-aef6-f8f9c42294fb",
        "colab": {
          "base_uri": "https://localhost:8080/"
        }
      },
      "outputs": [
        {
          "output_type": "execute_result",
          "data": {
            "text/plain": [
              "array([0., 0., 0., 0., 0., 0., 0., 0., 0., 0.])"
            ]
          },
          "metadata": {},
          "execution_count": 4
        }
      ],
      "source": [
        "np.zeros(10)"
      ]
    },
    {
      "cell_type": "markdown",
      "metadata": {
        "id": "QOXwWOrZr3SP"
      },
      "source": [
        "#### 4.  How to find the memory size of any array (★☆☆) \n",
        "(**hint**: size, itemsize)"
      ]
    },
    {
      "cell_type": "code",
      "execution_count": 5,
      "metadata": {
        "id": "2V5HHgl9r3SP",
        "outputId": "10c8332d-d66e-418d-d502-7afaf3f184cc",
        "colab": {
          "base_uri": "https://localhost:8080/"
        }
      },
      "outputs": [
        {
          "output_type": "stream",
          "name": "stdout",
          "text": [
            "800 bytes\n"
          ]
        }
      ],
      "source": [
        "A=np.zeros((10,10))\n",
        "print(\"%d bytes\" %(A.size*A.itemsize))"
      ]
    },
    {
      "cell_type": "markdown",
      "metadata": {
        "id": "VzdoXuSYr3SS"
      },
      "source": [
        "#### 5.  How to get the documentation of the numpy add function from the command line? (★☆☆) \n",
        "(**hint**: np.info)"
      ]
    },
    {
      "cell_type": "code",
      "execution_count": 6,
      "metadata": {
        "id": "vqmQNH7br3SS",
        "outputId": "dddada13-a976-4593-f674-d14dd6a1cd0e",
        "colab": {
          "base_uri": "https://localhost:8080/"
        }
      },
      "outputs": [
        {
          "output_type": "stream",
          "name": "stdout",
          "text": [
            "add(x1, x2, /, out=None, *, where=True, casting='same_kind', order='K', dtype=None, subok=True[, signature, extobj])\n",
            "\n",
            "Add arguments element-wise.\n",
            "\n",
            "Parameters\n",
            "----------\n",
            "x1, x2 : array_like\n",
            "    The arrays to be added.\n",
            "    If ``x1.shape != x2.shape``, they must be broadcastable to a common\n",
            "    shape (which becomes the shape of the output).\n",
            "out : ndarray, None, or tuple of ndarray and None, optional\n",
            "    A location into which the result is stored. If provided, it must have\n",
            "    a shape that the inputs broadcast to. If not provided or None,\n",
            "    a freshly-allocated array is returned. A tuple (possible only as a\n",
            "    keyword argument) must have length equal to the number of outputs.\n",
            "where : array_like, optional\n",
            "    This condition is broadcast over the input. At locations where the\n",
            "    condition is True, the `out` array will be set to the ufunc result.\n",
            "    Elsewhere, the `out` array will retain its original value.\n",
            "    Note that if an uninitialized `out` array is created via the default\n",
            "    ``out=None``, locations within it where the condition is False will\n",
            "    remain uninitialized.\n",
            "**kwargs\n",
            "    For other keyword-only arguments, see the\n",
            "    :ref:`ufunc docs <ufuncs.kwargs>`.\n",
            "\n",
            "Returns\n",
            "-------\n",
            "add : ndarray or scalar\n",
            "    The sum of `x1` and `x2`, element-wise.\n",
            "    This is a scalar if both `x1` and `x2` are scalars.\n",
            "\n",
            "Notes\n",
            "-----\n",
            "Equivalent to `x1` + `x2` in terms of array broadcasting.\n",
            "\n",
            "Examples\n",
            "--------\n",
            ">>> np.add(1.0, 4.0)\n",
            "5.0\n",
            ">>> x1 = np.arange(9.0).reshape((3, 3))\n",
            ">>> x2 = np.arange(3.0)\n",
            ">>> np.add(x1, x2)\n",
            "array([[  0.,   2.,   4.],\n",
            "       [  3.,   5.,   7.],\n",
            "       [  6.,   8.,  10.]])\n",
            "\n",
            "The ``+`` operator can be used as a shorthand for ``np.add`` on ndarrays.\n",
            "\n",
            ">>> x1 = np.arange(9.0).reshape((3, 3))\n",
            ">>> x2 = np.arange(3.0)\n",
            ">>> x1 + x2\n",
            "array([[ 0.,  2.,  4.],\n",
            "       [ 3.,  5.,  7.],\n",
            "       [ 6.,  8., 10.]])\n",
            "None\n"
          ]
        }
      ],
      "source": [
        "print(np.info(np.add))"
      ]
    },
    {
      "cell_type": "markdown",
      "metadata": {
        "id": "jZU_ofF8r3ST"
      },
      "source": [
        "#### 6.  Create a null vector of size 10 but the fifth value which is 1 (★☆☆) \n",
        "(**hint**: array\\[4\\])"
      ]
    },
    {
      "cell_type": "code",
      "execution_count": 7,
      "metadata": {
        "id": "l4ZEPe0Er3ST",
        "outputId": "fb17caa5-633d-42d0-bb3b-02862fe07853",
        "colab": {
          "base_uri": "https://localhost:8080/"
        }
      },
      "outputs": [
        {
          "output_type": "execute_result",
          "data": {
            "text/plain": [
              "array([0., 0., 0., 0., 1., 0., 0., 0., 0., 0.])"
            ]
          },
          "metadata": {},
          "execution_count": 7
        }
      ],
      "source": [
        "a=np.zeros(10)\n",
        "a[4]=1\n",
        "a"
      ]
    },
    {
      "cell_type": "markdown",
      "metadata": {
        "id": "9b_7q6M4r3ST"
      },
      "source": [
        "#### 7.  Create a vector with values ranging from 10 to 49 (★☆☆) \n",
        "(**hint**: np.arange)"
      ]
    },
    {
      "cell_type": "code",
      "execution_count": 8,
      "metadata": {
        "id": "yOb4oOLlr3SU",
        "outputId": "c6554da2-ef33-4db7-b2e5-0412dae6067b",
        "colab": {
          "base_uri": "https://localhost:8080/"
        }
      },
      "outputs": [
        {
          "output_type": "execute_result",
          "data": {
            "text/plain": [
              "array([10, 11, 12, 13, 14, 15, 16, 17, 18, 19, 20, 21, 22, 23, 24, 25, 26,\n",
              "       27, 28, 29, 30, 31, 32, 33, 34, 35, 36, 37, 38, 39, 40, 41, 42, 43,\n",
              "       44, 45, 46, 47, 48, 49])"
            ]
          },
          "metadata": {},
          "execution_count": 8
        }
      ],
      "source": [
        "np.arange(10,50)"
      ]
    },
    {
      "cell_type": "markdown",
      "metadata": {
        "id": "WB5ey37Hr3SU"
      },
      "source": [
        "#### 8.  Reverse a vector (first element becomes last) (★☆☆) \n",
        "(**hint**: array\\[::-1\\])"
      ]
    },
    {
      "cell_type": "code",
      "execution_count": 9,
      "metadata": {
        "id": "XDTbRVJVr3SU",
        "outputId": "166285be-4e24-43db-a4c8-dffacfe3f605",
        "colab": {
          "base_uri": "https://localhost:8080/"
        }
      },
      "outputs": [
        {
          "output_type": "execute_result",
          "data": {
            "text/plain": [
              "array([9, 8, 7, 6, 5, 4, 3, 2, 1, 0])"
            ]
          },
          "metadata": {},
          "execution_count": 9
        }
      ],
      "source": [
        "a=np.arange(0,10)\n",
        "a[::-1]"
      ]
    },
    {
      "cell_type": "markdown",
      "metadata": {
        "id": "w4cU3-8Mr3SU"
      },
      "source": [
        "#### 9.  Create a 3x3 matrix with values ranging from 0 to 8 (★☆☆) \n",
        "(**hint**: reshape)"
      ]
    },
    {
      "cell_type": "code",
      "execution_count": 10,
      "metadata": {
        "id": "pKhOSLvPr3SV",
        "outputId": "193b3378-9a4d-403d-9c9c-cd1da6d333ee",
        "colab": {
          "base_uri": "https://localhost:8080/"
        }
      },
      "outputs": [
        {
          "output_type": "execute_result",
          "data": {
            "text/plain": [
              "array([[0, 1, 2],\n",
              "       [3, 4, 5],\n",
              "       [6, 7, 8]])"
            ]
          },
          "metadata": {},
          "execution_count": 10
        }
      ],
      "source": [
        "np.arange(0,9).reshape(3,3)"
      ]
    },
    {
      "cell_type": "markdown",
      "metadata": {
        "id": "W7uUKS_kr3SV"
      },
      "source": [
        "10. Find indices of non-zero elements from \\[1,2,0,0,4,0\\] (★☆☆) \n",
        "(**hint**: np.nonzero)"
      ]
    },
    {
      "cell_type": "code",
      "execution_count": 11,
      "metadata": {
        "id": "If4_fPtKr3SV",
        "outputId": "e48b3c9a-a806-4df4-c56a-23ba116cb133",
        "colab": {
          "base_uri": "https://localhost:8080/"
        }
      },
      "outputs": [
        {
          "output_type": "stream",
          "name": "stdout",
          "text": [
            "(array([0, 1, 4]),)\n"
          ]
        }
      ],
      "source": [
        "a=np.array([1,2,0,0,4,0])\n",
        "print(np.nonzero(a))"
      ]
    },
    {
      "cell_type": "markdown",
      "metadata": {
        "id": "nt0TLYRkr3SW"
      },
      "source": [
        "#### 11. Create a 3x3 identity matrix (★☆☆) \n",
        "(**hint**: np.eye)"
      ]
    },
    {
      "cell_type": "code",
      "execution_count": 12,
      "metadata": {
        "id": "WZPtmAxNr3SW",
        "outputId": "ffbd7e85-72b1-4bef-9fdd-b4f1b78a9bc6",
        "colab": {
          "base_uri": "https://localhost:8080/"
        }
      },
      "outputs": [
        {
          "output_type": "execute_result",
          "data": {
            "text/plain": [
              "array([[1., 0., 0.],\n",
              "       [0., 1., 0.],\n",
              "       [0., 0., 1.]])"
            ]
          },
          "metadata": {},
          "execution_count": 12
        }
      ],
      "source": [
        "np.eye(3)"
      ]
    },
    {
      "cell_type": "markdown",
      "metadata": {
        "id": "8ctIq8FFr3SX"
      },
      "source": [
        "#### 12. Create a 3x3x3 array with random values (★☆☆) \n",
        "(**hint**: np.random.random)"
      ]
    },
    {
      "cell_type": "code",
      "execution_count": 13,
      "metadata": {
        "id": "CRB6uDz2r3SX",
        "outputId": "03b7781e-5add-47e0-a996-ba05f1694b40",
        "colab": {
          "base_uri": "https://localhost:8080/"
        }
      },
      "outputs": [
        {
          "output_type": "stream",
          "name": "stdout",
          "text": [
            "[[[0.75130068 0.97854508 0.72382641]\n",
            "  [0.4599493  0.92237498 0.65358482]\n",
            "  [0.08599162 0.04131201 0.31103331]]\n",
            "\n",
            " [[0.95693652 0.64610482 0.05073105]\n",
            "  [0.16866071 0.26346009 0.71080285]\n",
            "  [0.15782792 0.87198843 0.54401472]]\n",
            "\n",
            " [[0.88072446 0.32131464 0.29359516]\n",
            "  [0.68013321 0.52867584 0.22839148]\n",
            "  [0.37663091 0.36780192 0.6747491 ]]]\n"
          ]
        }
      ],
      "source": [
        "print(np.random.random(27).reshape(3,3,3))"
      ]
    },
    {
      "cell_type": "markdown",
      "metadata": {
        "id": "AN4Vvopyr3SX"
      },
      "source": [
        "#### 13. Create a 10x10 array with random values and find the minimum and maximum values (★☆☆) \n",
        "(**hint**: min, max)"
      ]
    },
    {
      "cell_type": "code",
      "execution_count": 14,
      "metadata": {
        "id": "sCG-iwYXr3SX",
        "outputId": "9360c8aa-6d28-4e43-e9d2-28e63a89170e",
        "colab": {
          "base_uri": "https://localhost:8080/"
        }
      },
      "outputs": [
        {
          "output_type": "stream",
          "name": "stdout",
          "text": [
            "max 0.9920597188134105\n",
            "min 0.009949922923984111\n"
          ]
        }
      ],
      "source": [
        "a=np.random.random(100).reshape(10,10)\n",
        "print(\"max\",a.max())\n",
        "print(\"min\",a.min())"
      ]
    },
    {
      "cell_type": "markdown",
      "metadata": {
        "id": "L2689Ob3r3SX"
      },
      "source": [
        "#### 14. Create a random vector of size 30 and find the mean value (★☆☆) \n",
        "(**hint**: mean)"
      ]
    },
    {
      "cell_type": "code",
      "execution_count": 15,
      "metadata": {
        "id": "00omAxOKr3SY",
        "outputId": "fa3f6989-0703-426f-a7a8-245c2ddb7595",
        "colab": {
          "base_uri": "https://localhost:8080/"
        }
      },
      "outputs": [
        {
          "output_type": "stream",
          "name": "stdout",
          "text": [
            "mean 0.571191108507593\n"
          ]
        }
      ],
      "source": [
        "a=np.random.random(30)\n",
        "print(\"mean\",a.mean())"
      ]
    },
    {
      "cell_type": "markdown",
      "metadata": {
        "id": "lR3HLhy_r3SY"
      },
      "source": [
        "#### 15. Create a 2d array with 1 on the border and 0 inside (★☆☆) \n",
        "(**hint**: array\\[1:-1, 1:-1\\])"
      ]
    },
    {
      "cell_type": "code",
      "execution_count": 16,
      "metadata": {
        "id": "OpaoaWklr3SY",
        "outputId": "9b497292-5e5f-4b46-8718-122df7679c33",
        "colab": {
          "base_uri": "https://localhost:8080/"
        }
      },
      "outputs": [
        {
          "output_type": "execute_result",
          "data": {
            "text/plain": [
              "array([[1., 1., 1., 1., 1., 1., 1.],\n",
              "       [1., 0., 0., 0., 0., 0., 1.],\n",
              "       [1., 0., 0., 0., 0., 0., 1.],\n",
              "       [1., 0., 0., 0., 0., 0., 1.],\n",
              "       [1., 0., 0., 0., 0., 0., 1.],\n",
              "       [1., 0., 0., 0., 0., 0., 1.],\n",
              "       [1., 1., 1., 1., 1., 1., 1.]])"
            ]
          },
          "metadata": {},
          "execution_count": 16
        }
      ],
      "source": [
        "a=np.ones(49).reshape(7,7)\n",
        "a[1:-1,1:-1]=0\n",
        "a"
      ]
    },
    {
      "cell_type": "markdown",
      "metadata": {
        "id": "MTDb_tmur3SY"
      },
      "source": [
        "#### 16. How to add a border (filled with 0's) around an existing array? (★☆☆) \n",
        "(**hint**: np.pad)"
      ]
    },
    {
      "cell_type": "code",
      "execution_count": 17,
      "metadata": {
        "id": "KxS3yEotr3SZ",
        "outputId": "6d4203a3-0a75-4d8d-ef07-9cc27bd8b02f",
        "colab": {
          "base_uri": "https://localhost:8080/"
        }
      },
      "outputs": [
        {
          "output_type": "stream",
          "name": "stdout",
          "text": [
            "[0 1 2 3 4 5 6 7 8 9 0]\n"
          ]
        }
      ],
      "source": [
        "a=np.arange(1,10)\n",
        "print(np.pad(a,(1,1),'constant',constant_values=(0,0)))"
      ]
    },
    {
      "cell_type": "markdown",
      "metadata": {
        "id": "0pBzNkK4r3SZ"
      },
      "source": [
        "#### 17. What is the result of the following expression? (★☆☆) \n",
        "(**hint**: NaN = not a number, inf = infinity)"
      ]
    },
    {
      "cell_type": "markdown",
      "metadata": {
        "id": "e_rQ2Qpyr3SZ"
      },
      "source": [
        "```python\n",
        "0 * np.nan\n",
        "np.nan == np.nan\n",
        "np.inf > np.nan\n",
        "np.nan - np.nan\n",
        "0.3 == 3 * 0.1\n",
        "```"
      ]
    },
    {
      "cell_type": "code",
      "execution_count": 18,
      "metadata": {
        "id": "G_M3-n2Jr3SZ",
        "outputId": "1fa6ed48-dd23-49c3-de3c-e6e32d2c894b",
        "colab": {
          "base_uri": "https://localhost:8080/",
          "height": 122
        }
      },
      "outputs": [
        {
          "output_type": "stream",
          "name": "stdout",
          "text": [
            "nan\n",
            "False\n",
            "False\n",
            "nan\n",
            "False\n"
          ]
        },
        {
          "output_type": "execute_result",
          "data": {
            "text/plain": [
              "'\\noutput is\\nnan\\nFalse\\nFalse\\nnan\\nFalse'"
            ],
            "application/vnd.google.colaboratory.intrinsic+json": {
              "type": "string"
            }
          },
          "metadata": {},
          "execution_count": 18
        }
      ],
      "source": [
        "print(0*np.nan)\n",
        "print(np.nan==np.nan)\n",
        "print(np.inf>np.nan)\n",
        "print(np.nan-np.nan)\n",
        "print(0.3==3*0.1)\n",
        "\"\"\"\n",
        "output is\n",
        "nan\n",
        "False\n",
        "False\n",
        "nan\n",
        "False\"\"\""
      ]
    },
    {
      "cell_type": "markdown",
      "metadata": {
        "id": "bI5VHhYOr3Sa"
      },
      "source": [
        "#### 18. Create a 5x5 matrix with values 1,2,3,4 just below the diagonal (★☆☆) \n",
        "(**hint**: np.diag)"
      ]
    },
    {
      "cell_type": "code",
      "execution_count": 19,
      "metadata": {
        "id": "rc5dgXovr3Sa",
        "outputId": "2aafb62e-713f-43cb-f16d-026f3305b001",
        "colab": {
          "base_uri": "https://localhost:8080/"
        }
      },
      "outputs": [
        {
          "output_type": "execute_result",
          "data": {
            "text/plain": [
              "array([[0, 0, 0, 0, 0],\n",
              "       [1, 0, 0, 0, 0],\n",
              "       [0, 2, 0, 0, 0],\n",
              "       [0, 0, 3, 0, 0],\n",
              "       [0, 0, 0, 4, 0]])"
            ]
          },
          "metadata": {},
          "execution_count": 19
        }
      ],
      "source": [
        "a=np.diag([1,2,3,4],k=-1)\n",
        "a"
      ]
    },
    {
      "cell_type": "markdown",
      "metadata": {
        "id": "pPPFDRYsr3Sa"
      },
      "source": [
        "#### 19. Create a 8x8 matrix and fill it with a checkerboard pattern (★☆☆) \n",
        "(**hint**: array\\[::2\\])"
      ]
    },
    {
      "cell_type": "code",
      "execution_count": 20,
      "metadata": {
        "id": "SVlE4bcqr3Sa",
        "outputId": "e5e49ebf-7484-4b6b-e45f-3afccc68b47d",
        "colab": {
          "base_uri": "https://localhost:8080/"
        }
      },
      "outputs": [
        {
          "output_type": "execute_result",
          "data": {
            "text/plain": [
              "array([[0., 1., 0., 1., 0., 1., 0., 1.],\n",
              "       [1., 0., 1., 0., 1., 0., 1., 0.],\n",
              "       [0., 1., 0., 1., 0., 1., 0., 1.],\n",
              "       [1., 0., 1., 0., 1., 0., 1., 0.],\n",
              "       [0., 1., 0., 1., 0., 1., 0., 1.],\n",
              "       [1., 0., 1., 0., 1., 0., 1., 0.],\n",
              "       [0., 1., 0., 1., 0., 1., 0., 1.],\n",
              "       [1., 0., 1., 0., 1., 0., 1., 0.]])"
            ]
          },
          "metadata": {},
          "execution_count": 20
        }
      ],
      "source": [
        "a=np.zeros(64).reshape(8,8)\n",
        "a[::2,1::2]=1\n",
        "a[1::2,::2]=1\n",
        "a"
      ]
    },
    {
      "cell_type": "markdown",
      "metadata": {
        "id": "IzYhuZ0xr3Sa"
      },
      "source": [
        "#### 20. Consider a (6,7,8) shape array, what is the index (x,y,z) of the 100th element? \n",
        "(**hint**: np.unravel_index)"
      ]
    },
    {
      "cell_type": "code",
      "execution_count": 21,
      "metadata": {
        "id": "reW0-RpWr3Sb",
        "outputId": "daba309e-cc5e-470d-f7a1-8db322e2f53a",
        "colab": {
          "base_uri": "https://localhost:8080/"
        }
      },
      "outputs": [
        {
          "output_type": "execute_result",
          "data": {
            "text/plain": [
              "(1, 5, 4)"
            ]
          },
          "metadata": {},
          "execution_count": 21
        }
      ],
      "source": [
        "np.unravel_index(100,(6,7,8))"
      ]
    },
    {
      "cell_type": "markdown",
      "metadata": {
        "id": "sINy1sQ2r3Sb"
      },
      "source": [
        "#### 21. Create a checkerboard 8x8 matrix using the tile function (★☆☆) \n",
        "(**hint**: np.tile)"
      ]
    },
    {
      "cell_type": "code",
      "execution_count": 22,
      "metadata": {
        "id": "dHs0BrNar3Sb",
        "outputId": "190fd394-5ae0-40ee-a748-85299aa9446a",
        "colab": {
          "base_uri": "https://localhost:8080/"
        }
      },
      "outputs": [
        {
          "output_type": "stream",
          "name": "stdout",
          "text": [
            "[[0 1 0 1 0 1 0 1]\n",
            " [1 0 1 0 1 0 1 0]\n",
            " [0 1 0 1 0 1 0 1]\n",
            " [1 0 1 0 1 0 1 0]\n",
            " [0 1 0 1 0 1 0 1]\n",
            " [1 0 1 0 1 0 1 0]\n",
            " [0 1 0 1 0 1 0 1]\n",
            " [1 0 1 0 1 0 1 0]]\n"
          ]
        }
      ],
      "source": [
        "a=np.array([[0,1],[1,0]])\n",
        "print(np.tile(a,(4,4)))"
      ]
    },
    {
      "cell_type": "markdown",
      "metadata": {
        "id": "tkbVBC7or3Sb"
      },
      "source": [
        "#### 22. Normalize a 5x5 random matrix (★☆☆) \n",
        "(**hint**: (x - min) / (max - min))"
      ]
    },
    {
      "cell_type": "code",
      "execution_count": 23,
      "metadata": {
        "id": "ydgc9kwmr3Sb",
        "outputId": "8a240782-f4fc-4546-a99f-0358362bdc6d",
        "colab": {
          "base_uri": "https://localhost:8080/"
        }
      },
      "outputs": [
        {
          "output_type": "stream",
          "name": "stdout",
          "text": [
            "[[0.         0.04166667 0.08333333 0.125      0.16666667]\n",
            " [0.20833333 0.25       0.29166667 0.33333333 0.375     ]\n",
            " [0.41666667 0.45833333 0.5        0.54166667 0.58333333]\n",
            " [0.625      0.66666667 0.70833333 0.75       0.79166667]\n",
            " [0.83333333 0.875      0.91666667 0.95833333 1.        ]]\n"
          ]
        }
      ],
      "source": [
        "a=np.arange(25).reshape(5,5)\n",
        "b=(a-a.min())/(a.max()-a.min())\n",
        "print(b)"
      ]
    },
    {
      "cell_type": "markdown",
      "metadata": {
        "id": "QF74SaiBr3Sb"
      },
      "source": [
        "#### 23. Create a custom dtype that describes a color as four unsigned bytes (RGBA) (★☆☆) \n",
        "(**hint**: np.dtype)"
      ]
    },
    {
      "cell_type": "code",
      "execution_count": 24,
      "metadata": {
        "id": "XrBHYRZwr3Sc",
        "outputId": "1d858a57-6891-49c3-8703-1e8623cb46ff",
        "colab": {
          "base_uri": "https://localhost:8080/"
        }
      },
      "outputs": [
        {
          "output_type": "execute_result",
          "data": {
            "text/plain": [
              "dtype([('r', 'u1'), ('g', 'u1'), ('b', 'u1'), ('a', 'u1')])"
            ]
          },
          "metadata": {},
          "execution_count": 24
        }
      ],
      "source": [
        "np.dtype([('r',np.uint8),('g',np.uint8),('b',np.uint8),('a',np.uint8)])"
      ]
    },
    {
      "cell_type": "markdown",
      "metadata": {
        "id": "w2OE8c4nr3Sc"
      },
      "source": [
        "#### 24. Multiply a 5x3 matrix by a 3x2 matrix (real matrix product) (★☆☆) \n",
        "(**hint**: np.dot | @)"
      ]
    },
    {
      "cell_type": "code",
      "execution_count": 25,
      "metadata": {
        "id": "3n9v3E07r3Sc",
        "outputId": "9421eef1-685d-4f64-f6b4-736bb9d8e691",
        "colab": {
          "base_uri": "https://localhost:8080/"
        }
      },
      "outputs": [
        {
          "output_type": "execute_result",
          "data": {
            "text/plain": [
              "array([[ 16,  22],\n",
              "       [ 34,  49],\n",
              "       [ 52,  76],\n",
              "       [ 70, 103],\n",
              "       [ 88, 130]])"
            ]
          },
          "metadata": {},
          "execution_count": 25
        }
      ],
      "source": [
        "a=np.arange(1,16).reshape(5,3)\n",
        "b=np.arange(6).reshape(3,2)\n",
        "a@b"
      ]
    },
    {
      "cell_type": "markdown",
      "metadata": {
        "id": "BZx8F0pnr3Sc"
      },
      "source": [
        "#### 25. Given a 1D array, negate all elements which are between 3 and 8, in place. (★☆☆) \n",
        "(**hint**: >, <=)"
      ]
    },
    {
      "cell_type": "code",
      "execution_count": 26,
      "metadata": {
        "id": "f5LB3oYlr3Sc",
        "outputId": "92528193-a01a-4563-d004-9b7df80e5cc3",
        "colab": {
          "base_uri": "https://localhost:8080/"
        }
      },
      "outputs": [
        {
          "output_type": "execute_result",
          "data": {
            "text/plain": [
              "array([ 0,  1,  2,  3, -4, -5, -6, -7,  8,  9, 10, 11, 12, 13, 14, 15, 16,\n",
              "       17, 18, 19])"
            ]
          },
          "metadata": {},
          "execution_count": 26
        }
      ],
      "source": [
        "a=np.arange(20)\n",
        "a[(a>3) & (a<=7)]*=-1\n",
        "a"
      ]
    },
    {
      "cell_type": "markdown",
      "metadata": {
        "id": "bp908MQyr3Sd"
      },
      "source": [
        "#### 26. What is the output of the following script? (★☆☆) \n",
        "(**hint**: np.sum)"
      ]
    },
    {
      "cell_type": "markdown",
      "metadata": {
        "id": "YrjnyKmSr3Sd"
      },
      "source": [
        "```python\n",
        "# Author: Jake VanderPlas\n",
        "\n",
        "print(sum(range(5),-1))\n",
        "from numpy import *\n",
        "print(sum(range(5),-1))\n",
        "```"
      ]
    },
    {
      "cell_type": "code",
      "execution_count": 27,
      "metadata": {
        "id": "E_cyHXxXr3Sd",
        "outputId": "af442cf2-20e5-4e21-8d68-9f8123b35a9b",
        "colab": {
          "base_uri": "https://localhost:8080/"
        }
      },
      "outputs": [
        {
          "output_type": "stream",
          "name": "stdout",
          "text": [
            "9\n",
            "10\n"
          ]
        }
      ],
      "source": [
        "print(sum(range(5),-1))\n",
        "from numpy import *\n",
        "print(sum(range(5),-1))"
      ]
    },
    {
      "cell_type": "markdown",
      "metadata": {
        "id": "uDwaERt3r3Sd"
      },
      "source": [
        "27. Consider an integer vector Z, which of these expressions are legal? (★☆☆)"
      ]
    },
    {
      "cell_type": "markdown",
      "metadata": {
        "id": "-MGIcJyLr3Sd"
      },
      "source": [
        "```python\n",
        "Z**Z\n",
        "2 << Z >> 2\n",
        "Z <- Z\n",
        "1j*Z\n",
        "Z/1/1\n",
        "Z<Z>Z\n",
        "```"
      ]
    },
    {
      "cell_type": "code",
      "execution_count": 28,
      "metadata": {
        "id": "aUB2i1HEr3Se",
        "outputId": "5ab9dff6-21db-4f19-9eec-51c498e0b2a9",
        "colab": {
          "base_uri": "https://localhost:8080/"
        }
      },
      "outputs": [
        {
          "output_type": "stream",
          "name": "stdout",
          "text": [
            "[        1         1         4        27       256      3125     46656\n",
            "    823543  16777216 387420489]\n",
            "[False False False False False False False False False False]\n",
            "[0.+0.j 0.+1.j 0.+2.j 0.+3.j 0.+4.j 0.+5.j 0.+6.j 0.+7.j 0.+8.j 0.+9.j]\n",
            "[0. 1. 2. 3. 4. 5. 6. 7. 8. 9.]\n",
            "[  0   1   2   4   8  16  32  64 128 256]\n"
          ]
        }
      ],
      "source": [
        "z=np.arange(10)\n",
        "#below are expressions are legal except last one\n",
        "print(z**z)      # z powerz    3 power 3 =27\n",
        "print(z<-z)    #z< (-z)  condition false 2 <-2\n",
        "print(1j*z)   #creating complex number arr\n",
        "print(z/1/1)  #z converted to float\n",
        "#not valid expessions\n",
        "print(2 <<z >>2)  #not valid\n",
        "#print(z<z>z)  #invalid  to conditions cannot be in one line"
      ]
    },
    {
      "cell_type": "markdown",
      "metadata": {
        "id": "MpZ42fexr3Se"
      },
      "source": [
        "#### 28. What are the result of the following expressions?"
      ]
    },
    {
      "cell_type": "markdown",
      "metadata": {
        "id": "c-5687YVr3Se"
      },
      "source": [
        "```python\n",
        "np.array(0) / np.array(0)\n",
        "np.array(0) // np.array(0)\n",
        "np.array([np.nan]).astype(int).astype(float)\n",
        "```"
      ]
    },
    {
      "cell_type": "code",
      "execution_count": 29,
      "metadata": {
        "id": "qb7Oq8PRr3Se",
        "outputId": "a75cfb9d-a71d-4ad6-c1da-03386eac8720",
        "colab": {
          "base_uri": "https://localhost:8080/"
        }
      },
      "outputs": [
        {
          "output_type": "stream",
          "name": "stdout",
          "text": [
            "nan\n",
            "0\n",
            "[-9.22337204e+18]\n"
          ]
        },
        {
          "output_type": "stream",
          "name": "stderr",
          "text": [
            "<ipython-input-29-6caa14b62dca>:1: RuntimeWarning: invalid value encountered in true_divide\n",
            "  print(np.array(0)/np.array(0))\n",
            "<ipython-input-29-6caa14b62dca>:2: RuntimeWarning: divide by zero encountered in floor_divide\n",
            "  print(np.array(0)//np.array(0))\n"
          ]
        }
      ],
      "source": [
        "print(np.array(0)/np.array(0))\n",
        "print(np.array(0)//np.array(0))\n",
        "print(np.array([np.nan]).astype(int).astype(float))"
      ]
    },
    {
      "cell_type": "markdown",
      "metadata": {
        "id": "oejW7ieVr3Se"
      },
      "source": [
        "#### 29. How to round away from zero a float array ? (★☆☆) \n",
        "(**hint**: np.uniform, np.copysign, np.ceil, np.abs)"
      ]
    },
    {
      "cell_type": "code",
      "execution_count": 30,
      "metadata": {
        "id": "SNIxR-8ar3Se",
        "outputId": "f8276fdc-6234-4ab7-a021-fe3bb0f1eee8",
        "colab": {
          "base_uri": "https://localhost:8080/"
        }
      },
      "outputs": [
        {
          "output_type": "stream",
          "name": "stdout",
          "text": [
            "[ 3.  5.  1.  1. -2. -5. -1.  4. -2.  4.]\n"
          ]
        }
      ],
      "source": [
        "a=np.random.uniform(-5,5,10)\n",
        "print(np.copysign(np.ceil(np.abs(a)),a))"
      ]
    },
    {
      "cell_type": "markdown",
      "metadata": {
        "id": "PVnelvoZr3Sf"
      },
      "source": [
        "#### 30. How to find common values between two arrays? (★☆☆) \n",
        "(**hint**: np.intersect1d)"
      ]
    },
    {
      "cell_type": "code",
      "execution_count": 31,
      "metadata": {
        "id": "nGLUG4kcr3Sf",
        "outputId": "18c1e648-7d8d-4c34-e691-44c308c1f543",
        "colab": {
          "base_uri": "https://localhost:8080/"
        }
      },
      "outputs": [
        {
          "output_type": "stream",
          "name": "stdout",
          "text": [
            "[3 4]\n"
          ]
        }
      ],
      "source": [
        "a=np.arange(3,10)\n",
        "b=np.arange(5)\n",
        "print(np.intersect1d(a,b))"
      ]
    },
    {
      "cell_type": "markdown",
      "metadata": {
        "id": "fsc0Xoxwr3Sf"
      },
      "source": [
        "#### 31. How to ignore all numpy warnings (not recommended)? (★☆☆) \n",
        "(**hint**: np.seterr, np.errstate)"
      ]
    },
    {
      "cell_type": "code",
      "execution_count": 32,
      "metadata": {
        "id": "L2dJnwN9r3Sf",
        "outputId": "36838e8e-9b9f-4943-fdc9-ab90edb7c158",
        "colab": {
          "base_uri": "https://localhost:8080/"
        }
      },
      "outputs": [
        {
          "output_type": "stream",
          "name": "stdout",
          "text": [
            "{'divide': 'ignore', 'over': 'ignore', 'under': 'ignore', 'invalid': 'ignore'}\n",
            "nan\n"
          ]
        },
        {
          "output_type": "stream",
          "name": "stderr",
          "text": [
            "<ipython-input-32-3c6c373f5dd6>:3: RuntimeWarning: divide by zero encountered in true_divide\n",
            "  np.ones(3) /0\n"
          ]
        }
      ],
      "source": [
        "#np.info(np.seterr)\n",
        "#print(np.seterr(all=\"ignore\"))\n",
        "np.ones(3) /0\n",
        "a=np.seterr(all=\"ignore\")\n",
        "print(np.seterr(**a))\n",
        "with np.errstate(all='ignore'):\n",
        "    print(np.sqrt(-2))"
      ]
    },
    {
      "cell_type": "markdown",
      "metadata": {
        "id": "EDTDFcqmr3Sf"
      },
      "source": [
        "#### 32. Is the following expressions true? (★☆☆) \n",
        "(**hint**: imaginary number)"
      ]
    },
    {
      "cell_type": "markdown",
      "metadata": {
        "id": "sVOW1Z57r3Sf"
      },
      "source": [
        "```python\n",
        "np.sqrt(-1) == np.emath.sqrt(-1)\n",
        "```"
      ]
    },
    {
      "cell_type": "code",
      "execution_count": 33,
      "metadata": {
        "id": "9t6PNDo1r3Sg",
        "outputId": "06e3a644-d7fe-4127-b677-23306afb0044",
        "colab": {
          "base_uri": "https://localhost:8080/"
        }
      },
      "outputs": [
        {
          "output_type": "stream",
          "name": "stdout",
          "text": [
            "False\n"
          ]
        },
        {
          "output_type": "stream",
          "name": "stderr",
          "text": [
            "<ipython-input-33-31448fde82b0>:1: RuntimeWarning: invalid value encountered in sqrt\n",
            "  print(np.sqrt(-1) == np.emath.sqrt(-1)) #False  emath sqrt will return complex num\n"
          ]
        }
      ],
      "source": [
        "print(np.sqrt(-1) == np.emath.sqrt(-1)) #False  emath sqrt will return complex num "
      ]
    },
    {
      "cell_type": "markdown",
      "metadata": {
        "id": "7IyCRDHfr3Sg"
      },
      "source": [
        "33. How to get the dates of yesterday, today and tomorrow? (★☆☆) \n",
        "(**hint**: np.datetime64, np.timedelta64)"
      ]
    },
    {
      "cell_type": "code",
      "execution_count": 34,
      "metadata": {
        "id": "gbemHJAAr3Sg",
        "outputId": "cd6cd04a-c87d-4abf-91b5-b19ddff47884",
        "colab": {
          "base_uri": "https://localhost:8080/"
        }
      },
      "outputs": [
        {
          "output_type": "stream",
          "name": "stdout",
          "text": [
            "yesterday [0 1 2 3 4]\n",
            "today 2023-01-13\n",
            "tomorrow 2023-01-14\n"
          ]
        }
      ],
      "source": [
        "c=np.datetime64('today','D')-np.timedelta64(1,'D')\n",
        "print(\"yesterday\",b)\n",
        "a=np.datetime64('today','D')\n",
        "print(\"today\",a)\n",
        "c=np.datetime64('today','D')+np.timedelta64(1,'D')\n",
        "print(\"tomorrow\",c)"
      ]
    },
    {
      "cell_type": "markdown",
      "metadata": {
        "id": "hwD6js00r3Sg"
      },
      "source": [
        "#### 34. How to get all the dates corresponding to the month of July 2016? (★★☆) \n",
        "(**hint**: np.arange(dtype=datetime64\\['D'\\]))"
      ]
    },
    {
      "cell_type": "code",
      "execution_count": 35,
      "metadata": {
        "id": "97LZdAQ1r3Sg",
        "outputId": "07a7a554-bbc8-4f8f-a54d-1b75faaa3851",
        "colab": {
          "base_uri": "https://localhost:8080/"
        }
      },
      "outputs": [
        {
          "output_type": "execute_result",
          "data": {
            "text/plain": [
              "array(['2016-07-01', '2016-07-02', '2016-07-03', '2016-07-04',\n",
              "       '2016-07-05', '2016-07-06', '2016-07-07', '2016-07-08',\n",
              "       '2016-07-09', '2016-07-10', '2016-07-11', '2016-07-12',\n",
              "       '2016-07-13', '2016-07-14', '2016-07-15', '2016-07-16',\n",
              "       '2016-07-17', '2016-07-18', '2016-07-19', '2016-07-20',\n",
              "       '2016-07-21', '2016-07-22', '2016-07-23', '2016-07-24',\n",
              "       '2016-07-25', '2016-07-26', '2016-07-27', '2016-07-28',\n",
              "       '2016-07-29', '2016-07-30', '2016-07-31'], dtype='datetime64[D]')"
            ]
          },
          "metadata": {},
          "execution_count": 35
        }
      ],
      "source": [
        "np.arange('2016-07','2016-08',dtype='datetime64[D]')"
      ]
    },
    {
      "cell_type": "markdown",
      "metadata": {
        "id": "35JE0Ksbr3Sg"
      },
      "source": [
        "#### 35. How to compute ((A+B)\\*(-A/2)) in place (without copy)? (★★☆) \n",
        "(**hint**: np.add(out=), np.negative(out=), np.multiply(out=), np.divide(out=))"
      ]
    },
    {
      "cell_type": "code",
      "execution_count": 36,
      "metadata": {
        "id": "C75ydDjLr3Sh",
        "outputId": "fe47643d-86e6-4e79-def2-408b284ea3e7",
        "colab": {
          "base_uri": "https://localhost:8080/"
        }
      },
      "outputs": [
        {
          "output_type": "stream",
          "name": "stdout",
          "text": [
            "[[  0   0  -4]\n",
            " [ -6 -16 -20]\n",
            " [-36 -42 -64]]\n"
          ]
        }
      ],
      "source": [
        "A=np.arange(9).reshape(3,3)\n",
        "B=np.arange(9).reshape(3,3)\n",
        "np.add(A,B,out=B)\n",
        "np.divide(A,2,out=A,casting='unsafe')\n",
        "np.negative(A,out=A)\n",
        "print(np.multiply(A,B,out=A,casting='unsafe'))"
      ]
    },
    {
      "cell_type": "markdown",
      "metadata": {
        "id": "6FWfIRiXr3Sh"
      },
      "source": [
        "#### 36. Extract the integer part of a random array using 5 different methods (★★☆) \n",
        "(**hint**: %, np.floor, np.ceil, astype, np.trunc)"
      ]
    },
    {
      "cell_type": "code",
      "execution_count": 37,
      "metadata": {
        "id": "MIW2YCmfr3Sh",
        "outputId": "678dc968-48d5-4058-b93c-360ba020b343",
        "colab": {
          "base_uri": "https://localhost:8080/"
        }
      },
      "outputs": [
        {
          "output_type": "stream",
          "name": "stdout",
          "text": [
            "[8. 4. 6. 2. 5. 4. 5. 5. 9. 4.]\n",
            "[8. 4. 6. 2. 5. 4. 5. 5. 9. 4.]\n",
            "[8. 4. 6. 2. 5. 4. 5. 5. 9. 4.]\n",
            "[8 4 6 2 5 4 5 5 9 4]\n",
            "[8. 4. 6. 2. 5. 4. 5. 5. 9. 4.]\n"
          ]
        }
      ],
      "source": [
        "a=np.random.uniform(0,10,10)\n",
        "#print(a)\n",
        "print(a-a%1)\n",
        "print(np.floor(a))\n",
        "print(np.ceil(a)-1)\n",
        "print(a.astype(int))\n",
        "print(np.trunc(a))"
      ]
    },
    {
      "cell_type": "markdown",
      "metadata": {
        "id": "aKVLxY63r3Sh"
      },
      "source": [
        "#### 37. Create a 5x5 matrix with row values ranging from 0 to 4 (★★☆) \n",
        "(**hint**: np.arange)"
      ]
    },
    {
      "cell_type": "code",
      "execution_count": 38,
      "metadata": {
        "id": "D-QBN6aur3Sh",
        "outputId": "4cdae1ef-1309-4701-e38c-ba108d1114d7",
        "colab": {
          "base_uri": "https://localhost:8080/"
        }
      },
      "outputs": [
        {
          "output_type": "stream",
          "name": "stdout",
          "text": [
            "[[0 1 2 3 4]\n",
            " [0 1 2 3 4]\n",
            " [0 1 2 3 4]\n",
            " [0 1 2 3 4]\n",
            " [0 1 2 3 4]]\n"
          ]
        }
      ],
      "source": [
        "a=np.tile(np.arange(5),(5,1))\n",
        "print(a)"
      ]
    },
    {
      "cell_type": "markdown",
      "metadata": {
        "id": "xUzVi1d_r3Sh"
      },
      "source": [
        "#### 38. Consider a generator function that generates 10 integers and use it to build an array (★☆☆) \n",
        "(**hint**: np.fromiter)"
      ]
    },
    {
      "cell_type": "code",
      "execution_count": 39,
      "metadata": {
        "id": "z__vKPNtr3Si",
        "outputId": "9eacc09f-a69b-4296-aba9-eb338906c6f7",
        "colab": {
          "base_uri": "https://localhost:8080/"
        }
      },
      "outputs": [
        {
          "output_type": "stream",
          "name": "stdout",
          "text": [
            "[0 1 2 3 4 5 6 7 8 9]\n"
          ]
        }
      ],
      "source": [
        "iterator=(i for i in range(10))\n",
        "print(np.fromiter(iterator,int))"
      ]
    },
    {
      "cell_type": "markdown",
      "metadata": {
        "id": "7JvO_bTtr3Si"
      },
      "source": [
        "#### 39. Create a vector of size 10 with values ranging from 0 to 1, both excluded (★★☆) \n",
        "(**hint**: np.linspace)"
      ]
    },
    {
      "cell_type": "code",
      "execution_count": 40,
      "metadata": {
        "id": "2I06WlAEr3Si",
        "outputId": "cef3791c-b45e-4e9f-cdd6-dd76ef6efa5d",
        "colab": {
          "base_uri": "https://localhost:8080/"
        }
      },
      "outputs": [
        {
          "output_type": "execute_result",
          "data": {
            "text/plain": [
              "array([0.02, 0.04, 0.06, 0.08, 0.1 , 0.12, 0.14, 0.16, 0.18, 0.2 , 0.22,\n",
              "       0.24, 0.26, 0.28, 0.3 , 0.32, 0.34, 0.36, 0.38, 0.4 , 0.42, 0.44,\n",
              "       0.46, 0.48, 0.5 , 0.52, 0.54, 0.56, 0.58, 0.6 , 0.62, 0.64, 0.66,\n",
              "       0.68, 0.7 , 0.72, 0.74, 0.76, 0.78, 0.8 , 0.82, 0.84, 0.86, 0.88,\n",
              "       0.9 , 0.92, 0.94, 0.96, 0.98])"
            ]
          },
          "metadata": {},
          "execution_count": 40
        }
      ],
      "source": [
        "np.linspace(0,1,endpoint=False)[1:]"
      ]
    },
    {
      "cell_type": "markdown",
      "metadata": {
        "id": "ylPAGG9mr3Si"
      },
      "source": [
        "#### 40. Create a random vector of size 10 and sort it (★★☆) \n",
        "(**hint**: sort)"
      ]
    },
    {
      "cell_type": "code",
      "execution_count": 41,
      "metadata": {
        "id": "nm7seokvr3Si",
        "outputId": "fe347f07-8602-4c28-d06b-ebb98b80841d",
        "colab": {
          "base_uri": "https://localhost:8080/"
        }
      },
      "outputs": [
        {
          "output_type": "stream",
          "name": "stdout",
          "text": [
            "after sorting [0.27309585 0.3073302  0.35989649 0.44933117 0.61841943 0.64488229\n",
            " 0.7546819  0.8061352  0.86909962 0.92338892]\n"
          ]
        }
      ],
      "source": [
        "a=np.random.random(10)\n",
        "a.sort()\n",
        "print('after sorting',a)"
      ]
    },
    {
      "cell_type": "markdown",
      "metadata": {
        "id": "oI6No6tqr3Si"
      },
      "source": [
        "#### 41. How to sum a small array faster than np.sum? (★★☆) \n",
        "(**hint**: np.add.reduce)"
      ]
    },
    {
      "cell_type": "code",
      "execution_count": 42,
      "metadata": {
        "id": "bKuTuOlyr3Sj",
        "outputId": "13b8d372-5860-44da-d2bb-79cbd66cc078",
        "colab": {
          "base_uri": "https://localhost:8080/"
        }
      },
      "outputs": [
        {
          "output_type": "stream",
          "name": "stdout",
          "text": [
            "45\n"
          ]
        }
      ],
      "source": [
        "A=np.arange(10)\n",
        "print(np.add.reduce(A))"
      ]
    },
    {
      "cell_type": "markdown",
      "metadata": {
        "id": "ICraBO25r3Sj"
      },
      "source": [
        "#### 42. Consider two random array A and B, check if they are equal (★★☆) \n",
        "(**hint**: np.allclose, np.array\\_equal)"
      ]
    },
    {
      "cell_type": "code",
      "execution_count": 43,
      "metadata": {
        "id": "Mtk0HIJur3Sj",
        "outputId": "313dcc78-0658-49e3-85dd-941968cd66af",
        "colab": {
          "base_uri": "https://localhost:8080/"
        }
      },
      "outputs": [
        {
          "output_type": "stream",
          "name": "stdout",
          "text": [
            "False\n",
            "False\n"
          ]
        }
      ],
      "source": [
        "A=np.random.randint(0,2,5)\n",
        "B=np.random.randint(0,2,5)\n",
        "#print(A)\n",
        "#print(B)\n",
        "print(np.allclose(A,B))  #with tolarance  assuming shape is same\n",
        "print(np.array_equal(A,B))  #comparing shape and element wise without tolarance"
      ]
    },
    {
      "cell_type": "markdown",
      "metadata": {
        "id": "OHabDWEmr3Sj"
      },
      "source": [
        "#### 43. Make an array immutable (read-only) (★★☆) \n",
        "(**hint**: flags.writeable)"
      ]
    },
    {
      "cell_type": "code",
      "execution_count": 44,
      "metadata": {
        "id": "5PFBx3x4r3Sj"
      },
      "outputs": [],
      "source": [
        "A=np.ones(20)\n",
        "A.flags.writeable=False     #read only\n",
        "#A[0]=10"
      ]
    },
    {
      "cell_type": "markdown",
      "metadata": {
        "id": "MdW7m5UZr3Sj"
      },
      "source": [
        "#### 44. Consider a random 10x2 matrix representing cartesian coordinates, convert them to polar coordinates (★★☆) \n",
        "(**hint**: np.sqrt, np.arctan2)"
      ]
    },
    {
      "cell_type": "code",
      "execution_count": 45,
      "metadata": {
        "id": "II8VaEPdr3Sj",
        "outputId": "d2c6584a-f8e8-4547-fa8b-fe6a7bce387d",
        "colab": {
          "base_uri": "https://localhost:8080/"
        }
      },
      "outputs": [
        {
          "output_type": "stream",
          "name": "stdout",
          "text": [
            "[0.41845659 0.68531499 0.92164333 0.17090287 0.7578188  0.85685362\n",
            " 0.68512982 1.2338868  0.209054   0.80216409]\n",
            "[1.05062375 1.09786649 0.89284519 0.11654496 0.61080349 0.98728409\n",
            " 1.24021079 0.82393415 1.39902226 0.78683949]\n"
          ]
        }
      ],
      "source": [
        "A=np.random.random((10,2))\n",
        "X,Y=A[:,0],A[:,1]\n",
        "R=np.sqrt(X**2+Y**2)   #radius\n",
        "T=np.arctan2(Y,X)\n",
        "print(R)\n",
        "print(T)"
      ]
    },
    {
      "cell_type": "markdown",
      "metadata": {
        "id": "7MnMx7WJr3Sk"
      },
      "source": [
        "#### 45. Create random vector of size 10 and replace the maximum value by 0 (★★☆) \n",
        "(**hint**: argmax)"
      ]
    },
    {
      "cell_type": "code",
      "execution_count": 46,
      "metadata": {
        "id": "cHBbD-Fvr3Sk",
        "outputId": "58d095ad-ec1f-4ea4-a440-87b539fc475b",
        "colab": {
          "base_uri": "https://localhost:8080/"
        }
      },
      "outputs": [
        {
          "output_type": "stream",
          "name": "stdout",
          "text": [
            "[ 0  7 18 43 21 19 15 13 40 31]\n"
          ]
        }
      ],
      "source": [
        "a=np.random.randint(0,50,10)\n",
        "#print(a)\n",
        "#print(a.max())\n",
        "a[a.argmax()]=0\n",
        "print(a)"
      ]
    },
    {
      "cell_type": "markdown",
      "metadata": {
        "id": "v18hs2lOr3Sk"
      },
      "source": [
        "#### 46. Create a structured array with `x` and `y` coordinates covering the \\[0,1\\]x\\[0,1\\] area (★★☆) \n",
        "(**hint**: np.meshgrid)"
      ]
    },
    {
      "cell_type": "code",
      "execution_count": 47,
      "metadata": {
        "id": "rPj-yFair3Sk",
        "outputId": "b301210e-a7e1-4a6b-ff2d-ffad9c99af2f",
        "colab": {
          "base_uri": "https://localhost:8080/"
        }
      },
      "outputs": [
        {
          "output_type": "stream",
          "name": "stdout",
          "text": [
            "[[(0.  , 0.  ) (0.25, 0.  ) (0.5 , 0.  ) (0.75, 0.  ) (1.  , 0.  )]\n",
            " [(0.  , 0.25) (0.25, 0.25) (0.5 , 0.25) (0.75, 0.25) (1.  , 0.25)]\n",
            " [(0.  , 0.5 ) (0.25, 0.5 ) (0.5 , 0.5 ) (0.75, 0.5 ) (1.  , 0.5 )]\n",
            " [(0.  , 0.75) (0.25, 0.75) (0.5 , 0.75) (0.75, 0.75) (1.  , 0.75)]\n",
            " [(0.  , 1.  ) (0.25, 1.  ) (0.5 , 1.  ) (0.75, 1.  ) (1.  , 1.  )]]\n"
          ]
        }
      ],
      "source": [
        "A=np.zeros((5,5),[('x',float),('y',float)])\n",
        "x=np.linspace(0,1,5)\n",
        "y=np.linspace(0,1,5)\n",
        "A['x'],A['y']=np.meshgrid(x,y)\n",
        "print(A)"
      ]
    },
    {
      "cell_type": "markdown",
      "metadata": {
        "id": "mIQhNi1yr3Sk"
      },
      "source": [
        "####  47. Given two arrays, X and Y, construct the Cauchy matrix C (Cij =1/(xi - yj)) \n",
        "(**hint**: np.subtract.outer)"
      ]
    },
    {
      "cell_type": "code",
      "execution_count": 48,
      "metadata": {
        "id": "3pvh199rr3Sk",
        "outputId": "a1482f01-352f-4f28-a324-e4f4460ce2d4",
        "colab": {
          "base_uri": "https://localhost:8080/"
        }
      },
      "outputs": [
        {
          "output_type": "stream",
          "name": "stdout",
          "text": [
            "3638.163637117973\n"
          ]
        }
      ],
      "source": [
        "X=np.arange(8)\n",
        "Y=X+0.5\n",
        "C=1/np.subtract.outer(X,Y)\n",
        "print(np.linalg.det(C))"
      ]
    },
    {
      "cell_type": "markdown",
      "metadata": {
        "id": "JBcwYfOLr3Sl"
      },
      "source": [
        "#### 48. Print the minimum and maximum representable value for each numpy scalar type (★★☆) \n",
        "(**hint**: np.iinfo, np.finfo, eps)"
      ]
    },
    {
      "cell_type": "code",
      "execution_count": 49,
      "metadata": {
        "id": "_tbANqsMr3Sl",
        "outputId": "92dc7d11-840d-4ac2-9ea5-44e88be5b749",
        "colab": {
          "base_uri": "https://localhost:8080/"
        }
      },
      "outputs": [
        {
          "output_type": "stream",
          "name": "stdout",
          "text": [
            "int\n",
            "-128\n",
            "127\n",
            "-2147483648\n",
            "2147483647\n",
            "-9223372036854775808\n",
            "9223372036854775807\n",
            "float\n",
            "-3.4028235e+38\n",
            "3.4028235e+38\n",
            "1.1920929e-07\n",
            "-1.7976931348623157e+308\n",
            "1.7976931348623157e+308\n",
            "2.220446049250313e-16\n"
          ]
        }
      ],
      "source": [
        "print(\"int\")\n",
        "for d_type in [np.int8,np.int32,np.int64]:\n",
        "    print(np.iinfo(d_type).min)\n",
        "    print(np.iinfo(d_type).max)\n",
        "print(\"float\")\n",
        "for d_type in [np.float32, np.float64]:\n",
        "    print(np.finfo(d_type).min)\n",
        "    print(np.finfo(d_type).max)\n",
        "    print(np.finfo(d_type).eps)"
      ]
    },
    {
      "cell_type": "markdown",
      "metadata": {
        "id": "0xrzaq8_r3Sl"
      },
      "source": [
        "49. How to print all the values of an array? (★★☆) \n",
        "(**hint**: np.set_printoptions)"
      ]
    },
    {
      "cell_type": "code",
      "execution_count": 50,
      "metadata": {
        "scrolled": true,
        "id": "we6w0FLjr3Sl",
        "outputId": "f7b08b17-ab99-4525-a68e-efc3f5aaf537",
        "colab": {
          "base_uri": "https://localhost:8080/"
        }
      },
      "outputs": [
        {
          "output_type": "stream",
          "name": "stdout",
          "text": [
            "[[0. 0. 0. 0.]\n",
            " [0. 0. 0. 0.]\n",
            " [0. 0. 0. 0.]\n",
            " [0. 0. 0. 0.]\n",
            " [0. 0. 0. 0.]\n",
            " [0. 0. 0. 0.]\n",
            " [0. 0. 0. 0.]\n",
            " [0. 0. 0. 0.]\n",
            " [0. 0. 0. 0.]\n",
            " [0. 0. 0. 0.]]\n"
          ]
        }
      ],
      "source": [
        "import sys\n",
        "np.set_printoptions(threshold=sys.maxsize)\n",
        "x = np.zeros((10, 4))\n",
        "print(x)"
      ]
    },
    {
      "cell_type": "markdown",
      "metadata": {
        "id": "u8Yvf7S0r3Sl"
      },
      "source": [
        "#### 50. How to find the closest value (to a given scalar) in a vector? (★★☆) \n",
        "(**hint**: argmin)"
      ]
    },
    {
      "cell_type": "code",
      "execution_count": 51,
      "metadata": {
        "id": "EAHsAvlRr3Sm",
        "outputId": "3954dc61-45d9-470f-c949-1e2228f4eed1",
        "colab": {
          "base_uri": "https://localhost:8080/"
        }
      },
      "outputs": [
        {
          "output_type": "stream",
          "name": "stdout",
          "text": [
            "72\n"
          ]
        }
      ],
      "source": [
        "A= np.arange(100)\n",
        "V=np.random.uniform(0,100)\n",
        "i=(np.abs(A-V)).argmin()\n",
        "print(A[i])"
      ]
    },
    {
      "cell_type": "markdown",
      "metadata": {
        "id": "bf34MGmMr3Sm"
      },
      "source": [
        " 51. Create a structured array representing a position (x,y) and a color (r,g,b) (★★☆) \n",
        "(**hint**: dtype)"
      ]
    },
    {
      "cell_type": "code",
      "execution_count": 52,
      "metadata": {
        "scrolled": true,
        "id": "GyZywi7_r3Sm",
        "outputId": "2aa070d4-5d3f-43ac-b03c-0eb61b971f9a",
        "colab": {
          "base_uri": "https://localhost:8080/"
        }
      },
      "outputs": [
        {
          "output_type": "stream",
          "name": "stdout",
          "text": [
            "[((0., 0.), (0., 0., 0.)) ((0., 0.), (0., 0., 0.))\n",
            " ((0., 0.), (0., 0., 0.)) ((0., 0.), (0., 0., 0.))\n",
            " ((0., 0.), (0., 0., 0.)) ((0., 0.), (0., 0., 0.))\n",
            " ((0., 0.), (0., 0., 0.)) ((0., 0.), (0., 0., 0.))\n",
            " ((0., 0.), (0., 0., 0.)) ((0., 0.), (0., 0., 0.))\n",
            " ((0., 0.), (0., 0., 0.)) ((0., 0.), (0., 0., 0.))\n",
            " ((0., 0.), (0., 0., 0.)) ((0., 0.), (0., 0., 0.))\n",
            " ((0., 0.), (0., 0., 0.)) ((0., 0.), (0., 0., 0.))\n",
            " ((0., 0.), (0., 0., 0.)) ((0., 0.), (0., 0., 0.))\n",
            " ((0., 0.), (0., 0., 0.)) ((0., 0.), (0., 0., 0.))]\n"
          ]
        },
        {
          "output_type": "stream",
          "name": "stderr",
          "text": [
            "<ipython-input-52-ccd27f365803>:1: FutureWarning: Passing (type, 1) or '1type' as a synonym of type is deprecated; in a future version of numpy, it will be understood as (type, (1,)) / '(1,)type'.\n",
            "  a=np.dtype([('position',[('x',float,1),('y',float,1)]),\n"
          ]
        }
      ],
      "source": [
        "a=np.dtype([('position',[('x',float,1),('y',float,1)]),\n",
        "           ('color',[('r',float,1),('g',float,1),('b',float,1)]\n",
        "          )])\n",
        "print(np.zeros(20,a))"
      ]
    },
    {
      "cell_type": "markdown",
      "metadata": {
        "id": "_fbGSQyxr3Sm"
      },
      "source": [
        "#### 52. Consider a random vector with shape (100,2) representing coordinates, find point by point distances (★★☆) \n",
        "(**hint**: np.atleast\\_2d, T, np.sqrt)"
      ]
    },
    {
      "cell_type": "code",
      "execution_count": 53,
      "metadata": {
        "id": "bZEU_Pccr3Sm",
        "outputId": "8f4619d0-9dea-45bd-f998-471915209cee",
        "colab": {
          "base_uri": "https://localhost:8080/"
        }
      },
      "outputs": [
        {
          "output_type": "stream",
          "name": "stdout",
          "text": [
            "[[0.         0.42804586 0.43266172 0.12747987 0.8374196  0.74695535\n",
            "  0.37163783 0.79138776 0.64764825 0.0981061  0.40925097 0.92899117\n",
            "  0.58167998 0.50516968 0.31261944 0.70139055 0.27470604 0.74833376\n",
            "  0.61136579 0.72034789 0.34872851 0.60911073 0.57428659 0.31632722\n",
            "  0.85002637 0.99657236 0.82562954 0.56309378 0.73215305 0.80842013\n",
            "  0.02415646 0.88602051 0.88015448 0.27676551 0.62903761 0.74595995\n",
            "  0.55384494 0.83351501 0.76111142 0.24982824 0.32758933 0.45293566\n",
            "  0.70958376 0.63415515 0.25812933 0.73466481 0.61948465 0.37061454\n",
            "  0.82153633 0.39681774 0.75387835 0.59752291 1.04256733 0.76440552\n",
            "  0.94897633 0.19401069 0.49144037 0.76922732 0.35749286 0.78527687\n",
            "  0.06928749 0.30106589 0.77495953 0.61756907 0.84509697 0.75413448\n",
            "  0.96782925 0.96578934 0.41305488 0.85953314 0.21806878 0.56502812\n",
            "  0.73147832 0.89958123 0.78836432 0.21041875 0.47824979 0.78215705\n",
            "  1.03349597 0.25645069 0.30985936 0.73789167 0.84958049 0.2282933\n",
            "  0.60235754 0.60886179 0.38793995 0.79539613 0.82739422 0.70722287\n",
            "  0.67518296 0.25282215 0.63478651 0.38120982 0.08128608 0.37408398\n",
            "  0.38265123 0.5547581  0.90763274 1.0778797 ]\n",
            " [0.42804586 0.         0.04672514 0.38738234 0.49965954 0.7040456\n",
            "  0.11940452 0.6757169  0.54078685 0.34797808 0.19277039 0.51345323\n",
            "  0.33883183 0.195724   0.54392219 0.7362926  0.28278617 0.32268104\n",
            "  0.53244707 0.6188423  0.30735978 0.29717458 0.16371376 0.4124928\n",
            "  0.44196412 0.60721231 0.57779035 0.13756058 0.31884572 0.61160412\n",
            "  0.41739104 0.51907627 0.45425764 0.41956954 0.31019378 0.82859378\n",
            "  0.12580961 0.44516476 0.38421218 0.24711169 0.38045714 0.39530374\n",
            "  0.32872728 0.25707558 0.27655001 0.31024988 0.45332504 0.2045014\n",
            "  0.42971971 0.20888067 0.37691915 0.60442891 0.67521005 0.43357526\n",
            "  0.62619736 0.38091949 0.24129128 0.34945719 0.53967486 0.42033948\n",
            "  0.49114594 0.12747396 0.36763158 0.18969392 0.5066584  0.33001335\n",
            "  0.59454921 0.56304572 0.06402573 0.54445653 0.48519842 0.64111711\n",
            "  0.31893427 0.50708245 0.64886506 0.34577444 0.12326972 0.3702464\n",
            "  0.69848332 0.19706751 0.38080472 0.73903429 0.47466063 0.53508522\n",
            "  0.17442657 0.63233111 0.58724135 0.39724308 0.40067556 0.28351508\n",
            "  0.6399925  0.43258569 0.61123256 0.20765706 0.34708985 0.47818351\n",
            "  0.29064796 0.18002652 0.54440181 0.73752413]\n",
            " [0.43266172 0.04672514 0.         0.37839811 0.53558783 0.75022953\n",
            "  0.16064021 0.72243206 0.58738457 0.34634104 0.23801024 0.5284079\n",
            "  0.38486161 0.24130117 0.57361736 0.78057789 0.31581241 0.31644203\n",
            "  0.57861909 0.6655242  0.27260731 0.33991832 0.19062107 0.44766205\n",
            "  0.46153958 0.63143282 0.62135946 0.13320464 0.3016006  0.65718858\n",
            "  0.42442818 0.48768306 0.44804926 0.4514099  0.35195515 0.87159639\n",
            "  0.13157685 0.47167606 0.35367077 0.22880649 0.34911755 0.43929082\n",
            "  0.35967071 0.22417978 0.25429118 0.32085874 0.50002855 0.16705738\n",
            "  0.45545619 0.16787159 0.40768929 0.64874715 0.70410448 0.47145655\n",
            "  0.66271575 0.36412157 0.19462329 0.33684437 0.57308803 0.45289015\n",
            "  0.49831491 0.14086184 0.34750524 0.19097834 0.54239326 0.32165117\n",
            "  0.62293251 0.58334946 0.10980388 0.58275158 0.46803971 0.68290214\n",
            "  0.33855819 0.53147897 0.69546487 0.32753442 0.07878642 0.38913436\n",
            "  0.73272445 0.22070191 0.41626988 0.78437194 0.44466978 0.55777509\n",
            "  0.18050011 0.67628669 0.62054501 0.3734753  0.40655559 0.27474709\n",
            "  0.68577962 0.462047   0.65656658 0.25091033 0.35141196 0.51530471\n",
            "  0.33308322 0.21821223 0.51245449 0.77067644]\n",
            " [0.12747987 0.38738234 0.37839811 0.         0.84874842 0.83539836\n",
            "  0.36750343 0.86517661 0.71826178 0.06790829 0.42775157 0.90073669\n",
            "  0.61321829 0.51096601 0.43237631 0.80358379 0.32895128 0.69159101\n",
            "  0.68676249 0.79513571 0.23075008 0.62179034 0.54755952 0.4079153\n",
            "  0.82755563 0.9866568  0.866128   0.51146706 0.66380763 0.86259715\n",
            "  0.14285162 0.79292721 0.82171272 0.3747084  0.64051428 0.85705315\n",
            "  0.50857098 0.82276244 0.67482891 0.15838294 0.20072436 0.52209934\n",
            "  0.70058158 0.55347707 0.15205168 0.69682548 0.67403264 0.27528596\n",
            "  0.80881051 0.29982931 0.74750769 0.69090325 1.04425434 0.77661212\n",
            "  0.96784186 0.06653356 0.39178136 0.70494758 0.47168426 0.78475207\n",
            "  0.18759309 0.27256924 0.70167428 0.56935794 0.85631923 0.69496092\n",
            "  0.96601893 0.94751337 0.39188192 0.87953308 0.12195001 0.67030649\n",
            "  0.70516331 0.88719723 0.85642802 0.08761659 0.40575317 0.75656412\n",
            "  1.0488877  0.26561361 0.39360429 0.83482305 0.7600397  0.35404009\n",
            "  0.55791407 0.70598492 0.50635121 0.71674284 0.78470667 0.64860407\n",
            "  0.76292329 0.35679118 0.72343141 0.40633314 0.10958382 0.47402805\n",
            "  0.43279341 0.54312693 0.81288872 1.09163572]\n",
            " [0.8374196  0.49965954 0.53558783 0.84874842 0.         0.54519214\n",
            "  0.48141361 0.43646252 0.40693773 0.79135783 0.42834001 0.28262937\n",
            "  0.27172936 0.33781101 0.7628412  0.65613977 0.5728701  0.4409318\n",
            "  0.44230079 0.43317109 0.80684129 0.22865071 0.35012472 0.61781944\n",
            "  0.22321974 0.21304151 0.19740768 0.45580457 0.51431998 0.2922622\n",
            "  0.81767088 0.73740893 0.47241225 0.65671559 0.2090988  0.76633404\n",
            "  0.43365128 0.14550884 0.64127727 0.73630434 0.87964543 0.47115572\n",
            "  0.18519072 0.58969145 0.76947466 0.32726009 0.32569882 0.70244936\n",
            "  0.15891631 0.70279044 0.14420773 0.56421822 0.21298268 0.0730143\n",
            "  0.12739833 0.86139613 0.70398047 0.49064529 0.71917749 0.09552655\n",
            "  0.87999591 0.58163847 0.55210092 0.41758607 0.00767856 0.45645714\n",
            "  0.15519295 0.23768069 0.46748955 0.06439657 0.96254844 0.65601877\n",
            "  0.26203342 0.16913273 0.3916314  0.83044443 0.57839508 0.24505599\n",
            "  0.20081998 0.58755939 0.59731453 0.61749529 0.69338589 0.81866008\n",
            "  0.40617179 0.5936579  0.7545546  0.59403728 0.35403959 0.4540358\n",
            "  0.52664157 0.6871742  0.53044331 0.45639515 0.76996602 0.63195472\n",
            "  0.47484729 0.31983159 0.76128024 0.24289717]\n",
            " [0.74695535 0.7040456  0.75022953 0.83539836 0.54519214 0.\n",
            "  0.59686991 0.12629921 0.17061071 0.76799427 0.51331689 0.81773743\n",
            "  0.40116742 0.52973214 0.48485122 0.13146775 0.51708116 0.8725299\n",
            "  0.17161047 0.11307547 0.93806583 0.48942192 0.66690245 0.43100324\n",
            "  0.74206481 0.75310101 0.36365982 0.77067083 0.92330017 0.26874113\n",
            "  0.72289608 1.16194261 0.95728323 0.47042309 0.49553196 0.23102796\n",
            "  0.74135773 0.66916211 1.03568028 0.81903564 0.97653568 0.32727088\n",
            "  0.61318004 0.93132898 0.85393986 0.76966947 0.27250621 0.86759278\n",
            "  0.67466688 0.88428907 0.61315924 0.1524275  0.71446513 0.51411531\n",
            "  0.55538228 0.88486633 0.94168576 0.92294466 0.42471768 0.59232685\n",
            "  0.7457295  0.68046775 0.97393511 0.77364785 0.54905597 0.88809232\n",
            "  0.68847065 0.78267925 0.64042779 0.50337106 0.95358557 0.22487369\n",
            "  0.70959308 0.71122081 0.16663284 0.87309252 0.82689815 0.72681771\n",
            "  0.62777538 0.61690242 0.44199569 0.07661938 1.11419898 0.58325924\n",
            "  0.7516594  0.1519099  0.42550724 1.01569346 0.840388   0.86119836\n",
            "  0.0724869  0.49656713 0.11230021 0.5070373  0.72606813 0.37619727\n",
            "  0.43593554 0.59950889 1.18827054 0.6672223 ]\n",
            " [0.37163783 0.11940452 0.16064021 0.36750343 0.48141361 0.59686991\n",
            "  0.         0.58080204 0.43959503 0.31227537 0.08572875 0.55962573\n",
            "  0.26526297 0.14403048 0.43318326 0.62097123 0.17058697 0.41548684\n",
            "  0.42586526 0.51935965 0.36269438 0.25595511 0.20961508 0.29579969\n",
            "  0.47909784 0.62612299 0.51849706 0.24006867 0.42530318 0.53575867\n",
            "  0.35566839 0.63602279 0.54340643 0.30687801 0.27402606 0.71101687\n",
            "  0.21884297 0.46253264 0.50107423 0.26532068 0.42149978 0.27968401\n",
            "  0.33871799 0.37558727 0.30095596 0.37500912 0.36170928 0.27619297\n",
            "  0.45015742 0.28995383 0.38405594 0.48928861 0.67802074 0.40957864\n",
            "  0.60190304 0.38187659 0.34554179 0.44992272 0.42425195 0.41866637\n",
            "  0.42607494 0.10510951 0.4762089  0.27999045 0.48896194 0.42550664\n",
            "  0.60088515 0.59415719 0.06160503 0.51448256 0.48159992 0.52237191\n",
            "  0.36280962 0.52837844 0.55856705 0.35311211 0.23941096 0.41264025\n",
            "  0.68184395 0.11553219 0.26398848 0.62695413 0.59083498 0.43600858\n",
            "  0.2595981  0.51635326 0.47176691 0.50895165 0.47032775 0.38117682\n",
            "  0.53027518 0.32329607 0.49935903 0.09120954 0.29644615 0.35968621\n",
            "  0.172476   0.18312145 0.66162613 0.7243066 ]\n",
            " [0.79138776 0.6757169  0.72243206 0.86517661 0.43646252 0.12629921\n",
            "  0.58080204 0.         0.14744254 0.79729641 0.49507412 0.71573824\n",
            "  0.34575836 0.4869292  0.56272442 0.256979   0.53702288 0.80050588\n",
            "  0.18002683 0.07110266 0.93788074 0.42313384 0.61070939 0.47864562\n",
            "  0.64493553 0.63860885 0.24569291 0.72131753 0.85802929 0.14823286\n",
            "  0.76728497 1.09717733 0.87327067 0.52195046 0.42461479 0.35672176\n",
            "  0.69202397 0.5692179  0.97650312 0.82551461 0.98553943 0.34307811\n",
            "  0.52991236 0.88217099 0.8615054  0.69192325 0.22246896 0.85692298\n",
            "  0.57687456 0.87049503 0.52216445 0.2371399  0.59345946 0.41571793\n",
            "  0.43375231 0.90786992 0.91696097 0.85200327 0.50305412 0.49481797\n",
            "  0.80058247 0.67537028 0.90670175 0.71527524 0.43943492 0.8164671\n",
            "  0.57277243 0.67360733 0.61456496 0.38879354 0.98633239 0.32841147\n",
            "  0.62827752 0.60512687 0.04496222 0.89118751 0.79525959 0.63863238\n",
            "  0.50342547 0.62402805 0.48160546 0.20262094 1.04972711 0.65554832\n",
            "  0.69453418 0.25051248 0.51349348 0.94933856 0.75400629 0.79461802\n",
            "  0.15460747 0.55157021 0.18766568 0.49699183 0.7582906  0.43853463\n",
            "  0.44012804 0.54535298 1.12319495 0.54207096]\n",
            " [0.64764825 0.54078685 0.58738457 0.71826178 0.40693773 0.17061071\n",
            "  0.43959503 0.14744254 0.         0.65042417 0.35420595 0.66520699\n",
            "  0.23068731 0.36067369 0.44124004 0.25395237 0.38977261 0.70289157\n",
            "  0.04562657 0.08027006 0.79285745 0.31998635 0.49635724 0.33939912\n",
            "  0.58562907 0.61982796 0.2580715  0.60101763 0.75278998 0.18940147\n",
            "  0.62364763 0.99135152 0.79106606 0.38365234 0.3272518  0.36452392\n",
            "  0.57165573 0.51642184 0.86515807 0.67905237 0.83891296 0.19643645\n",
            "  0.44866892 0.76194867 0.71493693 0.60177513 0.10274618 0.7147296\n",
            "  0.51971679 0.72945914 0.45347109 0.15996333 0.59892659 0.3633494\n",
            "  0.4472552  0.76046087 0.78084891 0.75304433 0.38407993 0.438576\n",
            "  0.66059789 0.53095042 0.8035383  0.60307046 0.41211981 0.71835589\n",
            "  0.55907922 0.63951642 0.47803919 0.37788644 0.83962481 0.25618462\n",
            "  0.54335114 0.56498039 0.14093269 0.74377431 0.66261614 0.56395881\n",
            "  0.5296235  0.477122   0.33897544 0.22691233 0.94360647 0.52736591\n",
            "  0.58112294 0.18780993 0.40388559 0.84520984 0.67577079 0.69082353\n",
            "  0.12554386 0.41446759 0.12352967 0.35313889 0.61189255 0.30929522\n",
            "  0.29302169 0.42901307 1.01768449 0.57340528]\n",
            " [0.0981061  0.34797808 0.34634104 0.06790829 0.79135783 0.76799427\n",
            "  0.31227537 0.79729641 0.65042417 0.         0.36650685 0.85804731\n",
            "  0.55002837 0.45389141 0.37695689 0.73841207 0.26133359 0.66271493\n",
            "  0.61885469 0.72723355 0.25458483 0.56328206 0.5028733  0.34181067\n",
            "  0.78218567 0.9366704  0.80177811 0.47893097 0.64187227 0.79614783\n",
            "  0.10252818 0.78910331 0.794152   0.31017965 0.58243006 0.79465144\n",
            "  0.47258011 0.77271131 0.66545705 0.15174484 0.24466037 0.45421842\n",
            "  0.6494818  0.53965699 0.16120305 0.6579889  0.60730046 0.27266525\n",
            "  0.75946965 0.2988152  0.6956166  0.624221   0.99027672 0.71877918\n",
            "  0.90856567 0.12176249 0.3934017  0.68057919 0.41221992 0.73094052\n",
            "  0.16723536 0.22533691 0.68305992 0.53526814 0.79897783 0.66750389\n",
            "  0.91308287 0.90070057 0.34346578 0.81979037 0.18937069 0.60625235\n",
            "  0.66105011 0.83793072 0.78874887 0.12485336 0.38550677 0.71231566\n",
            "  0.9907004  0.20445886 0.32649987 0.76851655 0.75331533 0.30691157\n",
            "  0.52177697 0.63989357 0.44925725 0.701839   0.74854753 0.62067472\n",
            "  0.69550931 0.29420697 0.65613599 0.34336226 0.0444764  0.40926623\n",
            "  0.36593886 0.49223622 0.8104554  1.0339788 ]\n",
            " [0.40925097 0.19277039 0.23801024 0.42775157 0.42834001 0.51331689\n",
            "  0.08572875 0.49507412 0.35420595 0.36650685 0.         0.54818744\n",
            "  0.18774533 0.10152536 0.40493559 0.54388905 0.15754733 0.44673493\n",
            "  0.34187613 0.43382236 0.44661717 0.19986613 0.22407309 0.25648987\n",
            "  0.46360521 0.59355868 0.44246977 0.28919221 0.46976223 0.45339339\n",
            "  0.38993239 0.69311286 0.56762418 0.27901955 0.2197924  0.63797949\n",
            "  0.26307879 0.43362993 0.55910205 0.3436063  0.50224999 0.2037909\n",
            "  0.31147226 0.43916008 0.37976476 0.38517632 0.27641835 0.3618886\n",
            "  0.4239086  0.37560681 0.35180545 0.41205366 0.63387046 0.35533913\n",
            "  0.54261232 0.45094445 0.42838193 0.48739083 0.38481635 0.37861858\n",
            "  0.45455163 0.18511206 0.52201601 0.31636248 0.43601327 0.45887749\n",
            "  0.56045283 0.57082272 0.12875776 0.4535738  0.54646554 0.45372764\n",
            "  0.35815291 0.49992015 0.47310576 0.42535378 0.31599397 0.4039554\n",
            "  0.62577884 0.16228605 0.22593344 0.54637888 0.64660239 0.42747434\n",
            "  0.29390161 0.44037769 0.4311764  0.55828969 0.47995876 0.41816047\n",
            "  0.44796977 0.30223517 0.41857109 0.03293048 0.34227624 0.30989161\n",
            "  0.10699339 0.17366904 0.71921034 0.66969272]\n",
            " [0.92899117 0.51345323 0.5284079  0.90073669 0.28262937 0.81773743\n",
            "  0.55962573 0.71573824 0.66520699 0.85804731 0.54818744 0.\n",
            "  0.47088487 0.4475825  0.94307598 0.91909916 0.70553412 0.2742985\n",
            "  0.69310543 0.70466802 0.78559483 0.38543095 0.35539419 0.79149409\n",
            "  0.0863773  0.15849785 0.48003598 0.40243514 0.34832284 0.57414954\n",
            "  0.91435735 0.51913426 0.23138799 0.82165179 0.36830136 1.02971915\n",
            "  0.39720196 0.14894093 0.46078679 0.75694856 0.86688097 0.67270319\n",
            "  0.2435419  0.46613881 0.78248981 0.20939432 0.57003416 0.68084566\n",
            "  0.14611656 0.67060224 0.2184672  0.81293898 0.26426565 0.3037348\n",
            "  0.3490935  0.89214812 0.63367056 0.30653001 0.91140893 0.22666539\n",
            "  0.98555322 0.63275191 0.36349305 0.34441599 0.28126844 0.28402596\n",
            "  0.20329202 0.08544372 0.51628651 0.34083685 0.99626851 0.89641998\n",
            "  0.1975294  0.11602116 0.67131475 0.8558402  0.53239587 0.14700237\n",
            "  0.35773883 0.67486297 0.76421918 0.88666701 0.48281518 0.97527268\n",
            "  0.34949655 0.84402259 0.95348361 0.39722328 0.14881248 0.31036922\n",
            "  0.78987752 0.84763278 0.78668759 0.5810974  0.8506942  0.82642942\n",
            "  0.63399688 0.37909434 0.53891936 0.37028747]\n",
            " [0.58167998 0.33883183 0.38486161 0.61321829 0.27172936 0.40116742\n",
            "  0.26526297 0.34575836 0.23068731 0.55002837 0.18774533 0.47088487\n",
            "  0.         0.14401954 0.49310243 0.47288795 0.30920092 0.47298439\n",
            "  0.2423358  0.29889484 0.6265053  0.09285896 0.26717559 0.34635355\n",
            "  0.38570596 0.46852105 0.25473267 0.3757944  0.52213338 0.27355543\n",
            "  0.56029122 0.76085031 0.5667681  0.3849866  0.10523382 0.58050317\n",
            "  0.34645053 0.32934324 0.63565531 0.52970367 0.68675627 0.20583492\n",
            "  0.23374685 0.53684896 0.56563313 0.37530506 0.1290829  0.5339088\n",
            "  0.32685657 0.54338382 0.25248394 0.35270405 0.48468938 0.2027639\n",
            "  0.37023295 0.63855629 0.57874674 0.52276389 0.45254249 0.25611908\n",
            "  0.61777231 0.36976021 0.57285301 0.37340402 0.27914285 0.48830106\n",
            "  0.42134686 0.46629361 0.28252961 0.28111284 0.73304422 0.42866456\n",
            "  0.32119934 0.38981853 0.31416517 0.61307632 0.4537711  0.34953686\n",
            "  0.45659832 0.34791464 0.32559766 0.45500021 0.71311408 0.5469481\n",
            "  0.35181941 0.38429249 0.49092903 0.61453623 0.45547294 0.46014499\n",
            "  0.35157943 0.41550274 0.33658702 0.20689079 0.52190979 0.36541261\n",
            "  0.20570781 0.20056314 0.78716193 0.50193061]\n",
            " [0.50516968 0.195724   0.24130117 0.51096601 0.33781101 0.52973214\n",
            "  0.14403048 0.4869292  0.36067369 0.45389141 0.10152536 0.4475825\n",
            "  0.14401954 0.         0.49949988 0.58275495 0.25894461 0.37048472\n",
            "  0.36119645 0.43504073 0.49193938 0.11224232 0.14665896 0.3486001\n",
            "  0.36257042 0.49332292 0.38482729 0.24120356 0.40592467 0.41592367\n",
            "  0.48692983 0.63979213 0.48325081 0.37555473 0.13000776 0.68454542\n",
            "  0.21201968 0.33246572 0.50956165 0.40556229 0.55734927 0.26035342\n",
            "  0.20996866 0.40160101 0.44034114 0.2947864  0.26541912 0.39504191\n",
            "  0.32247904 0.40266117 0.25094605 0.45378496 0.53791881 0.26568515\n",
            "  0.45788697 0.52565931 0.43479875 0.41581062 0.47392572 0.28012388\n",
            "  0.55347497 0.24688199 0.4582178  0.25119261 0.34539559 0.38419968\n",
            "  0.46265966 0.46933826 0.14338397 0.37066849 0.62563008 0.51170435\n",
            "  0.26077035 0.39880403 0.4572199  0.49620112 0.30983558 0.30466289\n",
            "  0.53798017 0.25109422 0.31963611 0.57484497 0.59225486 0.52769298\n",
            "  0.22835789 0.48437319 0.5188161  0.49767303 0.38752067 0.34825842\n",
            "  0.47207332 0.4005531  0.44947299 0.13414564 0.43428017 0.3935609\n",
            "  0.19133084 0.08312872 0.66618928 0.58067901]\n",
            " [0.31261944 0.54392219 0.57361736 0.43237631 0.7628412  0.48485122\n",
            "  0.43318326 0.56272442 0.44124004 0.37695689 0.40493559 0.94307598\n",
            "  0.49310243 0.49949988 0.         0.41001846 0.26266475 0.84621198\n",
            "  0.39649931 0.49479734 0.618359   0.5629759  0.62788178 0.15158704\n",
            "  0.85688623 0.96088479 0.67885412 0.67313264 0.85838881 0.62832044\n",
            "  0.29213745 1.061254   0.97079212 0.1269748  0.58218245 0.43849697\n",
            "  0.65184842 0.81359887 0.92693082 0.49642954 0.62102455 0.29294639\n",
            "  0.6999945  0.79778731 0.52089004 0.79010705 0.46175059 0.59742295\n",
            "  0.80763053 0.62245607 0.73216377 0.33368742 0.97532048 0.69569663\n",
            "  0.84595287 0.49621682 0.7104754  0.88267256 0.06025346 0.74556636\n",
            "  0.28502564 0.43928959 0.90900559 0.71179068 0.77002033 0.8570862\n",
            "  0.91435452 0.95277942 0.49446548 0.76121297 0.53027153 0.2726472\n",
            "  0.76026897 0.8774933  0.57443672 0.5015573  0.64520952 0.80337762\n",
            "  0.93317454 0.35456975 0.17987433 0.45648936 1.01778556 0.10095965\n",
            "  0.69053594 0.33407042 0.07571508 0.94058856 0.8847562  0.81364256\n",
            "  0.41962598 0.11157328 0.38029402 0.37318661 0.33357383 0.13557844\n",
            "  0.30933587 0.57795505 1.08607182 0.97886598]\n",
            " [0.70139055 0.7362926  0.78057789 0.80358379 0.65613977 0.13146775\n",
            "  0.62097123 0.256979   0.25395237 0.73841207 0.54388905 0.91909916\n",
            "  0.47288795 0.58275495 0.41001846 0.         0.50820869 0.94383221\n",
            "  0.23105161 0.22766183 0.93577183 0.56538348 0.72728174 0.39723868\n",
            "  0.83951087 0.86758007 0.48526598 0.82176558 0.98719631 0.39387395\n",
            "  0.67806708 1.22252538 1.0393613  0.4289493  0.57522413 0.11067339\n",
            "  0.79314623 0.77025632 1.09197561 0.81240676 0.96391691 0.34134484\n",
            "  0.70003169 0.97907369 0.84532371 0.84817932 0.35271688 0.8776198\n",
            "  0.77366859 0.89716352 0.70699663 0.13186374 0.83620396 0.6166388\n",
            "  0.67854489 0.85921557 0.9646023  0.9924596  0.35294878 0.69244129\n",
            "  0.68858425 0.69007054 1.03908846 0.8334451  0.66074924 0.95877337\n",
            "  0.80461673 0.89140848 0.6724364  0.62013048 0.91618468 0.13795742\n",
            "  0.79258428 0.81765151 0.29494077 0.85292119 0.85915316 0.81597846\n",
            "  0.75391636 0.61637186 0.41669346 0.06106195 1.17495562 0.51097731\n",
            "  0.81074124 0.10522155 0.34076059 1.07944755 0.92617321 0.92734224\n",
            "  0.12971919 0.44922177 0.13630608 0.52990883 0.69454123 0.32961977\n",
            "  0.44966649 0.66014302 1.24892576 0.79446263]\n",
            " [0.27470604 0.28278617 0.31581241 0.32895128 0.5728701  0.51708116\n",
            "  0.17058697 0.53702288 0.38977261 0.26133359 0.15754733 0.70553412\n",
            "  0.30920092 0.25894461 0.26266475 0.50820869 0.         0.58504882\n",
            "  0.36013923 0.46754116 0.42760338 0.34866688 0.37118131 0.13309962\n",
            "  0.62112274 0.74837214 0.55095915 0.4104679  0.59572412 0.53726419\n",
            "  0.25244107 0.80169745 0.71146804 0.13693051 0.36897542 0.58356526\n",
            "  0.38939396 0.5900733  0.66691887 0.30485016 0.46001224 0.19453573\n",
            "  0.46867292 0.53889703 0.33866706 0.53612255 0.34792712 0.37426631\n",
            "  0.58085505 0.39597959 0.50794132 0.38297144 0.78282897 0.50035413\n",
            "  0.67891034 0.37122544 0.47370112 0.62040768 0.25733595 0.5319873\n",
            "  0.30865431 0.19263    0.64638959 0.44998769 0.58051856 0.59548256\n",
            "  0.71207991 0.72786847 0.23180087 0.58952946 0.45070097 0.38984669\n",
            "  0.5139495  0.65621586 0.52748021 0.35672939 0.39096682 0.56071884\n",
            "  0.76466158 0.11062672 0.10281384 0.52822035 0.75744227 0.27154708\n",
            "  0.42911341 0.40411681 0.30484381 0.67833977 0.63161273 0.55153677\n",
            "  0.44509475 0.15286702 0.40757454 0.12479901 0.22493754 0.20413631\n",
            "  0.10809518 0.32868179 0.82689073 0.80966087]\n",
            " [0.74833376 0.32268104 0.31644203 0.69159101 0.4409318  0.8725299\n",
            "  0.41548684 0.80050588 0.70289157 0.66271493 0.44673493 0.2742985\n",
            "  0.47298439 0.37048472 0.84621198 0.94383221 0.58504882 0.\n",
            "  0.7147205  0.76561925 0.53765611 0.38310851 0.22497773 0.70181585\n",
            "  0.25017822 0.4216817  0.60990096 0.18553117 0.07721863 0.68475072\n",
            "  0.73897053 0.30090392 0.13183756 0.71924769 0.3778404  1.04923544\n",
            "  0.19907156 0.3088842  0.20194025 0.53612165 0.61970957 0.63083813\n",
            "  0.27687327 0.19316416 0.55467753 0.11470017 0.60026121 0.43913542\n",
            "  0.29131727 0.42358778 0.30175769 0.81864078 0.52066624 0.41273552\n",
            "  0.55306382 0.66903566 0.37051142 0.05182831 0.83084218 0.3468472\n",
            "  0.81287469 0.44980515 0.1115189  0.13575876 0.44435398 0.0161204\n",
            "  0.445108   0.35369973 0.35633669 0.50463475 0.77009749 0.88163938\n",
            "  0.18165869 0.33836745 0.76127178 0.63131835 0.29073933 0.19855357\n",
            "  0.59224246 0.51666349 0.67054416 0.92798118 0.25494892 0.85080703\n",
            "  0.15595748 0.84986337 0.87755921 0.15411479 0.12558464 0.04373334\n",
            "  0.82452881 0.73786216 0.80795069 0.47612246 0.66705405 0.7564248\n",
            "  0.55240077 0.28800938 0.3260986  0.61653066]\n",
            " [0.61136579 0.53244707 0.57861909 0.68676249 0.44230079 0.17161047\n",
            "  0.42586526 0.18002683 0.04562657 0.61885469 0.34187613 0.69310543\n",
            "  0.2423358  0.36119645 0.39649931 0.23105161 0.36013923 0.7147205\n",
            "  0.         0.10905141 0.77223344 0.33452169 0.50206102 0.29962575\n",
            "  0.61172286 0.65530921 0.30177337 0.60237809 0.76094655 0.23502804\n",
            "  0.58726668 0.99821975 0.80837507 0.34343196 0.34417252 0.34000576\n",
            "  0.57321591 0.54499205 0.86984601 0.65575366 0.81487303 0.16564432\n",
            "  0.46939164 0.76235904 0.69127592 0.61740751 0.12322238 0.69828543\n",
            "  0.54706493 0.7143019  0.47827255 0.12196868 0.63867448 0.39427818\n",
            "  0.48902022 0.7313368  0.77025252 0.76399488 0.33896438 0.46720241\n",
            "  0.62155336 0.51219263 0.81237443 0.60885088 0.44785066 0.72987536\n",
            "  0.59592549 0.67163961 0.46881735 0.41698226 0.80749944 0.21527898\n",
            "  0.56153484 0.59626116 0.1810548  0.71631565 0.65534767 0.58551766\n",
            "  0.57233068 0.4531374  0.3016234  0.21436139 0.9505017  0.48390992\n",
            "  0.58646377 0.15198181 0.35828341 0.85341339 0.69518526 0.70001963\n",
            "  0.11102586 0.37371251 0.09500728 0.3367117  0.57920616 0.2656203\n",
            "  0.26951017 0.43453067 1.02461398 0.61645787]\n",
            " [0.72034789 0.6188423  0.6655242  0.79513571 0.43317109 0.11307547\n",
            "  0.51935965 0.07110266 0.08027006 0.72723355 0.43382236 0.70466802\n",
            "  0.29889484 0.43504073 0.49479734 0.22766183 0.46754116 0.76561925\n",
            "  0.10905141 0.         0.8731167  0.38333199 0.56606841 0.40760037\n",
            "  0.62911764 0.64252396 0.25762866 0.67358071 0.81911951 0.16836544\n",
            "  0.69623897 1.05831473 0.84674414 0.45098803 0.38778913 0.33571891\n",
            "  0.64418462 0.55608801 0.93436215 0.75904819 0.91881274 0.27317762\n",
            "  0.50227361 0.83474313 0.79488107 0.66063662 0.17041261 0.79477464\n",
            "  0.56165396 0.80929721 0.500758   0.17719177 0.60856108 0.40104056\n",
            "  0.45097776 0.83868201 0.85944553 0.81651932 0.43554833 0.47929371\n",
            "  0.7295631  0.61121321 0.86903408 0.67215479 0.43725251 0.78135484\n",
            "  0.57862071 0.67035991 0.55654109 0.3936463  0.91609854 0.27301225\n",
            "  0.59940466 0.59847382 0.08198807 0.82270007 0.74002138 0.6150578\n",
            "  0.52743984 0.5569215  0.41053764 0.18442858 1.0106397  0.5862847\n",
            "  0.65068071 0.19591446 0.44847703 0.91121332 0.72915062 0.75636066\n",
            "  0.10477658 0.48073594 0.12859137 0.43333264 0.68791172 0.36867015\n",
            "  0.37274409 0.49934715 1.08453994 0.56882208]\n",
            " [0.34872851 0.30735978 0.27260731 0.23075008 0.80684129 0.93806583\n",
            "  0.36269438 0.93788074 0.79285745 0.25458483 0.44661717 0.78559483\n",
            "  0.6265053  0.49193938 0.618359   0.93577183 0.42760338 0.53765611\n",
            "  0.77223344 0.8731167  0.         0.60042871 0.46298981 0.54677128\n",
            "  0.72622921 0.89999757 0.87639519 0.38404993 0.49124319 0.89835942\n",
            "  0.35676353 0.57876164 0.6584427  0.52747823 0.61500087 1.00770515\n",
            "  0.39401983 0.74263033 0.47255112 0.12491653 0.08209302 0.61079901\n",
            "  0.63227102 0.36622189 0.09749126 0.57639647 0.7226256  0.10651315\n",
            "  0.72598143 0.11520494 0.68026315 0.81000701 0.97591535 0.74088554\n",
            "  0.93352795 0.17411205 0.18250322 0.53713741 0.64390324 0.72544289\n",
            "  0.41487074 0.2627111  0.51889145 0.44130584 0.8137835  0.53655009\n",
            "  0.89459018 0.84777457 0.34875583 0.85161324 0.25286745 0.81422142\n",
            "  0.60499796 0.80063579 0.91859412 0.14336419 0.25325296 0.6539904\n",
            "  1.00495819 0.32164801 0.52233967 0.95480669 0.55097947 0.55862574\n",
            "  0.43835423 0.83169582 0.6858428  0.52474421 0.65006784 0.49417862\n",
            "  0.86741438 0.52085896 0.83165822 0.44108321 0.2917895  0.61982839\n",
            "  0.50287901 0.48738446 0.59649188 1.04320857]\n",
            " [0.60911073 0.29717458 0.33991832 0.62179034 0.22865071 0.48942192\n",
            "  0.25595511 0.42313384 0.31998635 0.56328206 0.19986613 0.38543095\n",
            "  0.09285896 0.11224232 0.5629759  0.56538348 0.34866688 0.38310851\n",
            "  0.33452169 0.38333199 0.60042871 0.         0.18999256 0.4123282\n",
            "  0.29929202 0.40201427 0.28180832 0.30405699 0.43599573 0.32768715\n",
            "  0.58965843 0.67527675 0.47404227 0.4466201  0.0203091  0.67327193\n",
            "  0.27553255 0.25063505 0.55337011 0.51748897 0.66786631 0.28735337\n",
            "  0.14375213 0.46270001 0.55205077 0.28289491 0.21726352 0.50076196\n",
            "  0.24522925 0.5060546  0.16963373 0.44551496 0.43485725 0.15574169\n",
            "  0.34617045 0.63778425 0.52773899 0.43360307 0.52775315 0.18490497\n",
            "  0.65322044 0.35911607 0.48571029 0.29249711 0.23631389 0.39867826\n",
            "  0.36342974 0.38980596 0.25217233 0.25852914 0.73737546 0.52008269\n",
            "  0.22839376 0.31475936 0.38713707 0.60844273 0.39984154 0.25822189\n",
            "  0.42742499 0.35914767 0.38751185 0.54595065 0.62766106 0.60612458\n",
            "  0.2722677  0.47710172 0.56883427 0.52794831 0.3627099  0.3730667\n",
            "  0.44282867 0.47513501 0.42908395 0.22873569 0.54133114 0.44189997\n",
            "  0.25862005 0.12947414 0.70144709 0.47077811]\n",
            " [0.57428659 0.16371376 0.19062107 0.54755952 0.35012472 0.66690245\n",
            "  0.20961508 0.61070939 0.49635724 0.5028733  0.22407309 0.35539419\n",
            "  0.26717559 0.14665896 0.62788178 0.72728174 0.37118131 0.22497773\n",
            "  0.50206102 0.56606841 0.46298981 0.18999256 0.         0.48051012\n",
            "  0.28000487 0.44351247 0.46282598 0.11515349 0.25999097 0.51690321\n",
            "  0.56037798 0.49616382 0.34355243 0.50121894 0.1939324  0.83030427\n",
            "  0.08799841 0.2819092  0.36880651 0.41082064 0.53967833 0.40656241\n",
            "  0.16967805 0.27272355 0.44000288 0.16570057 0.39606049 0.35690068\n",
            "  0.26619076 0.3547457  0.21743015 0.59939702 0.51356393 0.29116727\n",
            "  0.47748308 0.54430645 0.35499842 0.26927903 0.60886394 0.26361402\n",
            "  0.63244444 0.27753773 0.31208206 0.1068461  0.35654504 0.23820892\n",
            "  0.43247843 0.40023903 0.16123183 0.40198281 0.6485208  0.65832462\n",
            "  0.15817685 0.34337915 0.57612581 0.5094118  0.22840087 0.20946945\n",
            "  0.5441597  0.32265991 0.44975764 0.71641865 0.44845351 0.6419429\n",
            "  0.08476921 0.63021302 0.65509919 0.35216715 0.26123096 0.20160625\n",
            "  0.61302583 0.52230104 0.59277404 0.25491825 0.4954817  0.53252632\n",
            "  0.32828818 0.06754457 0.52256062 0.5811381 ]\n",
            " [0.31632722 0.4124928  0.44766205 0.4079153  0.61781944 0.43100324\n",
            "  0.29579969 0.47864562 0.33939912 0.34181067 0.25648987 0.79149409\n",
            "  0.34635355 0.3486001  0.15158704 0.39723868 0.13309962 0.70181585\n",
            "  0.29962575 0.40760037 0.54677128 0.4123282  0.48051012 0.\n",
            "  0.70531694 0.81198577 0.55189443 0.53457187 0.71916597 0.5149701\n",
            "  0.29220514 0.93133635 0.82404951 0.04459413 0.43176125 0.46133559\n",
            "  0.51135781 0.66279273 0.79639062 0.4219502  0.56852561 0.15812093\n",
            "  0.54847274 0.66948598 0.45295151 0.6408606  0.33417398 0.50308492\n",
            "  0.65650523 0.52580501 0.58112989 0.28344515 0.83078773 0.54899724\n",
            "  0.70776927 0.46211553 0.60589868 0.74050856 0.12923537 0.59584533\n",
            "  0.3219864  0.32521436 0.77067709 0.56903521 0.62515884 0.71339334\n",
            "  0.76732225 0.80204178 0.35728066 0.62095976 0.52379037 0.26863667\n",
            "  0.60930005 0.7270701  0.47992446 0.45589995 0.52360751 0.6519799\n",
            "  0.79513595 0.24144658 0.03181429 0.42691011 0.88644182 0.2030717\n",
            "  0.54716165 0.29811258 0.17645166 0.80436543 0.73502011 0.67120987\n",
            "  0.35900892 0.0763546  0.31872615 0.22587652 0.29840243 0.07333127\n",
            "  0.15784812 0.42811653 0.95678229 0.84087783]\n",
            " [0.85002637 0.44196412 0.46153958 0.82755563 0.22321974 0.74206481\n",
            "  0.47909784 0.64493553 0.58562907 0.78218567 0.46360521 0.0863773\n",
            "  0.38570596 0.36257042 0.85688623 0.83951087 0.62112274 0.25017822\n",
            "  0.61172286 0.62911764 0.72622921 0.29929202 0.28000487 0.70531694\n",
            "  0.         0.17795346 0.41723772 0.34266065 0.32739478 0.50766582\n",
            "  0.83465858 0.52877754 0.25192403 0.73580597 0.28242627 0.9499372\n",
            "  0.33278965 0.07800336 0.44990674 0.68817666 0.80636851 0.58663391\n",
            "  0.15717109 0.4313188  0.71552175 0.1564566  0.48850049 0.6201818\n",
            "  0.0680727  0.61234711 0.13410549 0.73058407 0.27148163 0.22933227\n",
            "  0.31451752 0.82271287 0.58507546 0.29302222 0.82503434 0.15028079\n",
            "  0.90509983 0.55703104 0.35429008 0.28745158 0.22380171 0.26339071\n",
            "  0.19493016 0.12186645 0.43894009 0.2862017  0.927009   0.81256434\n",
            "  0.12319323 0.08818961 0.60116753 0.7871282  0.47491845 0.07246591\n",
            "  0.34388109 0.59461471 0.6781961  0.8092638  0.48771581 0.89014516\n",
            "  0.28800813 0.76183859 0.86711891 0.39319385 0.13882306 0.27749705\n",
            "  0.71088356 0.76203535 0.7059203  0.49645801 0.77272884 0.74006367\n",
            "  0.54793232 0.29687511 0.55110341 0.36651241]\n",
            " [0.99657236 0.60721231 0.63143282 0.9866568  0.21304151 0.75310101\n",
            "  0.62612299 0.63860885 0.61982796 0.9366704  0.59355868 0.15849785\n",
            "  0.46852105 0.49332292 0.96088479 0.86758007 0.74837214 0.4216817\n",
            "  0.65530921 0.64252396 0.89999757 0.40201427 0.44351247 0.81198577\n",
            "  0.17795346 0.         0.39306897 0.51818515 0.49812063 0.49075907\n",
            "  0.97921293 0.67763116 0.38984828 0.84785641 0.38194417 0.97735768\n",
            "  0.50601813 0.16398779 0.61550703 0.8542852  0.97919789 0.67361232\n",
            "  0.28742638 0.60789111 0.88341927 0.33439816 0.53771042 0.79357613\n",
            "  0.17799839 0.78708401 0.24277223 0.77724375 0.10617508 0.26862188\n",
            "  0.2227327  0.9872522  0.76274426 0.45929888 0.92103431 0.21711309\n",
            "  1.0466798  0.71411557 0.51828638 0.46434344 0.20771098 0.43334985\n",
            "  0.0670551  0.07319866 0.59478524 0.25006292 1.0912914  0.86867195\n",
            "  0.2951915  0.10013509 0.59372013 0.95273058 0.65056276 0.24783306\n",
            "  0.20778794 0.74032675 0.78849186 0.82686646 0.64105424 1.00802443\n",
            "  0.46333458 0.80669712 0.95876594 0.55369578 0.29967049 0.45275769\n",
            "  0.73843554 0.876831   0.74328119 0.62506281 0.92256286 0.8338474\n",
            "  0.66049438 0.44443428 0.69736526 0.21402298]\n",
            " [0.82562954 0.57779035 0.62135946 0.866128   0.19740768 0.36365982\n",
            "  0.51849706 0.24569291 0.2580715  0.80177811 0.44246977 0.48003598\n",
            "  0.25473267 0.38482729 0.67885412 0.48526598 0.55095915 0.60990096\n",
            "  0.30177337 0.25762866 0.87639519 0.28180832 0.46282598 0.55189443\n",
            "  0.41723772 0.39306897 0.         0.57778989 0.67730952 0.09769302\n",
            "  0.80313544 0.91073956 0.66040442 0.59559498 0.27189833 0.59251805\n",
            "  0.55074001 0.33935201 0.80264564 0.78367173 0.93949838 0.39378922\n",
            "  0.3336443  0.72995988 0.8194263  0.49567308 0.21821308 0.7796997\n",
            "  0.35021025 0.78640155 0.31074483 0.41631978 0.35121004 0.1981395\n",
            "  0.19341888 0.8931125  0.8093041  0.66146275 0.62614112 0.2725085\n",
            "  0.85449953 0.62348309 0.7208654  0.55453337 0.19904438 0.62597079\n",
            "  0.32708902 0.43095742 0.52820081 0.14393296 0.98666309 0.51358956\n",
            "  0.42875556 0.36602995 0.20091924 0.86780895 0.681247   0.42597034\n",
            "  0.27241532 0.60168184 0.54029389 0.43919363 0.86480896 0.75331808\n",
            "  0.53765445 0.4418517  0.65252082 0.76376257 0.54032006 0.61408446\n",
            "  0.36008795 0.62762323 0.37408385 0.46036715 0.77132234 0.54328304\n",
            "  0.4429852  0.40938609 0.93572647 0.31561338]\n",
            " [0.56309378 0.13756058 0.13320464 0.51146706 0.45580457 0.77067083\n",
            "  0.24006867 0.72131753 0.60101763 0.47893097 0.28919221 0.40243514\n",
            "  0.3757944  0.24120356 0.67313264 0.82176558 0.4104679  0.18553117\n",
            "  0.60237809 0.67358071 0.38404993 0.30405699 0.11515349 0.53457187\n",
            "  0.34266065 0.51818515 0.57778989 0.         0.18525752 0.63156316\n",
            "  0.55348246 0.40428301 0.31733106 0.54694582 0.30890625 0.92107275\n",
            "  0.02939674 0.36609281 0.27112798 0.35979581 0.46484404 0.48897337\n",
            "  0.27088969 0.16116541 0.38255779 0.19306021 0.5031777  0.27860899\n",
            "  0.34855526 0.26974657 0.31566706 0.69139215 0.60000555 0.40172054\n",
            "  0.58217412 0.4948007  0.25028339 0.21251114 0.66355717 0.36436057\n",
            "  0.62737539 0.26432884 0.23622835 0.05882908 0.46169837 0.19247782\n",
            "  0.51868344 0.46391215 0.17866731 0.51111776 0.59803084 0.74128259\n",
            "  0.22332436 0.42000405 0.68808084 0.45765516 0.13239202 0.27078722\n",
            "  0.64314385 0.33351077 0.50279903 0.81578454 0.35753784 0.67035926\n",
            "  0.05485296 0.72129964 0.71095991 0.2701804  0.27439279 0.14595895\n",
            "  0.71319851 0.56279512 0.68981794 0.31392456 0.4818445  0.5952502\n",
            "  0.39581089 0.17635576 0.43048439 0.67723462]\n",
            " [0.73215305 0.31884572 0.3016006  0.66380763 0.51431998 0.92330017\n",
            "  0.42530318 0.85802929 0.75278998 0.64187227 0.46976223 0.34832284\n",
            "  0.52213338 0.40592467 0.85838881 0.98719631 0.59572412 0.07721863\n",
            "  0.76094655 0.81911951 0.49124319 0.43599573 0.25999097 0.71916597\n",
            "  0.32739478 0.49812063 0.67730952 0.18525752 0.         0.74824381\n",
            "  0.72512777 0.23929018 0.16814577 0.73217844 0.43341992 1.0902392\n",
            "  0.20788357 0.38514009 0.1269675  0.50583026 0.57250875 0.66378089\n",
            "  0.34376786 0.12962821 0.52010238 0.18710573 0.65097028 0.39923154\n",
            "  0.36740235 0.38050004 0.37291141 0.85935007 0.59770735 0.48190859\n",
            "  0.62864786 0.63473052 0.31556753 0.04747862 0.84829499 0.41942261\n",
            "  0.79885203 0.44142204 0.05246576 0.15515129 0.51807581 0.06477839\n",
            "  0.52232364 0.4293185  0.36392436 0.57748552 0.73279233 0.91636694\n",
            "  0.25276627 0.41558432 0.82024693 0.596939   0.25807317 0.27442514\n",
            "  0.66922372 0.51589702 0.68744469 0.97522405 0.19172722 0.8538819\n",
            "  0.17807265 0.89011123 0.89561533 0.0924834  0.19979092 0.06373974\n",
            "  0.87169711 0.74798474 0.85241929 0.49646123 0.65123875 0.77843867\n",
            "  0.57674654 0.3270637  0.26545227 0.69373663]\n",
            " [0.80842013 0.61160412 0.65718858 0.86259715 0.2922622  0.26874113\n",
            "  0.53575867 0.14823286 0.18940147 0.79614783 0.45339339 0.57414954\n",
            "  0.27355543 0.41592367 0.62832044 0.39387395 0.53726419 0.68475072\n",
            "  0.23502804 0.16836544 0.89835942 0.32768715 0.51690321 0.5149701\n",
            "  0.50766582 0.49075907 0.09769302 0.63156316 0.74824381 0.\n",
            "  0.7850374  0.98511708 0.74517976 0.55953371 0.3231285  0.49913102\n",
            "  0.6031789  0.43043804 0.87129271 0.79665427 0.95563853 0.35967851\n",
            "  0.40840894 0.78892126 0.83288575 0.57224768 0.18934883 0.8072996\n",
            "  0.43984608 0.81693837 0.39265686 0.33849396 0.44608395 0.28148622\n",
            "  0.28671706 0.89616096 0.84993034 0.73657729 0.57222176 0.35942744\n",
            "  0.82986482 0.63843084 0.79424586 0.61567817 0.2945732  0.70086887\n",
            "  0.42471573 0.52782914 0.55608434 0.24143116 0.98441461 0.43613489\n",
            "  0.50624835 0.46139105 0.10371964 0.87411412 0.72337161 0.50954464\n",
            "  0.36005016 0.60393237 0.50864988 0.34499067 0.93839539 0.71065958\n",
            "  0.59688055 0.36101984 0.59322472 0.83722999 0.62499771 0.68452883\n",
            "  0.27303041 0.59128807 0.29267478 0.46500196 0.76190169 0.49436913\n",
            "  0.43040859 0.4568798  1.01061068 0.40079611]\n",
            " [0.02415646 0.41739104 0.42442818 0.14285162 0.81767088 0.72289608\n",
            "  0.35566839 0.76728497 0.62364763 0.10252818 0.38993239 0.91435735\n",
            "  0.56029122 0.48692983 0.29213745 0.67806708 0.25244107 0.73897053\n",
            "  0.58726668 0.69623897 0.35676353 0.58965843 0.56037798 0.29220514\n",
            "  0.83465858 0.97921293 0.80313544 0.55348246 0.72512777 0.7850374\n",
            "  0.         0.88434838 0.87079919 0.25280202 0.60967233 0.72376201\n",
            "  0.54313599 0.81651252 0.75799513 0.25212892 0.34067632 0.42910284\n",
            "  0.69260796 0.63012802 0.2636797  0.72198404 0.59622267 0.37177732\n",
            "  0.80482673 0.39813639 0.73644485 0.57358967 1.02369091 0.74467125\n",
            "  0.9282933  0.20887896 0.49277953 0.7612724  0.33555556 0.76702385\n",
            "  0.07392699 0.28996363 0.7688539  0.60708495 0.82534944 0.74521904\n",
            "  0.94946207 0.94962171 0.39929145 0.83883019 0.23997905 0.54193942\n",
            "  0.71695969 0.88268977 0.76439442 0.22191176 0.47326071 0.7674015\n",
            "  1.01309329 0.24015378 0.28573338 0.71418826 0.84706562 0.21119269\n",
            "  0.59127011 0.58512142 0.36711977 0.79041783 0.81530005 0.6983408\n",
            "  0.65109502 0.22920453 0.61071113 0.36127874 0.07521676 0.35035721\n",
            "  0.36017456 0.53866488 0.906361   1.05761204]\n",
            " [0.88602051 0.51907627 0.48768306 0.79292721 0.73740893 1.16194261\n",
            "  0.63602279 1.09717733 0.99135152 0.78910331 0.69311286 0.51913426\n",
            "  0.76085031 0.63979213 1.061254   1.22252538 0.80169745 0.30090392\n",
            "  0.99821975 1.05831473 0.57876164 0.67527675 0.49616382 0.93133635\n",
            "  0.52877754 0.67763116 0.91073956 0.40428301 0.23929018 0.98511708\n",
            "  0.88434838 0.         0.28796256 0.93821582 0.67261316 1.32380286\n",
            "  0.43164125 0.59832535 0.13495713 0.63913192 0.64921982 0.89306619\n",
            "  0.57773608 0.26351565 0.64089549 0.41512641 0.88983265 0.51848525\n",
            "  0.58199646 0.49330549 0.60159457 1.09334846 0.78318676 0.7132766\n",
            "  0.8423964  0.74781011 0.40165738 0.24927683 1.05874939 0.64513303\n",
            "  0.95519728 0.62520363 0.19096565 0.38943847 0.74017696 0.2848091\n",
            "  0.71659893 0.60453157 0.57507688 0.80167254 0.83139252 1.14552494\n",
            "  0.48211925 0.61334345 1.05910847 0.71230872 0.41926566 0.49236681\n",
            "  0.87014335 0.70792969 0.89958238 1.2125798  0.04774797 1.04222293\n",
            "  0.41197827 1.12369648 1.10631458 0.14805172 0.38995458 0.30255997\n",
            "  1.1091664  0.949681   1.08865971 0.71653189 0.80921603 0.99551568\n",
            "  0.79924744 0.5636891  0.02640571 0.8875589 ]\n",
            " [0.88015448 0.45425764 0.44804926 0.82171272 0.47241225 0.95728323\n",
            "  0.54340643 0.87327067 0.79106606 0.794152   0.56762418 0.23138799\n",
            "  0.5667681  0.48325081 0.97079212 1.0393613  0.71146804 0.13183756\n",
            "  0.80837507 0.84674414 0.6584427  0.47404227 0.34355243 0.82404951\n",
            "  0.25192403 0.38984828 0.66040442 0.31733106 0.16814577 0.74517976\n",
            "  0.87079919 0.28796256 0.         0.8439106  0.46441995 1.14727095\n",
            "  0.32980201 0.32751859 0.24703511 0.66526655 0.73999155 0.74140679\n",
            "  0.34451836 0.29735483 0.68226427 0.1921967  0.68877308 0.56385671\n",
            "  0.31349856 0.54639929 0.35265719 0.91868447 0.49563552 0.4639924\n",
            "  0.56540118 0.79692515 0.48371289 0.12139043 0.95238666 0.38790277\n",
            "  0.94469951 0.58151574 0.15608177 0.26584144 0.47379228 0.12681711\n",
            "  0.43128578 0.31668845 0.48551122 0.53637209 0.89675392 0.98820933\n",
            "  0.24778757 0.33110157 0.83142225 0.75912225 0.41804676 0.23566321\n",
            "  0.58572804 0.64716187 0.79322848 1.01796036 0.25338624 0.97939362\n",
            "  0.28450685 0.95022483 0.99852007 0.17841103 0.12022727 0.17350781\n",
            "  0.91555209 0.86385075 0.90308275 0.59833029 0.79887221 0.87521775\n",
            "  0.67110225 0.4002529  0.30753151 0.60097607]\n",
            " [0.27676551 0.41956954 0.4514099  0.3747084  0.65671559 0.47042309\n",
            "  0.30687801 0.52195046 0.38365234 0.31017965 0.27901955 0.82165179\n",
            "  0.3849866  0.37555473 0.1269748  0.4289493  0.13693051 0.71924769\n",
            "  0.34343196 0.45098803 0.52747823 0.4466201  0.50121894 0.04459413\n",
            "  0.73580597 0.84785641 0.59559498 0.54694582 0.73217844 0.55953371\n",
            "  0.25280202 0.93821582 0.8439106  0.         0.46639308 0.4858143\n",
            "  0.52525766 0.69622651 0.80353441 0.40269617 0.54357683 0.20204448\n",
            "  0.57967376 0.67512482 0.43181084 0.66405537 0.37817153 0.49179735\n",
            "  0.68918793 0.51557941 0.61417198 0.32079723 0.86966361 0.58702739\n",
            "  0.74917604 0.43163576 0.59937153 0.75591781 0.12315499 0.63109555\n",
            "  0.27874312 0.32166981 0.78303899 0.58491799 0.66412736 0.73016114\n",
            "  0.80478518 0.83545089 0.36834364 0.6618499  0.48794297 0.29608987\n",
            "  0.63597448 0.76112544 0.52400932 0.42827513 0.5251157  0.68015433\n",
            "  0.83649114 0.23642668 0.05951207 0.4622078  0.89415733 0.16204988\n",
            "  0.56360636 0.33304854 0.16997497 0.81522844 0.7589629  0.68683414\n",
            "  0.3989323  0.03203511 0.35842246 0.2469001  0.26600768 0.09933385\n",
            "  0.1885828  0.45252835 0.96330598 0.88220574]\n",
            " [0.62903761 0.31019378 0.35195515 0.64051428 0.2090988  0.49553196\n",
            "  0.27402606 0.42461479 0.3272518  0.58243006 0.2197924  0.36830136\n",
            "  0.10523382 0.13000776 0.58218245 0.57522413 0.36897542 0.3778404\n",
            "  0.34417252 0.38778913 0.61500087 0.0203091  0.1939324  0.43176125\n",
            "  0.28242627 0.38194417 0.27189833 0.30890625 0.43341992 0.3231285\n",
            "  0.60967233 0.67261316 0.46441995 0.46639308 0.         0.68376666\n",
            "  0.28092455 0.23165168 0.55269277 0.53421107 0.68341775 0.3045002\n",
            "  0.12860511 0.46582937 0.56852724 0.2745243  0.22463175 0.51438001\n",
            "  0.22682628 0.51888852 0.15131234 0.45728542 0.41463906 0.13635463\n",
            "  0.32787986 0.65561664 0.53759623 0.4288428  0.54630716 0.1648669\n",
            "  0.6734044  0.37649662 0.4823526  0.29350648 0.21674772 0.39360148\n",
            "  0.34312103 0.37066657 0.2675938  0.24086987 0.75561471 0.53385675\n",
            "  0.21737431 0.29534226 0.38731417 0.62589923 0.40946933 0.24430614\n",
            "  0.40842947 0.37847888 0.40721074 0.5539156  0.62513043 0.62611463\n",
            "  0.27410038 0.48886454 0.58701036 0.52487534 0.35126355 0.37006265\n",
            "  0.4512209  0.49504118 0.43905873 0.24888747 0.56090066 0.46019301\n",
            "  0.27858355 0.13748813 0.6986692  0.45154882]\n",
            " [0.74595995 0.82859378 0.87159639 0.85705315 0.76633404 0.23102796\n",
            "  0.71101687 0.35672176 0.36452392 0.79465144 0.63797949 1.02971915\n",
            "  0.58050317 0.68454542 0.43849697 0.11067339 0.58356526 1.04923544\n",
            "  0.34000576 0.33571891 1.00770515 0.67327193 0.83030427 0.46133559\n",
            "  0.9499372  0.97735768 0.59251805 0.92107275 1.0902392  0.49913102\n",
            "  0.72376201 1.32380286 1.14727095 0.4858143  0.68376666 0.\n",
            "  0.89287906 0.88089584 1.19204346 0.88304751 1.02893202 0.43420801\n",
            "  0.80939614 1.07626531 0.91428577 0.95564473 0.4624921  0.95737355\n",
            "  0.88422264 0.97830724 0.8172123  0.23091929 0.94372802 0.72731142\n",
            "  0.78526634 0.91640754 1.05051803 1.09722385 0.38858586 0.80307011\n",
            "  0.72347057 0.77186871 1.14238596 0.93573368 0.77085005 1.06396228\n",
            "  0.91400306 1.00192503 0.76532373 0.72921103 0.96374097 0.19378222\n",
            "  0.90110437 0.92827477 0.3976495  0.91408236 0.9503828  0.92549883\n",
            "  0.85869664 0.69386244 0.4854462  0.15441436 1.2764099  0.53693126\n",
            "  0.91290311 0.20017398 0.36348445 1.18217836 1.03498726 1.03128315\n",
            "  0.24032285 0.50053097 0.24500853 0.62097098 0.750205   0.38896634\n",
            "  0.53854146 0.76365789 1.35016888 0.89825025]\n",
            " [0.55384494 0.12580961 0.13157685 0.50857098 0.43365128 0.74135773\n",
            "  0.21884297 0.69202397 0.57165573 0.47258011 0.26307879 0.39720196\n",
            "  0.34645053 0.21201968 0.65184842 0.79314623 0.38939396 0.19907156\n",
            "  0.57321591 0.64418462 0.39401983 0.27553255 0.08799841 0.51135781\n",
            "  0.33278965 0.50601813 0.55074001 0.02939674 0.20788357 0.6031789\n",
            "  0.54313599 0.43164125 0.32980201 0.52525766 0.28092455 0.89287906\n",
            "  0.         0.35049786 0.29916463 0.36038106 0.47369467 0.46142883\n",
            "  0.24963946 0.19055996 0.38530009 0.18928247 0.47378239 0.28768691\n",
            "  0.33336103 0.2813163  0.29561516 0.66296894 0.5845615  0.37749449\n",
            "  0.56055405 0.4956969  0.27043605 0.23111696 0.6405306  0.34372798\n",
            "  0.61684156 0.253173   0.25970761 0.06412924 0.43975326 0.20785368\n",
            "  0.50312056 0.45460155 0.15831448 0.48762643 0.59957883 0.71395489\n",
            "  0.2109858  0.40686551 0.65892392 0.45905918 0.14724213 0.26037015\n",
            "  0.62367133 0.31760072 0.47966315 0.78673992 0.38464079 0.65240644\n",
            "  0.04936455 0.69298785 0.68780866 0.29524212 0.27636189 0.16264247\n",
            "  0.68407492 0.54213873 0.6609223  0.28886967 0.47284701 0.57072878\n",
            "  0.36998079 0.14730376 0.45791576 0.65879545]\n",
            " [0.83351501 0.44516476 0.47167606 0.82276244 0.14550884 0.66916211\n",
            "  0.46253264 0.5692179  0.51642184 0.77271131 0.43362993 0.14894093\n",
            "  0.32934324 0.33246572 0.81359887 0.77025632 0.5900733  0.3088842\n",
            "  0.54499205 0.55608801 0.74263033 0.25063505 0.2819092  0.66279273\n",
            "  0.07800336 0.16398779 0.33935201 0.36609281 0.38514009 0.43043804\n",
            "  0.81651252 0.59832535 0.32751859 0.69622651 0.23165168 0.88089584\n",
            "  0.35049786 0.         0.51081245 0.69189382 0.82061771 0.53427803\n",
            "  0.12393144 0.47675348 0.72170308 0.2012206  0.42216417 0.63613613\n",
            "  0.01822711 0.63142139 0.08231005 0.66539097 0.23409073 0.15504879\n",
            "  0.24483411 0.8242122  0.6153097  0.35589518 0.77787252 0.07787284\n",
            "  0.88471049 0.55020066 0.41775579 0.31680743 0.14644573 0.32352064\n",
            "  0.15267249 0.1392654  0.43088061 0.20900698 0.92810524 0.75046494\n",
            "  0.1455919  0.06635596 0.52515135 0.79003127 0.49728097 0.11085864\n",
            "  0.28615156 0.57710784 0.63743718 0.73777803 0.55570279 0.85425324\n",
            "  0.3118012  0.69631605 0.8181817  0.45842027 0.21054174 0.32926589\n",
            "  0.64097294 0.72404815 0.63821294 0.46574052 0.7589628  0.69155734\n",
            "  0.50769096 0.28048183 0.62145847 0.31521146]\n",
            " [0.76111142 0.38421218 0.35367077 0.67482891 0.64127727 1.03568028\n",
            "  0.50107423 0.97650312 0.86515807 0.66545705 0.55910205 0.46078679\n",
            "  0.63565531 0.50956165 0.92693082 1.09197561 0.66691887 0.20194025\n",
            "  0.86984601 0.93436215 0.47255112 0.55337011 0.36880651 0.79639062\n",
            "  0.44990674 0.61550703 0.80264564 0.27112798 0.1269675  0.87129271\n",
            "  0.75799513 0.13495713 0.24703511 0.80353441 0.55269277 1.19204346\n",
            "  0.29916463 0.51081245 0.         0.51810486 0.54867849 0.76004708\n",
            "  0.46958384 0.13014016 0.52383438 0.31403494 0.76469061 0.39970025\n",
            "  0.49325723 0.37596835 0.49975857 0.96206081 0.71757221 0.60818457\n",
            "  0.7549407  0.63471117 0.29032153 0.15703449 0.92388059 0.54638581\n",
            "  0.82993487 0.49233162 0.09732429 0.26225211 0.64500576 0.18740235\n",
            "  0.64426779 0.54458558 0.44017426 0.70444896 0.72446656 1.01217448\n",
            "  0.37969626 0.53782727 0.93996165 0.59800787 0.28776352 0.40044988\n",
            "  0.79331613 0.57426916 0.764633   1.08400442 0.09103149 0.90990489\n",
            "  0.28403764 0.99213728 0.97144859 0.06924247 0.3160588  0.18885432\n",
            "  0.9808707  0.81537238 0.95903074 0.58202367 0.682785   0.86060664\n",
            "  0.664921   0.43617323 0.16060636 0.81623691]\n",
            " [0.24982824 0.24711169 0.22880649 0.15838294 0.73630434 0.81903564\n",
            "  0.26532068 0.82551461 0.67905237 0.15174484 0.3436063  0.75694856\n",
            "  0.52970367 0.40556229 0.49642954 0.81240676 0.30485016 0.53612165\n",
            "  0.65575366 0.75904819 0.12491653 0.51748897 0.41082064 0.4219502\n",
            "  0.68817666 0.8542852  0.78367173 0.35979581 0.50583026 0.79665427\n",
            "  0.25212892 0.63913192 0.66526655 0.40269617 0.53421107 0.88304751\n",
            "  0.36038106 0.69189382 0.51810486 0.         0.16016812 0.49218375\n",
            "  0.57354501 0.39536974 0.03627685 0.54965899 0.61524714 0.12117152\n",
            "  0.67665612 0.14716944 0.62156624 0.6878116  0.92032969 0.66665786\n",
            "  0.8603832  0.13531605 0.24168053 0.54752638 0.51991333 0.66296681\n",
            "  0.31897702 0.16022449 0.5433001  0.41845331 0.74362129 0.53875934\n",
            "  0.84017146 0.8096236  0.26881974 0.77482462 0.23932021 0.68968858\n",
            "  0.56498574 0.7541636  0.80893643 0.09898266 0.24797795 0.61606338\n",
            "  0.93692996 0.20263418 0.39785388 0.83299111 0.60458573 0.4425402\n",
            "  0.40917984 0.70876004 0.56248828 0.55858947 0.63418448 0.49278651\n",
            "  0.74774134 0.39676824 0.71117753 0.33261252 0.18006397 0.49495489\n",
            "  0.38653979 0.41908104 0.66001153 0.97763552]\n",
            " [0.32758933 0.38045714 0.34911755 0.20072436 0.87964543 0.97653568\n",
            "  0.42149978 0.98553943 0.83891296 0.24466037 0.50224999 0.86688097\n",
            "  0.68675627 0.55734927 0.62102455 0.96391691 0.46001224 0.61970957\n",
            "  0.81487303 0.91881274 0.08209302 0.66786631 0.53967833 0.56852561\n",
            "  0.80636851 0.97919789 0.93949838 0.46484404 0.57250875 0.95563853\n",
            "  0.34067632 0.64921982 0.73999155 0.54357683 0.68341775 1.02893202\n",
            "  0.47369467 0.82061771 0.54867849 0.16016812 0.         0.65053093\n",
            "  0.70811792 0.44647952 0.12404939 0.65756057 0.77521759 0.18628234\n",
            "  0.8042202  0.19709798 0.75626004 0.84203504 1.05321718 0.81224677\n",
            "  1.00564247 0.13483999 0.26069534 0.61863107 0.65338782 0.80054541\n",
            "  0.3878552  0.31737319 0.59891844 0.52247682 0.88672727 0.61850061\n",
            "  0.97204861 0.92807373 0.41583075 0.92223226 0.18628331 0.83709431\n",
            "  0.68458996 0.87955768 0.96910293 0.11983942 0.33481881 0.73400969\n",
            "  1.07889946 0.36194156 0.54727755 0.98749461 0.62407346 0.55051252\n",
            "  0.51885254 0.86154774 0.69227552 0.60314441 0.73202342 0.57625108\n",
            "  0.90482458 0.53227098 0.86756719 0.49247441 0.2874712  0.6400811\n",
            "  0.54611206 0.55982763 0.66554557 1.11795307]\n",
            " [0.45293566 0.39530374 0.43929082 0.52209934 0.47115572 0.32727088\n",
            "  0.27968401 0.34307811 0.19643645 0.45421842 0.2037909  0.67270319\n",
            "  0.20583492 0.26035342 0.29294639 0.34134484 0.19453573 0.63083813\n",
            "  0.16564432 0.27317762 0.61079901 0.28735337 0.40656241 0.15812093\n",
            "  0.58663391 0.67361232 0.39378922 0.48897337 0.66378089 0.35967851\n",
            "  0.42910284 0.89306619 0.74140679 0.20204448 0.3045002  0.43420801\n",
            "  0.46142883 0.53427803 0.76004708 0.49218375 0.65053093 0.\n",
            "  0.43066017 0.6423442  0.52735955 0.550433   0.1761271  0.54256733\n",
            "  0.53077487 0.56049521 0.45554202 0.20960667 0.68302821 0.4059229\n",
            "  0.55350921 0.56576036 0.62418293 0.67583186 0.24810102 0.46190942\n",
            "  0.47054541 0.35467609 0.7162397  0.50864299 0.4782085  0.64451267\n",
            "  0.62415656 0.67191494 0.33164771 0.46829873 0.64330099 0.25271667\n",
            "  0.50681514 0.59552894 0.33615714 0.55072721 0.51793129 0.54278467\n",
            "  0.64083368 0.28975982 0.14901339 0.34897835 0.84604682 0.36004146\n",
            "  0.48572819 0.23704106 0.28521801 0.75449439 0.6394418  0.60778649\n",
            "  0.25687353 0.23407495 0.22255669 0.18856922 0.41546014 0.16082844\n",
            "  0.11009973 0.34309994 0.91932853 0.68656802]\n",
            " [0.70958376 0.32872728 0.35967071 0.70058158 0.18519072 0.61318004\n",
            "  0.33871799 0.52991236 0.44866892 0.6494818  0.31147226 0.2435419\n",
            "  0.23374685 0.20996866 0.6999945  0.70003169 0.46867292 0.27687327\n",
            "  0.46939164 0.50227361 0.63227102 0.14375213 0.16967805 0.54847274\n",
            "  0.15717109 0.28742638 0.3336443  0.27088969 0.34376786 0.40840894\n",
            "  0.69260796 0.57773608 0.34451836 0.57967376 0.12860511 0.80939614\n",
            "  0.24963946 0.12393144 0.46958384 0.57354501 0.70811792 0.43066017\n",
            "  0.         0.40681411 0.60453709 0.16384636 0.3474506  0.52639454\n",
            "  0.11269235 0.52440638 0.04819436 0.58469826 0.3468095  0.13911196\n",
            "  0.31128616 0.70431084 0.52002607 0.32863233 0.66786794 0.09427255\n",
            "  0.76097955 0.42811342 0.3874028  0.23300313 0.19091515 0.29298639\n",
            "  0.26672961 0.25937664 0.30904404 0.24292712 0.80778624 0.66241139\n",
            "  0.09848951 0.19009032 0.48893446 0.67087328 0.39584076 0.11628364\n",
            "  0.37482031 0.453182   0.52169403 0.67539454 0.53149068 0.73550255\n",
            "  0.22100646 0.61623445 0.71005341 0.43035051 0.2273054  0.28077321\n",
            "  0.57393158 0.60644721 0.5643889  0.34394744 0.63516413 0.58299819\n",
            "  0.3914022  0.15748771 0.60297174 0.4114625 ]\n",
            " [0.63415515 0.25707558 0.22417978 0.55347707 0.58969145 0.93132898\n",
            "  0.37558727 0.88217099 0.76194867 0.53965699 0.43916008 0.46613881\n",
            "  0.53684896 0.40160101 0.79778731 0.97907369 0.53889703 0.19316416\n",
            "  0.76235904 0.83474313 0.36622189 0.46270001 0.27272355 0.66948598\n",
            "  0.4313188  0.60789111 0.72995988 0.16116541 0.12962821 0.78892126\n",
            "  0.63012802 0.26351565 0.29735483 0.67512482 0.46582937 1.07626531\n",
            "  0.19055996 0.47675348 0.13014016 0.39536974 0.44647952 0.6423442\n",
            "  0.40681411 0.         0.40482933 0.27696482 0.66434228 0.28107654\n",
            "  0.4585278  0.25969829 0.44553934 0.84795372 0.70225371 0.54453423\n",
            "  0.71184828 0.51822692 0.18713089 0.17707734 0.79618079 0.49460722\n",
            "  0.702623   0.36222697 0.15270524 0.17564385 0.59464607 0.18639331\n",
            "  0.62351438 0.54283274 0.31577563 0.64950096 0.61289115 0.89278979\n",
            "  0.33286931 0.51792778 0.84843045 0.48077969 0.15799449 0.3680067\n",
            "  0.76262801 0.44447864 0.63783189 0.97511195 0.22110595 0.77976787\n",
            "  0.19252507 0.87731084 0.84371657 0.16327234 0.31816681 0.15598669\n",
            "  0.87294787 0.68621477 0.84852401 0.45976189 0.55500816 0.7351176\n",
            "  0.54316932 0.33684505 0.28829697 0.79159955]\n",
            " [0.25812933 0.27655001 0.25429118 0.15205168 0.76947466 0.85393986\n",
            "  0.30095596 0.8615054  0.71493693 0.16120305 0.37976476 0.78248981\n",
            "  0.56563313 0.44034114 0.52089004 0.84532371 0.33866706 0.55467753\n",
            "  0.69127592 0.79488107 0.09749126 0.55205077 0.44000288 0.45295151\n",
            "  0.71552175 0.88341927 0.8194263  0.38255779 0.52010238 0.83288575\n",
            "  0.2636797  0.64089549 0.68226427 0.43181084 0.56852724 0.91428577\n",
            "  0.38530009 0.72170308 0.52383438 0.03627685 0.12404939 0.52735955\n",
            "  0.60453709 0.40482933 0.         0.57418336 0.65151206 0.12425936\n",
            "  0.70617337 0.14807477 0.65266084 0.72155755 0.95131524 0.70027464\n",
            "  0.89403681 0.11471225 0.23978869 0.56312448 0.54705811 0.69477897\n",
            "  0.32620656 0.19595347 0.55515576 0.44138587 0.77674483 0.55639619\n",
            "  0.87086749 0.83722456 0.30215178 0.80889669 0.21586183 0.72126892\n",
            "  0.59238859 0.78328924 0.84510975 0.07689521 0.26428081 0.64319797\n",
            "  0.96991394 0.23816211 0.42975899 0.86687204 0.60832048 0.46196851\n",
            "  0.43348745 0.74204315 0.58864882 0.5679101  0.65657152 0.5110681\n",
            "  0.78248498 0.42416258 0.74566826 0.36888858 0.19573819 0.52561663\n",
            "  0.42225179 0.45125032 0.66084158 1.01028264]\n",
            " [0.73466481 0.31024988 0.32085874 0.69682548 0.32726009 0.76966947\n",
            "  0.37500912 0.69192325 0.60177513 0.6579889  0.38517632 0.20939432\n",
            "  0.37530506 0.2947864  0.79010705 0.84817932 0.53612255 0.11470017\n",
            "  0.61740751 0.66063662 0.57639647 0.28289491 0.16570057 0.6408606\n",
            "  0.1564566  0.33439816 0.49567308 0.19306021 0.18710573 0.57224768\n",
            "  0.72198404 0.41512641 0.1921967  0.66405537 0.2745243  0.95564473\n",
            "  0.18928247 0.2012206  0.31403494 0.54965899 0.65756057 0.550433\n",
            "  0.16384636 0.27696482 0.57418336 0.         0.49912507 0.47146851\n",
            "  0.18309998 0.46153958 0.18707031 0.72666721 0.42570535 0.29818011\n",
            "  0.44241976 0.684975   0.42932731 0.16590173 0.76779874 0.23260371\n",
            "  0.79480843 0.43431968 0.22619895 0.13509616 0.33097329 0.13063517\n",
            "  0.34658098 0.27442705 0.32352093 0.39060839 0.78881628 0.79614788\n",
            "  0.06701345 0.24141082 0.65166315 0.6482905  0.32335296 0.0911601\n",
            "  0.48729906 0.48672136 0.6108042  0.82836502 0.36950444 0.80729383\n",
            "  0.14069591 0.75818914 0.81316124 0.26880471 0.09556881 0.12840714\n",
            "  0.72548505 0.68623867 0.71187365 0.41715769 0.65462748 0.68830891\n",
            "  0.48520237 0.21297038 0.44005421 0.51499713]\n",
            " [0.61948465 0.45332504 0.50002855 0.67403264 0.32569882 0.27250621\n",
            "  0.36170928 0.22246896 0.10274618 0.60730046 0.27641835 0.57003416\n",
            "  0.1290829  0.26541912 0.46175059 0.35271688 0.34792712 0.60026121\n",
            "  0.12322238 0.17041261 0.7226256  0.21726352 0.39606049 0.33417398\n",
            "  0.48850049 0.53771042 0.21821308 0.5031777  0.65097028 0.18934883\n",
            "  0.59622267 0.88983265 0.68877308 0.37817153 0.22463175 0.4624921\n",
            "  0.47378239 0.42216417 0.76469061 0.61524714 0.77521759 0.1761271\n",
            "  0.3474506  0.66434228 0.65151206 0.49912507 0.         0.6376521\n",
            "  0.42395291 0.65017089 0.35509806 0.2433079  0.52954793 0.27303414\n",
            "  0.38823896 0.70935497 0.69460409 0.6505256  0.41065532 0.34448277\n",
            "  0.64285416 0.46016878 0.70147563 0.50244043 0.33177999 0.61576125\n",
            "  0.48070082 0.55049282 0.39254907 0.30850364 0.79594435 0.3313683\n",
            "  0.4411978  0.47465121 0.19698325 0.68868188 0.5728492  0.4632807\n",
            "  0.47459638 0.41827293 0.32414932 0.32929104 0.84210398 0.53512796\n",
            "  0.48077256 0.27415494 0.44015922 0.74331302 0.57411424 0.5887318\n",
            "  0.22682991 0.41020193 0.21770445 0.28277218 0.57264552 0.32625817\n",
            "  0.24137083 0.32911991 0.91612971 0.51997611]\n",
            " [0.37061454 0.2045014  0.16705738 0.27528596 0.70244936 0.86759278\n",
            "  0.27619297 0.85692298 0.7147296  0.27266525 0.3618886  0.68084566\n",
            "  0.5339088  0.39504191 0.59742295 0.8776198  0.37426631 0.43913542\n",
            "  0.69828543 0.79477464 0.10651315 0.50076196 0.35690068 0.50308492\n",
            "  0.6201818  0.79357613 0.7796997  0.27860899 0.39923154 0.8072996\n",
            "  0.37177732 0.51848525 0.56385671 0.49179735 0.51438001 0.95737355\n",
            "  0.28768691 0.63613613 0.39970025 0.12117152 0.18628234 0.54256733\n",
            "  0.52639454 0.28107654 0.12425936 0.47146851 0.6376521  0.\n",
            "  0.61947165 0.02641096 0.57429607 0.74839567 0.86949905 0.63755172\n",
            "  0.82945198 0.23715682 0.12100256 0.44347326 0.61351536 0.61984163\n",
            "  0.43985582 0.18803062 0.43228403 0.3364424  0.70929816 0.43942648\n",
            "  0.78815336 0.74184208 0.25200863 0.74864466 0.33356625 0.76384511\n",
            "  0.49866897 0.69415901 0.83460558 0.19971528 0.14989429 0.54786507\n",
            "  0.89977965 0.26367361 0.47526333 0.89103285 0.48482929 0.55341536\n",
            "  0.33257083 0.77249709 0.6584635  0.44392492 0.54767608 0.39541219\n",
            "  0.79875431 0.49154132 0.76512366 0.36191894 0.29810735 0.57613733\n",
            "  0.43256945 0.3838831  0.53909772 0.93762584]\n",
            " [0.82153633 0.42971971 0.45545619 0.80881051 0.15891631 0.67466688\n",
            "  0.45015742 0.57687456 0.51971679 0.75946965 0.4239086  0.14611656\n",
            "  0.32685657 0.32247904 0.80763053 0.77366859 0.58085505 0.29131727\n",
            "  0.54706493 0.56165396 0.72598143 0.24522925 0.26619076 0.65650523\n",
            "  0.0680727  0.17799839 0.35021025 0.34855526 0.36740235 0.43984608\n",
            "  0.80482673 0.58199646 0.31349856 0.68918793 0.22682628 0.88422264\n",
            "  0.33336103 0.01822711 0.49325723 0.67665612 0.8042202  0.53077487\n",
            "  0.11269235 0.4585278  0.70617337 0.18309998 0.42395291 0.61947165\n",
            "  0.         0.6144648  0.07559565 0.66682266 0.2514632  0.16134881\n",
            "  0.26197217 0.80935147 0.59753697 0.33868949 0.77297745 0.08241985\n",
            "  0.87349436 0.53632707 0.40055101 0.29887463 0.16044942 0.30606279\n",
            "  0.17013132 0.14703573 0.41700183 0.22298567 0.91334898 0.75062962\n",
            "  0.12750376 0.07846647 0.53309487 0.77496284 0.47995969 0.09299807\n",
            "  0.3043391  0.56508595 0.63065294 0.74241529 0.53908281 0.84639973\n",
            "  0.29415591 0.69790841 0.81383661 0.4414157  0.19543829 0.31122906\n",
            "  0.64469638 0.71662564 0.64080309 0.45625413 0.74644113 0.68700075\n",
            "  0.50060858 0.26749936 0.60530241 0.33341725]\n",
            " [0.39681774 0.20888067 0.16787159 0.29982931 0.70279044 0.88428907\n",
            "  0.28995383 0.87049503 0.72945914 0.2988152  0.37560681 0.67060224\n",
            "  0.54338382 0.40266117 0.62245607 0.89716352 0.39597959 0.42358778\n",
            "  0.7143019  0.80929721 0.11520494 0.5060546  0.3547457  0.52580501\n",
            "  0.61234711 0.78708401 0.78640155 0.26974657 0.38050004 0.81693837\n",
            "  0.39813639 0.49330549 0.54639929 0.51557941 0.51888852 0.97830724\n",
            "  0.2813163  0.63142139 0.37596835 0.14716944 0.19709798 0.56049521\n",
            "  0.52440638 0.25969829 0.14807477 0.46153958 0.65017089 0.02641096\n",
            "  0.6144648  0.         0.57199839 0.76739264 0.86528797 0.6392613\n",
            "  0.83006406 0.25925385 0.09466884 0.42548944 0.63764502 0.61832875\n",
            "  0.4660361  0.20710422 0.41174947 0.32650439 0.7095046  0.42309176\n",
            "  0.78385619 0.73365821 0.26085421 0.75058616 0.35333217 0.7849945\n",
            "  0.49189386 0.68814231 0.84713422 0.2222131  0.13820946 0.54030193\n",
            "  0.89877361 0.28537841 0.49756807 0.90934684 0.46026793 0.57944895\n",
            "  0.32434065 0.79196738 0.6828387  0.42187289 0.53492562 0.37997354\n",
            "  0.8160167  0.51600562 0.7829649  0.3775928  0.3245138  0.59867671\n",
            "  0.45039619 0.38607524 0.51367381 0.93586554]\n",
            " [0.75387835 0.37691915 0.40768929 0.74750769 0.14420773 0.61315924\n",
            "  0.38405594 0.52216445 0.45347109 0.6956166  0.35180545 0.2184672\n",
            "  0.25248394 0.25094605 0.73216377 0.70699663 0.50794132 0.30175769\n",
            "  0.47827255 0.500758   0.68026315 0.16963373 0.21743015 0.58112989\n",
            "  0.13410549 0.24277223 0.31074483 0.31566706 0.37291141 0.39265686\n",
            "  0.73644485 0.60159457 0.35265719 0.61417198 0.15131234 0.8172123\n",
            "  0.29561516 0.08231005 0.49975857 0.62156624 0.75626004 0.45554202\n",
            "  0.04819436 0.44553934 0.65266084 0.18707031 0.35509806 0.57429607\n",
            "  0.07559565 0.57199839 0.         0.59665594 0.29876466 0.11262902\n",
            "  0.26767801 0.75204446 0.56559008 0.3527099  0.69738374 0.04925711\n",
            "  0.80400461 0.47522356 0.41326753 0.27436661 0.14911062 0.31764735\n",
            "  0.21897159 0.2213137  0.3563869  0.20548197 0.85539701 0.67849983\n",
            "  0.12031174 0.14827655 0.47963035 0.71875844 0.44239741 0.1170127\n",
            "  0.32807588 0.49776344 0.55549187 0.67854099 0.55634617 0.77197758\n",
            "  0.26424018 0.62795834 0.73829958 0.45582837 0.23261573 0.31146759\n",
            "  0.57896881 0.64186193 0.57274748 0.38376295 0.6803281  0.61143722\n",
            "  0.42560071 0.204479   0.62622599 0.36396445]\n",
            " [0.59752291 0.60442891 0.64874715 0.69090325 0.56421822 0.1524275\n",
            "  0.48928861 0.2371399  0.15996333 0.624221   0.41205366 0.81293898\n",
            "  0.35270405 0.45378496 0.33368742 0.13186374 0.38297144 0.81864078\n",
            "  0.12196868 0.17719177 0.81000701 0.44551496 0.59939702 0.28344515\n",
            "  0.73058407 0.77724375 0.41631978 0.69139215 0.85935007 0.33849396\n",
            "  0.57358967 1.09334846 0.91868447 0.32079723 0.45728542 0.23091929\n",
            "  0.66296894 0.66539097 0.96206081 0.6878116  0.84203504 0.20960667\n",
            "  0.58469826 0.84795372 0.72155755 0.72666721 0.2433079  0.74839567\n",
            "  0.66682266 0.76739264 0.59665594 0.         0.75883577 0.51579004\n",
            "  0.606947   0.74323243 0.83340428 0.86642408 0.27343791 0.58776729\n",
            "  0.59398451 0.56048612 0.91147885 0.70493758 0.56972372 0.83328637\n",
            "  0.71760483 0.79326276 0.5405755  0.53757724 0.80722918 0.09773293\n",
            "  0.67389858 0.71768569 0.25896043 0.73414347 0.72730331 0.70096662\n",
            "  0.68858376 0.48903515 0.29805221 0.14546958 1.04588936 0.43125874\n",
            "  0.68212821 0.03158864 0.27826545 0.95133613 0.80817507 0.8003746\n",
            "  0.08631159 0.34571353 0.04949381 0.39816847 0.58131944 0.22465839\n",
            "  0.31846778 0.53274292 1.1197301  0.73192664]\n",
            " [1.04256733 0.67521005 0.70410448 1.04425434 0.21298268 0.71446513\n",
            "  0.67802074 0.59345946 0.59892659 0.99027672 0.63387046 0.26426565\n",
            "  0.48468938 0.53791881 0.97532048 0.83620396 0.78282897 0.52066624\n",
            "  0.63867448 0.60856108 0.97591535 0.43485725 0.51356393 0.83078773\n",
            "  0.27148163 0.10617508 0.35121004 0.60000555 0.59770735 0.44608395\n",
            "  1.02369091 0.78318676 0.49563552 0.86966361 0.41463906 0.94372802\n",
            "  0.5845615  0.23409073 0.71757221 0.92032969 1.05321718 0.68302821\n",
            "  0.3468095  0.70225371 0.95131524 0.42570535 0.52954793 0.86949905\n",
            "  0.2514632  0.86528797 0.29876466 0.75883577 0.         0.28344813\n",
            "  0.15978853 1.05055257 0.84857695 0.56073746 0.93068956 0.2595151\n",
            "  1.08802361 0.77274084 0.62066751 0.54949751 0.20562893 0.53317179\n",
            "  0.08144456 0.17927627 0.65448984 0.22187218 1.15367299 0.85394776\n",
            "  0.37782741 0.18434078 0.54957908 1.01745938 0.73136638 0.33551034\n",
            "  0.11232655 0.78891082 0.81024183 0.79028309 0.74602403 1.031573\n",
            "  0.54553474 0.78650611 0.96493842 0.65712767 0.40160349 0.54897609\n",
            "  0.70972389 0.90005422 0.72021176 0.66348741 0.97214245 0.84361887\n",
            "  0.68693906 0.5024943  0.80316152 0.1090775 ]\n",
            " [0.76440552 0.43357526 0.47145655 0.77661212 0.0730143  0.51411531\n",
            "  0.40957864 0.41571793 0.3633494  0.71877918 0.35533913 0.3037348\n",
            "  0.2027639  0.26568515 0.69569663 0.6166388  0.50035413 0.41273552\n",
            "  0.39427818 0.40104056 0.74088554 0.15574169 0.29116727 0.54899724\n",
            "  0.22933227 0.26862188 0.1981395  0.40172054 0.48190859 0.28148622\n",
            "  0.74467125 0.7132766  0.4639924  0.58702739 0.13635463 0.72731142\n",
            "  0.37749449 0.15504879 0.60818457 0.66665786 0.81224677 0.4059229\n",
            "  0.13911196 0.54453423 0.70027464 0.29818011 0.27303414 0.63755172\n",
            "  0.16134881 0.6392613  0.11262902 0.51579004 0.28344813 0.\n",
            "  0.19376258 0.79038747 0.64613002 0.46408179 0.65387631 0.0791034\n",
            "  0.80715496 0.51073764 0.5240432  0.36947968 0.08069147 0.42874547\n",
            "  0.21865894 0.27750292 0.39813192 0.11139561 0.89106004 0.60416103\n",
            "  0.23116954 0.20199553 0.37216085 0.75992541 0.51903193 0.22861934\n",
            "  0.27229501 0.51481207 0.52753309 0.58300453 0.66765955 0.74871673\n",
            "  0.35541806 0.54622095 0.69075227 0.56681511 0.34376589 0.41933464\n",
            "  0.48708062 0.61713796 0.48610132 0.38340102 0.69707008 0.56659044\n",
            "  0.40349173 0.25367945 0.73809951 0.31520555]\n",
            " [0.94897633 0.62619736 0.66271575 0.96784186 0.12739833 0.55538228\n",
            "  0.60190304 0.43375231 0.4472552  0.90856567 0.54261232 0.3490935\n",
            "  0.37023295 0.45788697 0.84595287 0.67854489 0.67891034 0.55306382\n",
            "  0.48902022 0.45097776 0.93352795 0.34617045 0.47748308 0.70776927\n",
            "  0.31451752 0.2227327  0.19341888 0.58217412 0.62864786 0.28671706\n",
            "  0.9282933  0.8423964  0.56540118 0.74917604 0.32787986 0.78526634\n",
            "  0.56055405 0.24483411 0.7549407  0.8603832  1.00564247 0.55350921\n",
            "  0.31128616 0.71184828 0.89403681 0.44241976 0.38823896 0.82945198\n",
            "  0.26197217 0.83006406 0.26767801 0.606947   0.15978853 0.19376258\n",
            "  0.         0.98340672 0.83097456 0.60065463 0.7974003  0.21845912\n",
            "  0.98755362 0.7039869  0.66251737 0.54202875 0.12094997 0.56794661\n",
            "  0.15671633 0.27898442 0.59189421 0.08946672 1.08347391 0.70341707\n",
            "  0.38016321 0.2360767  0.39001304 0.95332217 0.70568098 0.35451027\n",
            "  0.0873787  0.70412097 0.69074602 0.63144638 0.80026653 0.9107475\n",
            "  0.53167007 0.6334986  0.82827483 0.70325426 0.45289228 0.57072661\n",
            "  0.55342337 0.78061392 0.5662477  0.56844043 0.88476574 0.71152139\n",
            "  0.57580704 0.44618654 0.8651394  0.13312931]\n",
            " [0.19401069 0.38091949 0.36412157 0.06653356 0.86139613 0.88486633\n",
            "  0.38187659 0.90786992 0.76046087 0.12176249 0.45094445 0.89214812\n",
            "  0.63855629 0.52565931 0.49621682 0.85921557 0.37122544 0.66903566\n",
            "  0.7313368  0.83868201 0.17411205 0.63778425 0.54430645 0.46211553\n",
            "  0.82271287 0.9872522  0.8931125  0.4948007  0.63473052 0.89616096\n",
            "  0.20887896 0.74781011 0.79692515 0.43163576 0.65561664 0.91640754\n",
            "  0.4956969  0.8242122  0.63471117 0.13531605 0.13483999 0.56576036\n",
            "  0.70431084 0.51822692 0.11471225 0.684975   0.70935497 0.23715682\n",
            "  0.80935147 0.25925385 0.75204446 0.74323243 1.05055257 0.79038747\n",
            "  0.98340672 0.         0.34649384 0.67783543 0.53341999 0.79192672\n",
            "  0.25302395 0.27975833 0.66924008 0.55353307 0.86884759 0.67095135\n",
            "  0.97099743 0.94394549 0.39623362 0.8963046  0.10429622 0.72771923\n",
            "  0.69956432 0.88721895 0.89653158 0.03781706 0.37889516 0.75075039\n",
            "  1.06219739 0.29253851 0.44518364 0.88805258 0.7172868  0.41999795\n",
            "  0.54448063 0.75982657 0.56949043 0.68093684 0.76917502 0.6254795\n",
            "  0.81242639 0.41596654 0.77354443 0.43332746 0.16622899 0.53052743\n",
            "  0.47011184 0.54810721 0.76666115 1.10387834]\n",
            " [0.49144037 0.24129128 0.19462329 0.39178136 0.70398047 0.94168576\n",
            "  0.34554179 0.91696097 0.78084891 0.3934017  0.42838193 0.63367056\n",
            "  0.57874674 0.43479875 0.7104754  0.9646023  0.47370112 0.37051142\n",
            "  0.77025252 0.85944553 0.18250322 0.52773899 0.35499842 0.60589868\n",
            "  0.58507546 0.76274426 0.8093041  0.25028339 0.31556753 0.84993034\n",
            "  0.49277953 0.40165738 0.48371289 0.59937153 0.53759623 1.05051803\n",
            "  0.27043605 0.6153097  0.29032153 0.24168053 0.26069534 0.62418293\n",
            "  0.52002607 0.18713089 0.23978869 0.42932731 0.69460409 0.12100256\n",
            "  0.59753697 0.09466884 0.56559008 0.83340428 0.84857695 0.64613002\n",
            "  0.83097456 0.34649384 0.         0.36260989 0.72228449 0.61399186\n",
            "  0.56063565 0.28112014 0.33876025 0.29918392 0.71013636 0.36688738\n",
            "  0.76751283 0.70364302 0.30290446 0.75696751 0.43417171 0.85852186\n",
            "  0.47076396 0.66654799 0.89006948 0.31069919 0.12817523 0.51523268\n",
            "  0.89335726 0.36454726 0.57641559 0.97236868 0.37089706 0.67154535\n",
            "  0.30371339 0.85953304 0.76827906 0.34256976 0.49046182 0.32854483\n",
            "  0.87571922 0.60219048 0.8448574  0.43652759 0.41900933 0.67780494\n",
            "  0.51496928 0.40032791 0.42119051 0.92748719]\n",
            " [0.76922732 0.34945719 0.33684437 0.70494758 0.49064529 0.92294466\n",
            "  0.44992272 0.85200327 0.75304433 0.68057919 0.48739083 0.30653001\n",
            "  0.52276389 0.41581062 0.88267256 0.9924596  0.62040768 0.05182831\n",
            "  0.76399488 0.81651932 0.53713741 0.43360307 0.26927903 0.74050856\n",
            "  0.29302222 0.45929888 0.66146275 0.21251114 0.04747862 0.73657729\n",
            "  0.7612724  0.24927683 0.12139043 0.75591781 0.4288428  1.09722385\n",
            "  0.23111696 0.35589518 0.15703449 0.54752638 0.61863107 0.67583186\n",
            "  0.32863233 0.17707734 0.56312448 0.16590173 0.6505256  0.44347326\n",
            "  0.33868949 0.42548944 0.3527099  0.86642408 0.56073746 0.46408179\n",
            "  0.60065463 0.67783543 0.36260989 0.         0.86973305 0.39715081\n",
            "  0.83515496 0.47467942 0.06186307 0.17148503 0.49384451 0.03571545\n",
            "  0.48723933 0.38913211 0.38937095 0.55459236 0.77681372 0.92750855\n",
            "  0.2329139  0.38084296 0.81291005 0.64001893 0.2995868  0.24669841\n",
            "  0.63670015 0.54598617 0.70898736 0.97761974 0.20364393 0.88273104\n",
            "  0.19359419 0.89752497 0.91676448 0.10340386 0.15963145 0.06931796\n",
            "  0.87410469 0.77320734 0.8568151  0.51569665 0.688058   0.79723684\n",
            "  0.59388599 0.33425763 0.27436336 0.65922792]\n",
            " [0.35749286 0.53967486 0.57308803 0.47168426 0.71917749 0.42471768\n",
            "  0.42425195 0.50305412 0.38407993 0.41221992 0.38481635 0.91140893\n",
            "  0.45254249 0.47392572 0.06025346 0.35294878 0.25733595 0.83084218\n",
            "  0.33896438 0.43554833 0.64390324 0.52775315 0.60886394 0.12923537\n",
            "  0.82503434 0.92103431 0.62614112 0.66355717 0.84829499 0.57222176\n",
            "  0.33555556 1.05874939 0.95238666 0.12315499 0.54630716 0.38858586\n",
            "  0.6405306  0.77787252 0.92388059 0.51991333 0.65338782 0.24810102\n",
            "  0.66786794 0.79618079 0.54705811 0.76779874 0.41065532 0.61351536\n",
            "  0.77297745 0.63764502 0.69738374 0.27343791 0.93068956 0.65387631\n",
            "  0.7974003  0.53341999 0.72228449 0.86973305 0.         0.70759891\n",
            "  0.3370602  0.44478273 0.89972986 0.6982551  0.72619389 0.84251273\n",
            "  0.87223281 0.91656195 0.48583331 0.71410472 0.57545436 0.21505842\n",
            "  0.73370885 0.84061755 0.51563174 0.5352077  0.64758069 0.77476031\n",
            "  0.88433332 0.35956228 0.16086949 0.39776503 1.01420883 0.15944436\n",
            "  0.67635175 0.27422145 0.04757022 0.93313622 0.86133791 0.8004307\n",
            "  0.35937684 0.12315724 0.32008803 0.35474054 0.3679225  0.08729139\n",
            "  0.28269782 0.55482977 1.08403423 0.92990392]\n",
            " [0.78527687 0.42033948 0.45289015 0.78475207 0.09552655 0.59232685\n",
            "  0.41866637 0.49481797 0.438576   0.73094052 0.37861858 0.22666539\n",
            "  0.25611908 0.28012388 0.74556636 0.69244129 0.5319873  0.3468472\n",
            "  0.46720241 0.47929371 0.72544289 0.18490497 0.26361402 0.59584533\n",
            "  0.15028079 0.21711309 0.2725085  0.36436057 0.41942261 0.35942744\n",
            "  0.76702385 0.64513303 0.38790277 0.63109555 0.1648669  0.80307011\n",
            "  0.34372798 0.07787284 0.54638581 0.66296681 0.80054541 0.46190942\n",
            "  0.09427255 0.49460722 0.69477897 0.23260371 0.34448277 0.61984163\n",
            "  0.08241985 0.61832875 0.04925711 0.58776729 0.2595151  0.0791034\n",
            "  0.21845912 0.79192672 0.61399186 0.39715081 0.70759891 0.\n",
            "  0.83299836 0.51346916 0.45827533 0.32361512 0.10011284 0.36254343\n",
            "  0.18260988 0.21037765 0.39569315 0.15806316 0.89471466 0.6734819\n",
            "  0.16678853 0.13378395 0.45121611 0.75933962 0.49010133 0.15443289\n",
            "  0.28060164 0.53039638 0.57181961 0.6603858  0.60048661 0.79098141\n",
            "  0.31330333 0.61863252 0.74679913 0.50052312 0.26787542 0.35873279\n",
            "  0.56321832 0.65987781 0.56034617 0.40951553 0.71357721 0.62076443\n",
            "  0.44344934 0.24400127 0.66939755 0.31778848]\n",
            " [0.06928749 0.49114594 0.49831491 0.18759309 0.87999591 0.7457295\n",
            "  0.42607494 0.80058247 0.66059789 0.16723536 0.45455163 0.98555322\n",
            "  0.61777231 0.55347497 0.28502564 0.68858425 0.30865431 0.81287469\n",
            "  0.62155336 0.7295631  0.41487074 0.65322044 0.63244444 0.3219864\n",
            "  0.90509983 1.0466798  0.85449953 0.62737539 0.79885203 0.82986482\n",
            "  0.07392699 0.95519728 0.94469951 0.27874312 0.6734044  0.72347057\n",
            "  0.61684156 0.88471049 0.82993487 0.31897702 0.3878552  0.47054541\n",
            "  0.76097955 0.702623   0.32620656 0.79480843 0.64285416 0.43985582\n",
            "  0.87349436 0.4660361  0.80400461 0.59398451 1.08802361 0.80715496\n",
            "  0.98755362 0.25302395 0.56063565 0.83515496 0.3370602  0.83299836\n",
            "  0.         0.36368314 0.8423229  0.68083086 0.88766643 0.81914481\n",
            "  1.01500215 1.01897371 0.47164884 0.89815657 0.25503213 0.55075447\n",
            "  0.78837474 0.95101003 0.80142359 0.27399177 0.54622332 0.83855122\n",
            "  1.07319256 0.31069322 0.32236717 0.72960647 0.91858346 0.18976645\n",
            "  0.66485656 0.60186214 0.3604447  0.8634339  0.88841787 0.77226737\n",
            "  0.67528865 0.2500909  0.63467491 0.42453664 0.14792405 0.36953267\n",
            "  0.41383897 0.60851214 0.97686403 1.11809899]\n",
            " [0.30106589 0.12747396 0.14086184 0.27256924 0.58163847 0.68046775\n",
            "  0.10510951 0.67537028 0.53095042 0.22533691 0.18511206 0.63275191\n",
            "  0.36976021 0.24688199 0.43928959 0.69007054 0.19263    0.44980515\n",
            "  0.51219263 0.61121321 0.2627111  0.35911607 0.27753773 0.32521436\n",
            "  0.55703104 0.71411557 0.62348309 0.26432884 0.44142204 0.63843084\n",
            "  0.28996363 0.62520363 0.58151574 0.32166981 0.37649662 0.77186871\n",
            "  0.253173   0.55020066 0.49233162 0.16022449 0.31737319 0.35467609\n",
            "  0.42811342 0.36222697 0.19595347 0.43431968 0.46016878 0.18803062\n",
            "  0.53632707 0.20710422 0.47522356 0.56048612 0.77274084 0.51073764\n",
            "  0.7039869  0.27975833 0.28112014 0.47467942 0.44478273 0.51346916\n",
            "  0.36368314 0.         0.48813014 0.31714797 0.58908928 0.45669253\n",
            "  0.693986   0.67605294 0.11933188 0.61736244 0.38151783 0.57894359\n",
            "  0.43571451 0.61474708 0.65590368 0.24940368 0.20655601 0.48698981\n",
            "  0.78244317 0.08527806 0.29541136 0.70300407 0.58332969 0.41767251\n",
            "  0.30139761 0.58488295 0.49160294 0.51430157 0.52645931 0.40997574\n",
            "  0.61116075 0.32833447 0.57720906 0.1784155  0.22048114 0.39676553\n",
            "  0.24481686 0.27075001 0.64942262 0.82415054]\n",
            " [0.77495953 0.36763158 0.34750524 0.70167428 0.55210092 0.97393511\n",
            "  0.4762089  0.90670175 0.8035383  0.68305992 0.52201601 0.36349305\n",
            "  0.57285301 0.4582178  0.90900559 1.03908846 0.64638959 0.1115189\n",
            "  0.81237443 0.86903408 0.51889145 0.48571029 0.31208206 0.77067709\n",
            "  0.35429008 0.51828638 0.7208654  0.23622835 0.05246576 0.79424586\n",
            "  0.7688539  0.19096565 0.15608177 0.78303899 0.4823526  1.14238596\n",
            "  0.25970761 0.41775579 0.09732429 0.5433001  0.59891844 0.7162397\n",
            "  0.3874028  0.15270524 0.55515576 0.22619895 0.70147563 0.43228403\n",
            "  0.40055101 0.41174947 0.41326753 0.91147885 0.62066751 0.5240432\n",
            "  0.66251737 0.66924008 0.33876025 0.06186307 0.89972986 0.45827533\n",
            "  0.8423229  0.48813014 0.         0.20760123 0.55538916 0.09573264\n",
            "  0.54804142 0.44726853 0.41469609 0.61593825 0.76508164 0.96881417\n",
            "  0.29310617 0.44187504 0.86835749 0.63160865 0.29760198 0.30848697\n",
            "  0.69812046 0.56436007 0.73892531 1.02656501 0.14418034 0.90258913\n",
            "  0.23052052 0.94228511 0.94710259 0.04299035 0.21906418 0.11274642\n",
            "  0.92301704 0.79833976 0.90413785 0.54849683 0.69444514 0.83042237\n",
            "  0.62900833 0.37896301 0.21671188 0.72010587]\n",
            " [0.61756907 0.18969392 0.19097834 0.56935794 0.41758607 0.77364785\n",
            "  0.27999045 0.71527524 0.60307046 0.53526814 0.31636248 0.34441599\n",
            "  0.37340402 0.25119261 0.71179068 0.8334451  0.44998769 0.13575876\n",
            "  0.60885088 0.67215479 0.44130584 0.29249711 0.1068461  0.56903521\n",
            "  0.28745158 0.46434344 0.55453337 0.05882908 0.15515129 0.61567817\n",
            "  0.60708495 0.38943847 0.26584144 0.58491799 0.29350648 0.93573368\n",
            "  0.06412924 0.31680743 0.26225211 0.41845331 0.52247682 0.50864299\n",
            "  0.23300313 0.17564385 0.44138587 0.13509616 0.50244043 0.3364424\n",
            "  0.29887463 0.32650439 0.27436661 0.70493758 0.54949751 0.36947968\n",
            "  0.54202875 0.55353307 0.29918392 0.17148503 0.6982551  0.32361512\n",
            "  0.68083086 0.31714797 0.20760123 0.         0.42295148 0.14552769\n",
            "  0.46856456 0.40790601 0.22058226 0.47589    0.6568302  0.76121575\n",
            "  0.17168565 0.36744654 0.67963368 0.51642969 0.18837388 0.21651843\n",
            "  0.59853654 0.38134808 0.53753192 0.82319816 0.34175665 0.71505608\n",
            "  0.02292238 0.73556338 0.74527945 0.24650479 0.21577482 0.10217575\n",
            "  0.71983342 0.60285421 0.69927368 0.34429329 0.53648369 0.62602761\n",
            "  0.42313255 0.17438494 0.41584136 0.63078549]\n",
            " [0.84509697 0.5066584  0.54239326 0.85631923 0.00767856 0.54905597\n",
            "  0.48896194 0.43943492 0.41211981 0.79897783 0.43601327 0.28126844\n",
            "  0.27914285 0.34539559 0.77002033 0.66074924 0.58051856 0.44435398\n",
            "  0.44785066 0.43725251 0.8137835  0.23631389 0.35654504 0.62515884\n",
            "  0.22380171 0.20771098 0.19904438 0.46169837 0.51807581 0.2945732\n",
            "  0.82534944 0.74017696 0.47379228 0.66412736 0.21674772 0.77085005\n",
            "  0.43975326 0.14644573 0.64500576 0.74362129 0.88672727 0.4782085\n",
            "  0.19091515 0.59464607 0.77674483 0.33097329 0.33177999 0.70929816\n",
            "  0.16044942 0.7095046  0.14911062 0.56972372 0.20562893 0.08069147\n",
            "  0.12094997 0.86884759 0.71013636 0.49384451 0.72619389 0.10011284\n",
            "  0.88766643 0.58908928 0.55538916 0.42295148 0.         0.45981111\n",
            "  0.14893525 0.2342834  0.47480214 0.06258223 0.97004836 0.66180629\n",
            "  0.26610806 0.16701198 0.39455171 0.83784612 0.58473246 0.24783134\n",
            "  0.19340969 0.59520001 0.60473804 0.62163981 0.69633996 0.82608695\n",
            "  0.41179526 0.59905564 0.76143016 0.59720768 0.3558252  0.45807943\n",
            "  0.53133632 0.69461453 0.53558658 0.4640737  0.77762365 0.63898786\n",
            "  0.48240836 0.32690021 0.76393915 0.23534485]\n",
            " [0.75413448 0.33001335 0.32165117 0.69496092 0.45645714 0.88809232\n",
            "  0.42550664 0.8164671  0.71835589 0.66750389 0.45887749 0.28402596\n",
            "  0.48830106 0.38419968 0.8570862  0.95877337 0.59548256 0.0161204\n",
            "  0.72987536 0.78135484 0.53655009 0.39867826 0.23820892 0.71339334\n",
            "  0.26339071 0.43334985 0.62597079 0.19247782 0.06477839 0.70086887\n",
            "  0.74521904 0.2848091  0.12681711 0.73016114 0.39360148 1.06396228\n",
            "  0.20785368 0.32352064 0.18740235 0.53875934 0.61850061 0.64451267\n",
            "  0.29298639 0.18639331 0.55639619 0.13063517 0.61576125 0.43942648\n",
            "  0.30606279 0.42309176 0.31764735 0.83328637 0.53317179 0.42874547\n",
            "  0.56794661 0.67095135 0.36688738 0.03571545 0.84251273 0.36254343\n",
            "  0.81914481 0.45669253 0.09573264 0.14552769 0.45981111 0.\n",
            "  0.4582374  0.36460032 0.36582152 0.52024006 0.77141282 0.8956398\n",
            "  0.19762727 0.35154531 0.77728985 0.63317794 0.2921315  0.21349603\n",
            "  0.6061537  0.52506782 0.68203053 0.94327152 0.23891727 0.86020119\n",
            "  0.16655553 0.86446932 0.88934129 0.13818173 0.13528522 0.04691293\n",
            "  0.83979399 0.74834472 0.82296766 0.48791369 0.67285145 0.76871784\n",
            "  0.56486854 0.30200627 0.30998562 0.62989482]\n",
            " [0.96782925 0.59454921 0.62293251 0.96601893 0.15519295 0.68847065\n",
            "  0.60088515 0.57277243 0.55907922 0.91308287 0.56045283 0.20329202\n",
            "  0.42134686 0.46265966 0.91435452 0.80461673 0.71207991 0.445108\n",
            "  0.59592549 0.57862071 0.89459018 0.36342974 0.43247843 0.76732225\n",
            "  0.19493016 0.0670551  0.32708902 0.51868344 0.52232364 0.42471573\n",
            "  0.94946207 0.71659893 0.43128578 0.80478518 0.34312103 0.91400306\n",
            "  0.50312056 0.15267249 0.64426779 0.84017146 0.97204861 0.62415656\n",
            "  0.26672961 0.62351438 0.87086749 0.34658098 0.48070082 0.78815336\n",
            "  0.17013132 0.78385619 0.21897159 0.71760483 0.08144456 0.21865894\n",
            "  0.15671633 0.97099743 0.76751283 0.48723933 0.87223281 0.18260988\n",
            "  1.01500215 0.693986   0.54804142 0.46856456 0.14893525 0.4582374\n",
            "  0.         0.12503717 0.57531109 0.18511357 1.074368   0.81034933\n",
            "  0.29688518 0.10674349 0.52795169 0.93760086 0.64995301 0.25580561\n",
            "  0.15466635 0.71298876 0.74527415 0.76272616 0.67763751 0.96610295\n",
            "  0.46427578 0.74658253 0.90848767 0.58587234 0.3297277  0.471503\n",
            "  0.6759087  0.83454526 0.68222823 0.59086775 0.8961476  0.78494253\n",
            "  0.61944458 0.42333223 0.737617   0.17208154]\n",
            " [0.96578934 0.56304572 0.58334946 0.94751337 0.23768069 0.78267925\n",
            "  0.59415719 0.67360733 0.63951642 0.90070057 0.57082272 0.08544372\n",
            "  0.46629361 0.46933826 0.95277942 0.89140848 0.72786847 0.35369973\n",
            "  0.67163961 0.67035991 0.84777457 0.38980596 0.40023903 0.80204178\n",
            "  0.12186645 0.07319866 0.43095742 0.46391215 0.4293185  0.52782914\n",
            "  0.94962171 0.60453157 0.31668845 0.83545089 0.37066657 1.00192503\n",
            "  0.45460155 0.1392654  0.54458558 0.8096236  0.92807373 0.67191494\n",
            "  0.25937664 0.54283274 0.83722456 0.27442705 0.55049282 0.74184208\n",
            "  0.14703573 0.73365821 0.2213137  0.79326276 0.17927627 0.27750292\n",
            "  0.27898442 0.94394549 0.70364302 0.38913211 0.91656195 0.21037765\n",
            "  1.01897371 0.67605294 0.44726853 0.40790601 0.2342834  0.36460032\n",
            "  0.12503717 0.         0.55724838 0.2874374  1.04823415 0.88136052\n",
            "  0.24484108 0.07663757 0.62868949 0.90853446 0.59594357 0.19433211\n",
            "  0.27687507 0.70953148 0.77669335 0.85444886 0.56823369 0.99319857\n",
            "  0.40942855 0.82361588 0.9564355  0.48188005 0.22976625 0.38695703\n",
            "  0.76169431 0.86317359 0.76276644 0.60322875 0.88961241 0.83003622\n",
            "  0.64689434 0.41103668 0.62418942 0.28638285]\n",
            " [0.41305488 0.06402573 0.10980388 0.39188192 0.46748955 0.64042779\n",
            "  0.06160503 0.61456496 0.47803919 0.34346578 0.12875776 0.51628651\n",
            "  0.28252961 0.14338397 0.49446548 0.6724364  0.23180087 0.35633669\n",
            "  0.46881735 0.55654109 0.34875583 0.25217233 0.16123183 0.35728066\n",
            "  0.43894009 0.59478524 0.52820081 0.17866731 0.36392436 0.55608434\n",
            "  0.39929145 0.57507688 0.48551122 0.36834364 0.2675938  0.76532373\n",
            "  0.15831448 0.43088061 0.44017426 0.26881974 0.41583075 0.33164771\n",
            "  0.30904404 0.31577563 0.30215178 0.32352093 0.39254907 0.25200863\n",
            "  0.41700183 0.26085421 0.3563869  0.5405755  0.65448984 0.39813192\n",
            "  0.59189421 0.39623362 0.30290446 0.38937095 0.48583331 0.39569315\n",
            "  0.47164884 0.11933188 0.41469609 0.22058226 0.47480214 0.36582152\n",
            "  0.57531109 0.55724838 0.         0.50710525 0.49918317 0.57872732\n",
            "  0.31878444 0.49542972 0.58891176 0.36389217 0.18728824 0.36976524\n",
            "  0.66811654 0.16358287 0.32546638 0.67501463 0.52967622 0.49447421\n",
            "  0.20102324 0.56861546 0.53333897 0.4473477  0.41791963 0.32094134\n",
            "  0.57608286 0.3842306  0.54721138 0.14486024 0.33440769 0.4204388\n",
            "  0.22824285 0.15201243 0.60077457 0.70895716]\n",
            " [0.85953314 0.54445653 0.58275158 0.87953308 0.06439657 0.50337106\n",
            "  0.51448256 0.38879354 0.37788644 0.81979037 0.4535738  0.34083685\n",
            "  0.28111284 0.37066849 0.76121297 0.62013048 0.58952946 0.50463475\n",
            "  0.41698226 0.3936463  0.85161324 0.25852914 0.40198281 0.62095976\n",
            "  0.2862017  0.25006292 0.14393296 0.51111776 0.57748552 0.24143116\n",
            "  0.83883019 0.80167254 0.53637209 0.6618499  0.24086987 0.72921103\n",
            "  0.48762643 0.20900698 0.70444896 0.77482462 0.92223226 0.46829873\n",
            "  0.24292712 0.64950096 0.80889669 0.39060839 0.30850364 0.74864466\n",
            "  0.22298567 0.75058616 0.20548197 0.53757724 0.22187218 0.11139561\n",
            "  0.08946672 0.8963046  0.75696751 0.55459236 0.71410472 0.15806316\n",
            "  0.89815657 0.61736244 0.61593825 0.47589    0.06258223 0.52024006\n",
            "  0.18511357 0.2874374  0.50710525 0.         0.99578475 0.63225562\n",
            "  0.32481801 0.22527304 0.34385868 0.86676216 0.63013571 0.30936583\n",
            "  0.17550821 0.61533236 0.60312797 0.57764216 0.75752846 0.82368735\n",
            "  0.46320646 0.56567946 0.74657148 0.65799603 0.41829197 0.51666886\n",
            "  0.49192391 0.69311375 0.50008438 0.47912096 0.79558801 0.62761097\n",
            "  0.48679549 0.36478163 0.82559669 0.22095573]\n",
            " [0.21806878 0.48519842 0.46803971 0.12195001 0.96254844 0.95358557\n",
            "  0.48159992 0.98633239 0.83962481 0.18937069 0.54646554 0.99626851\n",
            "  0.73304422 0.62563008 0.53027153 0.91618468 0.45070097 0.77009749\n",
            "  0.80749944 0.91609854 0.25286745 0.73737546 0.6485208  0.52379037\n",
            "  0.927009   1.0912914  0.98666309 0.59803084 0.73279233 0.98441461\n",
            "  0.23997905 0.83139252 0.89675392 0.48794297 0.75561471 0.96374097\n",
            "  0.59957883 0.92810524 0.72446656 0.23932021 0.18628331 0.64330099\n",
            "  0.80778624 0.61289115 0.21586183 0.78881628 0.79594435 0.33356625\n",
            "  0.91334898 0.35333217 0.85539701 0.80722918 1.15367299 0.89106004\n",
            "  1.08347391 0.10429622 0.43417171 0.77681372 0.57545436 0.89471466\n",
            "  0.25503213 0.38151783 0.76508164 0.6568302  0.97004836 0.77141282\n",
            "  1.074368   1.04823415 0.49918317 0.99578475 0.         0.78094815\n",
            "  0.80385903 0.99129302 0.97811117 0.14052632 0.47939395 0.85503974\n",
            "  1.16321428 0.38514162 0.51165896 0.94999412 0.80382208 0.44172116\n",
            "  0.64822215 0.82086416 0.60577084 0.77423891 0.87225924 0.72642479\n",
            "  0.88120046 0.46705696 0.84137734 0.52638179 0.22840044 0.58696521\n",
            "  0.55473601 0.65118619 0.84871556 1.20530353]\n",
            " [0.56502812 0.64111711 0.68290214 0.67030649 0.65601877 0.22487369\n",
            "  0.52237191 0.32841147 0.25618462 0.60625235 0.45372764 0.89641998\n",
            "  0.42866456 0.51170435 0.2726472  0.13795742 0.38984669 0.88163938\n",
            "  0.21527898 0.27301225 0.81422142 0.52008269 0.65832462 0.26863667\n",
            "  0.81256434 0.86867195 0.51358956 0.74128259 0.91636694 0.43613489\n",
            "  0.54193942 1.14552494 0.98820933 0.29608987 0.53385675 0.19378222\n",
            "  0.71395489 0.75046494 1.01217448 0.68968858 0.83709431 0.25271667\n",
            "  0.66241139 0.89278979 0.72126892 0.79614788 0.3313683  0.76384511\n",
            "  0.75062962 0.7849945  0.67849983 0.09773293 0.85394776 0.60416103\n",
            "  0.70341707 0.72771923 0.85852186 0.92750855 0.21505842 0.6734819\n",
            "  0.55075447 0.57894359 0.96881417 0.76121575 0.66180629 0.8956398\n",
            "  0.81034933 0.88136052 0.57872732 0.63225562 0.78094815 0.\n",
            "  0.74733901 0.80520943 0.35402502 0.72355555 0.76157502 0.77806376\n",
            "  0.78564689 0.50023888 0.29188183 0.1848116  1.09859499 0.37354043\n",
            "  0.73829492 0.07793129 0.20563528 1.00719666 0.88152297 0.85984736\n",
            "  0.17381059 0.31408321 0.14449973 0.43386805 0.56202061 0.19744509\n",
            "  0.35053449 0.59364991 1.17175397 0.8291888 ]\n",
            " [0.73147832 0.31893427 0.33855819 0.70516331 0.26203342 0.70959308\n",
            "  0.36280962 0.62827752 0.54335114 0.66105011 0.35815291 0.1975294\n",
            "  0.32119934 0.26077035 0.76026897 0.79258428 0.5139495  0.18165869\n",
            "  0.56153484 0.59940466 0.60499796 0.22839376 0.15817685 0.60930005\n",
            "  0.12319323 0.2951915  0.42875556 0.22332436 0.25276627 0.50624835\n",
            "  0.71695969 0.48211925 0.24778757 0.63597448 0.21737431 0.90110437\n",
            "  0.2109858  0.1455919  0.37969626 0.56498574 0.68458996 0.50681514\n",
            "  0.09848951 0.33286931 0.59238859 0.06701345 0.4411978  0.49866897\n",
            "  0.12750376 0.49189386 0.12031174 0.67389858 0.37782741 0.23116954\n",
            "  0.38016321 0.69956432 0.47076396 0.2329139  0.73370885 0.16678853\n",
            "  0.78837474 0.43571451 0.29310617 0.17168565 0.26610806 0.19762727\n",
            "  0.29688518 0.24484108 0.31878444 0.32481801 0.80385903 0.74733901\n",
            "  0.         0.19667999 0.58741014 0.66394079 0.35557852 0.05140081\n",
            "  0.43011911 0.47775538 0.58040101 0.77026135 0.43651546 0.78521832\n",
            "  0.16850917 0.7054864  0.77788415 0.33577342 0.13435163 0.19200244\n",
            "  0.66802517 0.6602025  0.65643295 0.39097357 0.65318682 0.65158282\n",
            "  0.4517209  0.18528213 0.50700314 0.4605875 ]\n",
            " [0.89958123 0.50708245 0.53147897 0.88719723 0.16913273 0.71122081\n",
            "  0.52837844 0.60512687 0.56498039 0.83793072 0.49992015 0.11602116\n",
            "  0.38981853 0.39880403 0.8774933  0.81765151 0.65621586 0.33836745\n",
            "  0.59626116 0.59847382 0.80063579 0.31475936 0.34337915 0.7270701\n",
            "  0.08818961 0.10013509 0.36602995 0.42000405 0.41558432 0.46139105\n",
            "  0.88268977 0.61334345 0.33110157 0.76112544 0.29534226 0.92827477\n",
            "  0.40686551 0.06635596 0.53782727 0.7541636  0.87955768 0.59552894\n",
            "  0.19009032 0.51792778 0.78328924 0.24141082 0.47465121 0.69415901\n",
            "  0.07846647 0.68814231 0.14827655 0.71768569 0.18434078 0.20199553\n",
            "  0.2360767  0.88721895 0.66654799 0.38084296 0.84061755 0.13378395\n",
            "  0.95101003 0.61474708 0.44187504 0.36744654 0.16701198 0.35154531\n",
            "  0.10674349 0.07663757 0.49542972 0.22527304 0.99129302 0.80520943\n",
            "  0.19667999 0.         0.56039209 0.85263578 0.55222249 0.15171897\n",
            "  0.25710986 0.64314252 0.70215978 0.78204239 0.57334219 0.91968833\n",
            "  0.3651862  0.74818355 0.88022373 0.48021912 0.22443692 0.36509403\n",
            "  0.68795269 0.7892241  0.68797093 0.53197738 0.82473959 0.75396237\n",
            "  0.57272467 0.34589533 0.63501334 0.27842995]\n",
            " [0.78836432 0.64886506 0.69546487 0.85642802 0.3916314  0.16663284\n",
            "  0.55856705 0.04496222 0.14093269 0.78874887 0.47310576 0.67131475\n",
            "  0.31416517 0.4572199  0.57443672 0.29494077 0.52748021 0.76127178\n",
            "  0.1810548  0.08198807 0.91859412 0.38713707 0.57612581 0.47992446\n",
            "  0.60116753 0.59372013 0.20091924 0.68808084 0.82024693 0.10371964\n",
            "  0.76439442 1.05910847 0.83142225 0.52400932 0.38731417 0.3976495\n",
            "  0.65892392 0.52515135 0.93996165 0.80893643 0.96910293 0.33615714\n",
            "  0.48893446 0.84843045 0.84510975 0.65166315 0.19698325 0.83460558\n",
            "  0.53309487 0.84713422 0.47963035 0.25896043 0.54957908 0.37216085\n",
            "  0.39001304 0.89653158 0.89006948 0.81291005 0.51563174 0.45121611\n",
            "  0.80142359 0.65590368 0.86835749 0.67963368 0.39455171 0.77728985\n",
            "  0.52795169 0.62868949 0.58891176 0.34385868 0.97811117 0.35402502\n",
            "  0.58741014 0.56039209 0.         0.87822476 0.76678048 0.59635946\n",
            "  0.46118915 0.60908145 0.47990756 0.24323539 1.01179195 0.66418615\n",
            "  0.65930254 0.27643986 0.52986485 0.91112277 0.71187368 0.75667007\n",
            "  0.18243264 0.55454362 0.2100126  0.47771912 0.75102913 0.44596291\n",
            "  0.42665029 0.51175151 1.0850213  0.50061628]\n",
            " [0.21041875 0.34577444 0.32753442 0.08761659 0.83044443 0.87309252\n",
            "  0.35311211 0.89118751 0.74377431 0.12485336 0.42535378 0.8558402\n",
            "  0.61307632 0.49620112 0.5015573  0.85292119 0.35672939 0.63131835\n",
            "  0.71631565 0.82270007 0.14336419 0.60844273 0.5094118  0.45589995\n",
            "  0.7871282  0.95273058 0.86780895 0.45765516 0.596939   0.87411412\n",
            "  0.22191176 0.71230872 0.75912225 0.42827513 0.62589923 0.91408236\n",
            "  0.45905918 0.79003127 0.59800787 0.09898266 0.11983942 0.55072721\n",
            "  0.67087328 0.48077969 0.07689521 0.6482905  0.68868188 0.19971528\n",
            "  0.77496284 0.2222131  0.71875844 0.73414347 1.01745938 0.75992541\n",
            "  0.95332217 0.03781706 0.31069919 0.64001893 0.5352077  0.75933962\n",
            "  0.27399177 0.24940368 0.63160865 0.51642969 0.83784612 0.63317794\n",
            "  0.93760086 0.90853446 0.36389217 0.86676216 0.14052632 0.72355555\n",
            "  0.66394079 0.85263578 0.87822476 0.         0.34110169 0.71503532\n",
            "  1.03125545 0.27044495 0.43680608 0.87943832 0.68116678 0.43088674\n",
            "  0.50769804 0.75204302 0.57330969 0.64361568 0.73197394 0.58774609\n",
            "  0.80083006 0.41516196 0.76252681 0.40963218 0.16802721 0.52612041\n",
            "  0.45164997 0.5153481  0.73149348 1.07254861]\n",
            " [0.47824979 0.12326972 0.07878642 0.40575317 0.57839508 0.82689815\n",
            "  0.23941096 0.79525959 0.66261614 0.38550677 0.31599397 0.53239587\n",
            "  0.4537711  0.30983558 0.64520952 0.85915316 0.39096682 0.29073933\n",
            "  0.65534767 0.74002138 0.25325296 0.39984154 0.22840087 0.52360751\n",
            "  0.47491845 0.65056276 0.681247   0.13239202 0.25807317 0.72337161\n",
            "  0.47326071 0.41926566 0.41804676 0.5251157  0.40946933 0.9503828\n",
            "  0.14724213 0.49728097 0.28776352 0.24797795 0.33481881 0.51793129\n",
            "  0.39584076 0.15799449 0.26428081 0.32335296 0.5728492  0.14989429\n",
            "  0.47995969 0.13820946 0.44239741 0.72730331 0.73136638 0.51903193\n",
            "  0.70568098 0.37889516 0.12817523 0.2995868  0.64758069 0.49010133\n",
            "  0.54622332 0.20655601 0.29760198 0.18837388 0.58473246 0.2921315\n",
            "  0.64995301 0.59594357 0.18728824 0.63013571 0.47939395 0.76157502\n",
            "  0.35557852 0.55222249 0.76678048 0.34110169 0.         0.40315641\n",
            "  0.77044848 0.29065275 0.49247142 0.8623025  0.37841056 0.62295905\n",
            "  0.18723251 0.754956   0.69486354 0.31721059 0.39780184 0.24704467\n",
            "  0.76318506 0.53388354 0.73449961 0.32964708 0.39834536 0.59224329\n",
            "  0.4118666  0.27215759 0.44319847 0.80592823]\n",
            " [0.78215705 0.3702464  0.38913436 0.75656412 0.24505599 0.72681771\n",
            "  0.41264025 0.63863238 0.56395881 0.71231566 0.4039554  0.14700237\n",
            "  0.34953686 0.30466289 0.80337762 0.81597846 0.56071884 0.19855357\n",
            "  0.58551766 0.6150578  0.6539904  0.25822189 0.20946945 0.6519799\n",
            "  0.07246591 0.24783306 0.42597034 0.27078722 0.27442514 0.50954464\n",
            "  0.7674015  0.49236681 0.23566321 0.68015433 0.24430614 0.92549883\n",
            "  0.26037015 0.11085864 0.40044988 0.61606338 0.73400969 0.54278467\n",
            "  0.11628364 0.3680067  0.64319797 0.0911601  0.4632807  0.54786507\n",
            "  0.09299807 0.54030193 0.1170127  0.70096662 0.33551034 0.22861934\n",
            "  0.35451027 0.75075039 0.51523268 0.24669841 0.77476031 0.15443289\n",
            "  0.83855122 0.48698981 0.30848697 0.21651843 0.24783134 0.21349603\n",
            "  0.25580561 0.19433211 0.36976524 0.30936583 0.85503974 0.77806376\n",
            "  0.05140081 0.15171897 0.59635946 0.71503532 0.40315641 0.\n",
            "  0.3964748  0.52786062 0.62371925 0.79035423 0.44855603 0.83142851\n",
            "  0.21601355 0.7325075  0.81818449 0.34984759 0.11561194 0.21856302\n",
            "  0.68939607 0.70516522 0.68049411 0.4368771  0.70410813 0.69139693\n",
            "  0.49413419 0.23285215 0.51623159 0.42383827]\n",
            " [1.03349597 0.69848332 0.73272445 1.0488877  0.20081998 0.62777538\n",
            "  0.68184395 0.50342547 0.5296235  0.9907004  0.62577884 0.35773883\n",
            "  0.45659832 0.53798017 0.93317454 0.75391636 0.76466158 0.59224246\n",
            "  0.57233068 0.52743984 1.00495819 0.42742499 0.5441597  0.79513595\n",
            "  0.34388109 0.20778794 0.27241532 0.64314385 0.66922372 0.36005016\n",
            "  1.01309329 0.87014335 0.58572804 0.83649114 0.40842947 0.85869664\n",
            "  0.62367133 0.28615156 0.79331613 0.93692996 1.07889946 0.64083368\n",
            "  0.37482031 0.76262801 0.96991394 0.48729906 0.47459638 0.89977965\n",
            "  0.3043391  0.89877361 0.32807588 0.68858376 0.11232655 0.27229501\n",
            "  0.0873787  1.06219739 0.89335726 0.63670015 0.88433332 0.28060164\n",
            "  1.07319256 0.78244317 0.69812046 0.59853654 0.19340969 0.6061537\n",
            "  0.15466635 0.27687507 0.66811654 0.17550821 1.16321428 0.78564689\n",
            "  0.43011911 0.25710986 0.46118915 1.03125545 0.77044848 0.3964748\n",
            "  0.         0.78646643 0.77800302 0.70432379 0.83043332 0.99810077\n",
            "  0.59061747 0.71426699 0.91475416 0.73701802 0.48152622 0.61501398\n",
            "  0.63126384 0.8679007  0.64645919 0.65245468 0.9680397  0.79861468\n",
            "  0.6622947  0.51933971 0.89149784 0.04575096]\n",
            " [0.25645069 0.19706751 0.22070191 0.26561361 0.58755939 0.61690242\n",
            "  0.11553219 0.62402805 0.477122   0.20445886 0.16228605 0.67486297\n",
            "  0.34791464 0.25109422 0.35456975 0.61637186 0.11062672 0.51666349\n",
            "  0.4531374  0.5569215  0.32164801 0.35914767 0.32265991 0.24144658\n",
            "  0.59461471 0.74032675 0.60168184 0.33351077 0.51589702 0.60393237\n",
            "  0.24015378 0.70792969 0.64716187 0.23642668 0.37847888 0.69386244\n",
            "  0.31760072 0.57710784 0.57426916 0.20263418 0.36194156 0.28975982\n",
            "  0.453182   0.44447864 0.23816211 0.48672136 0.41827293 0.26367361\n",
            "  0.56508595 0.28537841 0.49776344 0.48903515 0.78891082 0.51481207\n",
            "  0.70412097 0.29253851 0.36454726 0.54598617 0.35956228 0.53039638\n",
            "  0.31069322 0.08527806 0.56436007 0.38134808 0.59520001 0.52506782\n",
            "  0.71298876 0.70953148 0.16358287 0.61533236 0.38514162 0.50023888\n",
            "  0.47775538 0.64314252 0.60908145 0.27044495 0.29065275 0.52786062\n",
            "  0.78646643 0.         0.21246283 0.63344747 0.66529186 0.33824847\n",
            "  0.36300827 0.51165435 0.40633657 0.59274398 0.58139198 0.47908859\n",
            "  0.54594639 0.243354   0.51001412 0.1413148  0.18323521 0.31379335\n",
            "  0.18418366 0.29852697 0.73244997 0.82992577]\n",
            " [0.30985936 0.38080472 0.41626988 0.39360429 0.59731453 0.44199569\n",
            "  0.26398848 0.48160546 0.33897544 0.32649987 0.22593344 0.76421918\n",
            "  0.32559766 0.31963611 0.17987433 0.41669346 0.10281384 0.67054416\n",
            "  0.3016234  0.41053764 0.52233967 0.38751185 0.44975764 0.03181429\n",
            "  0.6781961  0.78849186 0.54029389 0.50279903 0.68744469 0.50864988\n",
            "  0.28573338 0.89958238 0.79322848 0.05951207 0.40721074 0.4854462\n",
            "  0.47966315 0.63743718 0.764633   0.39785388 0.54727755 0.14901339\n",
            "  0.52169403 0.63783189 0.42975899 0.6108042  0.32414932 0.47526333\n",
            "  0.63065294 0.49756807 0.55549187 0.29805221 0.81024183 0.52753309\n",
            "  0.69074602 0.44518364 0.57641559 0.70898736 0.16086949 0.57181961\n",
            "  0.32236717 0.29541136 0.73892531 0.53753192 0.60473804 0.68203053\n",
            "  0.74527415 0.77669335 0.32546638 0.60312797 0.51165896 0.29188183\n",
            "  0.58040101 0.70215978 0.47990756 0.43680608 0.49247142 0.62371925\n",
            "  0.77800302 0.21246283 0.         0.44296174 0.85465751 0.22135074\n",
            "  0.51571784 0.31523796 0.20817868 0.77256363 0.70521414 0.63970036\n",
            "  0.36957137 0.09004342 0.32989092 0.19490434 0.28414283 0.10139886\n",
            "  0.130294   0.39831627 0.92504405 0.82368964]\n",
            " [0.73789167 0.73903429 0.78437194 0.83482305 0.61749529 0.07661938\n",
            "  0.62695413 0.20262094 0.22691233 0.76851655 0.54637888 0.88666701\n",
            "  0.45500021 0.57484497 0.45648936 0.06106195 0.52822035 0.92798118\n",
            "  0.21436139 0.18442858 0.95480669 0.54595065 0.71641865 0.42691011\n",
            "  0.8092638  0.82686646 0.43919363 0.81578454 0.97522405 0.34499067\n",
            "  0.71418826 1.2125798  1.01796036 0.4622078  0.5539156  0.15441436\n",
            "  0.78673992 0.73777803 1.08400442 0.83299111 0.98749461 0.34897835\n",
            "  0.67539454 0.97511195 0.86687204 0.82836502 0.32929104 0.89103285\n",
            "  0.74241529 0.90934684 0.67854099 0.14546958 0.79028309 0.58300453\n",
            "  0.63144638 0.88805258 0.97236868 0.97761974 0.39776503 0.6603858\n",
            "  0.72960647 0.70300407 1.02656501 0.82319816 0.62163981 0.94327152\n",
            "  0.76272616 0.85444886 0.67501463 0.57764216 0.94999412 0.1848116\n",
            "  0.77026135 0.78204239 0.24323539 0.87943832 0.8623025  0.79035423\n",
            "  0.70432379 0.63344747 0.44296174 0.         1.16486268 0.55706778\n",
            "  0.80078859 0.12915938 0.39043398 1.06770023 0.90259443 0.91411135\n",
            "  0.10355541 0.48509086 0.12780798 0.53585243 0.72528991 0.36383235\n",
            "  0.45903763 0.64889085 1.2389745  0.74383839]\n",
            " [0.84958049 0.47466063 0.44466978 0.7600397  0.69338589 1.11419898\n",
            "  0.59083498 1.04972711 0.94360647 0.75331533 0.64660239 0.48281518\n",
            "  0.71311408 0.59225486 1.01778556 1.17495562 0.75744227 0.25494892\n",
            "  0.9505017  1.0106397  0.55097947 0.62766106 0.44845351 0.88644182\n",
            "  0.48771581 0.64105424 0.86480896 0.35753784 0.19172722 0.93839539\n",
            "  0.84706562 0.04774797 0.25338624 0.89415733 0.62513043 1.2764099\n",
            "  0.38464079 0.55570279 0.09103149 0.60458573 0.62407346 0.84604682\n",
            "  0.53149068 0.22110595 0.60832048 0.36950444 0.84210398 0.48482929\n",
            "  0.53908281 0.46026793 0.55634617 1.04588936 0.74602403 0.66765955\n",
            "  0.80026653 0.7172868  0.37089706 0.20364393 1.01420883 0.60048661\n",
            "  0.91858346 0.58332969 0.14418034 0.34175665 0.69633996 0.23891727\n",
            "  0.67763751 0.56823369 0.52967622 0.75752846 0.80382208 1.09859499\n",
            "  0.43651546 0.57334219 1.01179195 0.68116678 0.37841056 0.44855603\n",
            "  0.83043332 0.66529186 0.85465751 1.16486268 0.         1.00085952\n",
            "  0.36432658 1.07628093 1.06177898 0.10119075 0.34910668 0.25513915\n",
            "  1.06144172 0.90624027 1.04100913 0.67041166 0.77185372 0.95003152\n",
            "  0.75293456 0.51597255 0.0741184  0.84919296]\n",
            " [0.2282933  0.53508522 0.55777509 0.35404009 0.81866008 0.58325924\n",
            "  0.43600858 0.65554832 0.52736591 0.30691157 0.42747434 0.97527268\n",
            "  0.5469481  0.52769298 0.10095965 0.51097731 0.27154708 0.85080703\n",
            "  0.48390992 0.5862847  0.55862574 0.60612458 0.6419429  0.2030717\n",
            "  0.89014516 1.00802443 0.75331808 0.67035926 0.8538819  0.71065958\n",
            "  0.21119269 1.04222293 0.97939362 0.16204988 0.62611463 0.53693126\n",
            "  0.65240644 0.85425324 0.90990489 0.4425402  0.55051252 0.36004146\n",
            "  0.73550255 0.77976787 0.46196851 0.80729383 0.53512796 0.55341536\n",
            "  0.84639973 0.57944895 0.77197758 0.43125874 1.031573   0.74871673\n",
            "  0.9107475  0.41999795 0.67154535 0.88273104 0.15944436 0.79098141\n",
            "  0.18976645 0.41767251 0.90258913 0.71505608 0.82608695 0.86020119\n",
            "  0.96610295 0.99319857 0.49447421 0.82368735 0.44172116 0.37354043\n",
            "  0.78521832 0.91968833 0.66418615 0.43088674 0.62295905 0.83142851\n",
            "  0.99810077 0.33824847 0.22135074 0.55706778 1.00085952 0.\n",
            "  0.69524851 0.4334578  0.17368248 0.93079992 0.90284133 0.81494074\n",
            "  0.51649924 0.13158494 0.47658503 0.39455141 0.26697947 0.21830132\n",
            "  0.34753385 0.60004044 1.06609426 1.04383472]\n",
            " [0.60235754 0.17442657 0.18050011 0.55791407 0.40617179 0.7516594\n",
            "  0.2595981  0.69453418 0.58112294 0.52177697 0.29390161 0.34949655\n",
            "  0.35181941 0.22835789 0.69053594 0.81074124 0.42911341 0.15595748\n",
            "  0.58646377 0.65068071 0.43835423 0.2722677  0.08476921 0.54716165\n",
            "  0.28800813 0.46333458 0.53765445 0.05485296 0.17807265 0.59688055\n",
            "  0.59127011 0.41197827 0.28450685 0.56360636 0.27410038 0.91290311\n",
            "  0.04936455 0.3118012  0.28403764 0.40917984 0.51885254 0.48572819\n",
            "  0.22100646 0.19252507 0.43348745 0.14069591 0.48077256 0.33257083\n",
            "  0.29415591 0.32434065 0.26424018 0.68212821 0.54553474 0.35541806\n",
            "  0.53167007 0.54448063 0.30371339 0.19359419 0.67635175 0.31330333\n",
            "  0.66485656 0.30139761 0.23052052 0.02292238 0.41179526 0.16655553\n",
            "  0.46427578 0.40942855 0.20102324 0.46320646 0.64822215 0.73829492\n",
            "  0.16850917 0.3651862  0.65930254 0.50769804 0.18723251 0.21601355\n",
            "  0.59061747 0.36300827 0.51571784 0.80078859 0.36432658 0.69524851\n",
            "  0.         0.71273041 0.72330684 0.26938476 0.22700862 0.12430003\n",
            "  0.69746676 0.58194653 0.67668393 0.32211237 0.52148277 0.60367978\n",
            "  0.40057913 0.15218906 0.4383837  0.62399944]\n",
            " [0.60886179 0.63233111 0.67628669 0.70598492 0.5936579  0.1519099\n",
            "  0.51635326 0.25051248 0.18780993 0.63989357 0.44037769 0.84402259\n",
            "  0.38429249 0.48437319 0.33407042 0.10522155 0.40411681 0.84986337\n",
            "  0.15198181 0.19591446 0.83169582 0.47710172 0.63021302 0.29811258\n",
            "  0.76183859 0.80669712 0.4418517  0.72129964 0.89011123 0.36101984\n",
            "  0.58512142 1.12369648 0.95022483 0.33304854 0.48886454 0.20017398\n",
            "  0.69298785 0.69631605 0.99213728 0.70876004 0.86154774 0.23704106\n",
            "  0.61623445 0.87731084 0.74204315 0.75818914 0.27415494 0.77249709\n",
            "  0.69790841 0.79196738 0.62795834 0.03158864 0.78650611 0.54622095\n",
            "  0.6334986  0.75982657 0.85953304 0.89752497 0.27422145 0.61863252\n",
            "  0.60186214 0.58488295 0.94228511 0.73556338 0.59905564 0.86446932\n",
            "  0.74658253 0.82361588 0.56861546 0.56567946 0.82086416 0.07793129\n",
            "  0.7054864  0.74818355 0.27643986 0.75204302 0.754956   0.7325075\n",
            "  0.71426699 0.51165435 0.31523796 0.12915938 1.07628093 0.4334578\n",
            "  0.71273041 0.         0.27359803 0.98201779 0.83976368 0.83133051\n",
            "  0.09594766 0.356119   0.06835678 0.42543342 0.59650593 0.23477796\n",
            "  0.34468962 0.56368842 1.15006849 0.75721718]\n",
            " [0.38793995 0.58724135 0.62054501 0.50635121 0.7545546  0.42550724\n",
            "  0.47176691 0.51349348 0.40388559 0.44925725 0.4311764  0.95348361\n",
            "  0.49092903 0.5188161  0.07571508 0.34076059 0.30484381 0.87755921\n",
            "  0.35828341 0.44847703 0.6858428  0.56883427 0.65509919 0.17645166\n",
            "  0.86711891 0.95876594 0.65252082 0.71095991 0.89561533 0.59322472\n",
            "  0.36711977 1.10631458 0.99852007 0.16997497 0.58701036 0.36348445\n",
            "  0.68780866 0.8181817  0.97144859 0.56248828 0.69227552 0.28521801\n",
            "  0.71005341 0.84371657 0.58864882 0.81316124 0.44015922 0.6584635\n",
            "  0.81383661 0.6828387  0.73829958 0.27826545 0.96493842 0.69075227\n",
            "  0.82827483 0.56949043 0.76827906 0.91676448 0.04757022 0.74679913\n",
            "  0.3604447  0.49160294 0.94710259 0.74527945 0.76143016 0.88934129\n",
            "  0.90848767 0.9564355  0.53333897 0.74657148 0.60577084 0.20563528\n",
            "  0.77788415 0.88022373 0.52986485 0.57330969 0.69486354 0.81818449\n",
            "  0.91475416 0.40633657 0.20817868 0.39043398 1.06177898 0.17368248\n",
            "  0.72330684 0.27359803 0.         0.98061379 0.90633677 0.84745225\n",
            "  0.36443718 0.16696323 0.32693805 0.4014468  0.40536579 0.12705625\n",
            "  0.32797854 0.60022348 1.13159346 0.9601274 ]\n",
            " [0.79539613 0.39724308 0.3734753  0.71674284 0.59403728 1.01569346\n",
            "  0.50895165 0.94933856 0.84520984 0.701839   0.55828969 0.39722328\n",
            "  0.61453623 0.49767303 0.94058856 1.07944755 0.67833977 0.15411479\n",
            "  0.85341339 0.91121332 0.52474421 0.52794831 0.35216715 0.80436543\n",
            "  0.39319385 0.55369578 0.76376257 0.2701804  0.0924834  0.83722999\n",
            "  0.79041783 0.14805172 0.17841103 0.81522844 0.52487534 1.18217836\n",
            "  0.29524212 0.45842027 0.06924247 0.55858947 0.60314441 0.75449439\n",
            "  0.43035051 0.16327234 0.5679101  0.26880471 0.74331302 0.44392492\n",
            "  0.4414157  0.42187289 0.45582837 0.95133613 0.65712767 0.56681511\n",
            "  0.70325426 0.68093684 0.34256976 0.10340386 0.93313622 0.50052312\n",
            "  0.8634339  0.51430157 0.04299035 0.24650479 0.59720768 0.13818173\n",
            "  0.58587234 0.48188005 0.4473477  0.65799603 0.77423891 1.00719666\n",
            "  0.33577342 0.48021912 0.91112277 0.64361568 0.31721059 0.34984759\n",
            "  0.73701802 0.59274398 0.77256363 1.06770023 0.10119075 0.93079992\n",
            "  0.26938476 0.98201779 0.98061379 0.         0.25616098 0.15489451\n",
            "  0.96417594 0.82950516 0.94479026 0.58390588 0.71554997 0.86542558\n",
            "  0.66521887 0.41938245 0.17389869 0.7579276 ]\n",
            " [0.82739422 0.40067556 0.40655559 0.78470667 0.35403959 0.840388\n",
            "  0.47032775 0.75400629 0.67577079 0.74854753 0.47995876 0.14881248\n",
            "  0.45547294 0.38752067 0.8847562  0.92617321 0.63161273 0.12558464\n",
            "  0.69518526 0.72915062 0.65006784 0.3627099  0.26123096 0.73502011\n",
            "  0.13882306 0.29967049 0.54032006 0.27439279 0.19979092 0.62499771\n",
            "  0.81530005 0.38995458 0.12022727 0.7589629  0.35126355 1.03498726\n",
            "  0.27636189 0.21054174 0.3160588  0.63418448 0.73202342 0.6394418\n",
            "  0.2273054  0.31816681 0.65657152 0.09556881 0.57411424 0.54767608\n",
            "  0.19543829 0.53492562 0.23261573 0.80817507 0.40160349 0.34376589\n",
            "  0.45289228 0.76917502 0.49046182 0.15963145 0.86133791 0.26787542\n",
            "  0.88841787 0.52645931 0.21906418 0.21577482 0.3558252  0.13528522\n",
            "  0.3297277  0.22976625 0.41791963 0.41829197 0.87225924 0.88152297\n",
            "  0.13435163 0.22443692 0.71187368 0.73197394 0.39780184 0.11561194\n",
            "  0.48152622 0.58139198 0.70521414 0.90259443 0.34910668 0.90284133\n",
            "  0.22700862 0.83976368 0.90633677 0.25616098 0.         0.16325711\n",
            "  0.80085511 0.78145544 0.79015518 0.51213106 0.74693896 0.78086569\n",
            "  0.57864173 0.30691684 0.4123487  0.50176965]\n",
            " [0.70722287 0.28351508 0.27474709 0.64860407 0.4540358  0.86119836\n",
            "  0.38117682 0.79461802 0.69082353 0.62067472 0.41816047 0.31036922\n",
            "  0.46014499 0.34825842 0.81364256 0.92734224 0.55153677 0.04373334\n",
            "  0.70001963 0.75636066 0.49417862 0.3730667  0.20160625 0.67120987\n",
            "  0.27749705 0.45275769 0.61408446 0.14595895 0.06373974 0.68452883\n",
            "  0.6983408  0.30255997 0.17350781 0.68683414 0.37006265 1.03128315\n",
            "  0.16264247 0.32926589 0.18885432 0.49278651 0.57625108 0.60778649\n",
            "  0.28077321 0.15598669 0.5110681  0.12840714 0.5887318  0.39541219\n",
            "  0.31122906 0.37997354 0.31146759 0.8003746  0.54897609 0.41933464\n",
            "  0.57072661 0.6254795  0.32854483 0.06931796 0.8004307  0.35873279\n",
            "  0.77226737 0.40997574 0.11274642 0.10217575 0.45807943 0.04691293\n",
            "  0.471503   0.38695703 0.32094134 0.51666886 0.72642479 0.85984736\n",
            "  0.19200244 0.36509403 0.75667007 0.58774609 0.24704467 0.21856302\n",
            "  0.61501398 0.47908859 0.63970036 0.91411135 0.25513915 0.81494074\n",
            "  0.12430003 0.83133051 0.84745225 0.15489451 0.16325711 0.\n",
            "  0.81055646 0.70438055 0.79211544 0.44638546 0.62594025 0.72797381\n",
            "  0.52473753 0.26764214 0.32860738 0.6415626 ]\n",
            " [0.67518296 0.6399925  0.68577962 0.76292329 0.52664157 0.0724869\n",
            "  0.53027518 0.15460747 0.12554386 0.69550931 0.44796977 0.78987752\n",
            "  0.35157943 0.47207332 0.41962598 0.12971919 0.44509475 0.82452881\n",
            "  0.11102586 0.10477658 0.86741438 0.44282867 0.61302583 0.35900892\n",
            "  0.71088356 0.73843554 0.36008795 0.71319851 0.87169711 0.27303041\n",
            "  0.65109502 1.1091664  0.91555209 0.3989323  0.4512209  0.24032285\n",
            "  0.68407492 0.64097294 0.9808707  0.74774134 0.90482458 0.25687353\n",
            "  0.57393158 0.87294787 0.78248498 0.72548505 0.22682991 0.79875431\n",
            "  0.64469638 0.8160167  0.57896881 0.08631159 0.70972389 0.48708062\n",
            "  0.55342337 0.81242639 0.87571922 0.87410469 0.35937684 0.56321832\n",
            "  0.67528865 0.61116075 0.92301704 0.71983342 0.53133632 0.83979399\n",
            "  0.6759087  0.76169431 0.57608286 0.49192391 0.88120046 0.17381059\n",
            "  0.66802517 0.68795269 0.18243264 0.80083006 0.76318506 0.68939607\n",
            "  0.63126384 0.54594639 0.36957137 0.10355541 1.06144172 0.51649924\n",
            "  0.69746676 0.09594766 0.36443718 0.96417594 0.80085511 0.81055646\n",
            "  0.         0.42562136 0.04061385 0.43972278 0.65361022 0.3060148\n",
            "  0.36635045 0.54548714 1.13555732 0.6730432 ]\n",
            " [0.25282215 0.43258569 0.462047   0.35679118 0.6871742  0.49656713\n",
            "  0.32329607 0.55157021 0.41446759 0.29420697 0.30223517 0.84763278\n",
            "  0.41550274 0.4005531  0.11157328 0.44922177 0.15286702 0.73786216\n",
            "  0.37371251 0.48073594 0.52085896 0.47513501 0.52230104 0.0763546\n",
            "  0.76203535 0.876831   0.62762323 0.56279512 0.74798474 0.59128807\n",
            "  0.22920453 0.949681   0.86385075 0.03203511 0.49504118 0.50053097\n",
            "  0.54213873 0.72404815 0.81537238 0.39676824 0.53227098 0.23407495\n",
            "  0.60644721 0.68621477 0.42416258 0.68623867 0.41020193 0.49154132\n",
            "  0.71662564 0.51600562 0.64186193 0.34571353 0.90005422 0.61713796\n",
            "  0.78061392 0.41596654 0.60219048 0.77320734 0.12315724 0.65987781\n",
            "  0.2500909  0.32833447 0.79833976 0.60285421 0.69461453 0.74834472\n",
            "  0.83454526 0.86317359 0.3842306  0.69311375 0.46705696 0.31408321\n",
            "  0.6602025  0.7892241  0.55454362 0.41516196 0.53388354 0.70516522\n",
            "  0.8679007  0.243354   0.09004342 0.48509086 0.90624027 0.13158494\n",
            "  0.58194653 0.356119   0.16696323 0.82950516 0.78145544 0.70438055\n",
            "  0.42562136 0.         0.38502136 0.26963063 0.24973763 0.12139665\n",
            "  0.21655513 0.47587916 0.97450098 0.91360088]\n",
            " [0.63478651 0.61123256 0.65656658 0.72343141 0.53044331 0.11230021\n",
            "  0.49935903 0.18766568 0.12352967 0.65613599 0.41857109 0.78668759\n",
            "  0.33658702 0.44947299 0.38029402 0.13630608 0.40757454 0.80795069\n",
            "  0.09500728 0.12859137 0.83165822 0.42908395 0.59277404 0.31872615\n",
            "  0.7059203  0.74328119 0.37408385 0.68981794 0.85241929 0.29267478\n",
            "  0.61071113 1.08865971 0.90308275 0.35842246 0.43905873 0.24500853\n",
            "  0.6609223  0.63821294 0.95903074 0.71117753 0.86756719 0.22255669\n",
            "  0.5643889  0.84852401 0.74566826 0.71187365 0.21770445 0.76512366\n",
            "  0.64080309 0.7829649  0.57274748 0.04949381 0.72021176 0.48610132\n",
            "  0.5662477  0.77354443 0.8448574  0.8568151  0.32008803 0.56034617\n",
            "  0.63467491 0.57720906 0.90413785 0.69927368 0.53558658 0.82296766\n",
            "  0.68222823 0.76276644 0.54721138 0.50008438 0.84137734 0.14449973\n",
            "  0.65643295 0.68797093 0.2100126  0.76252681 0.73449961 0.68049411\n",
            "  0.64645919 0.51001412 0.32989092 0.12780798 1.04100913 0.47658503\n",
            "  0.67668393 0.06835678 0.32693805 0.94479026 0.79015518 0.79211544\n",
            "  0.04061385 0.38502136 0.         0.40833797 0.6140242  0.26542601\n",
            "  0.33260793 0.52542074 1.11506537 0.68922961]\n",
            " [0.38120982 0.20765706 0.25091033 0.40633314 0.45639515 0.5070373\n",
            "  0.09120954 0.49699183 0.35313889 0.34336226 0.03293048 0.5810974\n",
            "  0.20689079 0.13414564 0.37318661 0.52990883 0.12479901 0.47612246\n",
            "  0.3367117  0.43333264 0.44108321 0.22873569 0.25491825 0.22587652\n",
            "  0.49645801 0.62506281 0.46036715 0.31392456 0.49646123 0.46500196\n",
            "  0.36127874 0.71653189 0.59833029 0.2469001  0.24888747 0.62097098\n",
            "  0.28886967 0.46574052 0.58202367 0.33261252 0.49247441 0.18856922\n",
            "  0.34394744 0.45976189 0.36888858 0.41715769 0.28277218 0.36191894\n",
            "  0.45625413 0.3775928  0.38376295 0.39816847 0.66348741 0.38340102\n",
            "  0.56844043 0.43332746 0.43652759 0.51569665 0.35474054 0.40951553\n",
            "  0.42453664 0.1784155  0.54849683 0.34429329 0.4640737  0.48791369\n",
            "  0.59086775 0.60322875 0.14486024 0.47912096 0.52638179 0.43386805\n",
            "  0.39097357 0.53197738 0.47771912 0.40963218 0.32964708 0.4368771\n",
            "  0.65245468 0.1413148  0.19490434 0.53585243 0.67041166 0.39455141\n",
            "  0.32211237 0.42543342 0.4014468  0.58390588 0.51213106 0.44638546\n",
            "  0.43972278 0.26963063 0.40833797 0.         0.316766   0.2819976\n",
            "  0.08345772 0.20627054 0.74248554 0.69672054]\n",
            " [0.08128608 0.34708985 0.35141196 0.10958382 0.76996602 0.72606813\n",
            "  0.29644615 0.7582906  0.61189255 0.0444764  0.34227624 0.8506942\n",
            "  0.52190979 0.43428017 0.33357383 0.69454123 0.22493754 0.66705405\n",
            "  0.57920616 0.68791172 0.2917895  0.54133114 0.4954817  0.29840243\n",
            "  0.77272884 0.92256286 0.77132234 0.4818445  0.65123875 0.76190169\n",
            "  0.07521676 0.80921603 0.79887221 0.26600768 0.56090066 0.750205\n",
            "  0.47284701 0.7589628  0.682785   0.18006397 0.2874712  0.41546014\n",
            "  0.63516413 0.55500816 0.19573819 0.65462748 0.57264552 0.29810735\n",
            "  0.74644113 0.3245138  0.6803281  0.58131944 0.97214245 0.69707008\n",
            "  0.88476574 0.16622899 0.41900933 0.688058   0.3679225  0.71357721\n",
            "  0.14792405 0.22048114 0.69444514 0.53648369 0.77762365 0.67285145\n",
            "  0.8961476  0.88961241 0.33440769 0.79558801 0.22840044 0.56202061\n",
            "  0.65318682 0.82473959 0.75102913 0.16802721 0.39834536 0.70410813\n",
            "  0.9680397  0.18323521 0.28414283 0.72528991 0.77185372 0.26697947\n",
            "  0.52148277 0.59650593 0.40536579 0.71554997 0.74693896 0.62594025\n",
            "  0.65361022 0.24973763 0.6140242  0.316766   0.         0.36519802\n",
            "  0.33161644 0.47903015 0.83129986 1.01185576]\n",
            " [0.37408398 0.47818351 0.51530471 0.47402805 0.63195472 0.37619727\n",
            "  0.35968621 0.43853463 0.30929522 0.40926623 0.30989161 0.82642942\n",
            "  0.36541261 0.3935609  0.13557844 0.32961977 0.20413631 0.7564248\n",
            "  0.2656203  0.36867015 0.61982839 0.44189997 0.53252632 0.07333127\n",
            "  0.74006367 0.8338474  0.54328304 0.5952502  0.77843867 0.49436913\n",
            "  0.35035721 0.99551568 0.87521775 0.09933385 0.46019301 0.38896634\n",
            "  0.57072878 0.69155734 0.86060664 0.49495489 0.6400811  0.16082844\n",
            "  0.58299819 0.7351176  0.52561663 0.68830891 0.32625817 0.57613733\n",
            "  0.68700075 0.59867671 0.61143722 0.22465839 0.84361887 0.56659044\n",
            "  0.71152139 0.53052743 0.67780494 0.79723684 0.08729139 0.62076443\n",
            "  0.36953267 0.39676553 0.83042237 0.62602761 0.63898786 0.76871784\n",
            "  0.78494253 0.83003622 0.4204388  0.62761097 0.58696521 0.19744509\n",
            "  0.65158282 0.75396237 0.44596291 0.52612041 0.59224329 0.69139693\n",
            "  0.79861468 0.31379335 0.10139886 0.36383235 0.95003152 0.21830132\n",
            "  0.60367978 0.23477796 0.12705625 0.86542558 0.78086569 0.72797381\n",
            "  0.3060148  0.12139665 0.26542601 0.2819976  0.36519802 0.\n",
            "  0.20424195 0.47567223 1.02119991 0.84425518]\n",
            " [0.38265123 0.29064796 0.33308322 0.43279341 0.47484729 0.43593554\n",
            "  0.172476   0.44012804 0.29302169 0.36593886 0.10699339 0.63399688\n",
            "  0.20570781 0.19133084 0.30933587 0.44966649 0.10809518 0.55240077\n",
            "  0.26951017 0.37274409 0.50287901 0.25862005 0.32828818 0.15784812\n",
            "  0.54793232 0.66049438 0.4429852  0.39581089 0.57674654 0.43040859\n",
            "  0.36017456 0.79924744 0.67110225 0.1885828  0.27858355 0.53854146\n",
            "  0.36998079 0.50769096 0.664921   0.38653979 0.54611206 0.11009973\n",
            "  0.3914022  0.54316932 0.42225179 0.48520237 0.24137083 0.43256945\n",
            "  0.50060858 0.45039619 0.42560071 0.31846778 0.68693906 0.40349173\n",
            "  0.57580704 0.47011184 0.51496928 0.59388599 0.28269782 0.44344934\n",
            "  0.41383897 0.24481686 0.62900833 0.42313255 0.48240836 0.56486854\n",
            "  0.61944458 0.64689434 0.22824285 0.48679549 0.55473601 0.35053449\n",
            "  0.4517209  0.57272467 0.42665029 0.45164997 0.4118666  0.49413419\n",
            "  0.6622947  0.18418366 0.130294   0.45903763 0.75293456 0.34753385\n",
            "  0.40057913 0.34468962 0.32797854 0.66521887 0.57864173 0.52473753\n",
            "  0.36635045 0.21655513 0.33260793 0.08345772 0.33161644 0.20424195\n",
            "  0.         0.27224847 0.82526711 0.70763841]\n",
            " [0.5547581  0.18002652 0.21821223 0.54312693 0.31983159 0.59950889\n",
            "  0.18312145 0.54535298 0.42901307 0.49223622 0.17366904 0.37909434\n",
            "  0.20056314 0.08312872 0.57795505 0.66014302 0.32868179 0.28800938\n",
            "  0.43453067 0.49934715 0.48738446 0.12947414 0.06754457 0.42811653\n",
            "  0.29687511 0.44443428 0.40938609 0.17635576 0.3270637  0.4568798\n",
            "  0.53866488 0.5636891  0.4002529  0.45252835 0.13748813 0.76365789\n",
            "  0.14730376 0.28048183 0.43617323 0.41908104 0.55982763 0.34309994\n",
            "  0.15748771 0.33684505 0.45125032 0.21297038 0.32911991 0.3838831\n",
            "  0.26749936 0.38607524 0.204479   0.53274292 0.5024943  0.25367945\n",
            "  0.44618654 0.54810721 0.40032791 0.33425763 0.55482977 0.24400127\n",
            "  0.60851214 0.27075001 0.37896301 0.17438494 0.32690021 0.30200627\n",
            "  0.42333223 0.41103668 0.15201243 0.36478163 0.65118619 0.59364991\n",
            "  0.18528213 0.34589533 0.51175151 0.5153481  0.27215759 0.23285215\n",
            "  0.51933971 0.29852697 0.39831627 0.64889085 0.51597255 0.60004044\n",
            "  0.15218906 0.56368842 0.60022348 0.41938245 0.30691684 0.26764214\n",
            "  0.54548714 0.47587916 0.52542074 0.20627054 0.47903015 0.47567223\n",
            "  0.27224847 0.         0.59008367 0.55916879]\n",
            " [0.90763274 0.54440181 0.51245449 0.81288872 0.76128024 1.18827054\n",
            "  0.66162613 1.12319495 1.01768449 0.8104554  0.71921034 0.53891936\n",
            "  0.78716193 0.66618928 1.08607182 1.24892576 0.82689073 0.3260986\n",
            "  1.02461398 1.08453994 0.59649188 0.70144709 0.52256062 0.95678229\n",
            "  0.55110341 0.69736526 0.93572647 0.43048439 0.26545227 1.01061068\n",
            "  0.906361   0.02640571 0.30753151 0.96330598 0.6986692  1.35016888\n",
            "  0.45791576 0.62145847 0.16060636 0.66001153 0.66554557 0.91932853\n",
            "  0.60297174 0.28829697 0.66084158 0.44005421 0.91612971 0.53909772\n",
            "  0.60530241 0.51367381 0.62622599 1.1197301  0.80316152 0.73809951\n",
            "  0.8651394  0.76666115 0.42119051 0.27436336 1.08403423 0.66939755\n",
            "  0.97686403 0.64942262 0.21671188 0.41584136 0.76393915 0.30998562\n",
            "  0.737617   0.62418942 0.60077457 0.82559669 0.84871556 1.17175397\n",
            "  0.50700314 0.63501334 1.0850213  0.73149348 0.44319847 0.51623159\n",
            "  0.89149784 0.73244997 0.92504405 1.2389745  0.0741184  1.06609426\n",
            "  0.4383837  1.15006849 1.13159346 0.17389869 0.4123487  0.32860738\n",
            "  1.13555732 0.97450098 1.11506537 0.74248554 0.83129986 1.02119991\n",
            "  0.82526711 0.59008367 0.         0.90814757]\n",
            " [1.0778797  0.73752413 0.77067644 1.09163572 0.24289717 0.6672223\n",
            "  0.7243066  0.54207096 0.57340528 1.0339788  0.66969272 0.37028747\n",
            "  0.50193061 0.58067901 0.97886598 0.79446263 0.80966087 0.61653066\n",
            "  0.61645787 0.56882208 1.04320857 0.47077811 0.5811381  0.84087783\n",
            "  0.36651241 0.21402298 0.31561338 0.67723462 0.69373663 0.40079611\n",
            "  1.05761204 0.8875589  0.60097607 0.88220574 0.45154882 0.89825025\n",
            "  0.65879545 0.31521146 0.81623691 0.97763552 1.11795307 0.68656802\n",
            "  0.4114625  0.79159955 1.01028264 0.51499713 0.51997611 0.93762584\n",
            "  0.33341725 0.93586554 0.36396445 0.73192664 0.1090775  0.31520555\n",
            "  0.13312931 1.10387834 0.92748719 0.65922792 0.92990392 0.31778848\n",
            "  1.11809899 0.82415054 0.72010587 0.63078549 0.23534485 0.62989482\n",
            "  0.17208154 0.28638285 0.70895716 0.22095573 1.20530353 0.8291888\n",
            "  0.4605875  0.27842995 0.50061628 1.07254861 0.80592823 0.42383827\n",
            "  0.04575096 0.82992577 0.82368964 0.74383839 0.84919296 1.04383472\n",
            "  0.62399944 0.75721718 0.9601274  0.7579276  0.50176965 0.6415626\n",
            "  0.6730432  0.91360088 0.68922961 0.69672054 1.01185576 0.84425518\n",
            "  0.70763841 0.55916879 0.90814757 0.        ]]\n"
          ]
        }
      ],
      "source": [
        "a=np.random.random((100,2))\n",
        "#print(a)\n",
        "x,y=np.atleast_2d(a[:,0],a[:,1])\n",
        "#print(x)\n",
        "#print(y)\n",
        "print(np.sqrt(((x-x.T)**2)+\n",
        "              ((y-y.T)**2)))"
      ]
    },
    {
      "cell_type": "markdown",
      "metadata": {
        "id": "Y8nASQUsr3Sm"
      },
      "source": [
        "#### 53. How to convert a float (32 bits) array into an integer (32 bits) in place? \n",
        "(**hint**: astype(copy=False))"
      ]
    },
    {
      "cell_type": "code",
      "execution_count": 54,
      "metadata": {
        "id": "sg2ZBUJnr3Sm",
        "outputId": "a96d6864-7a33-4481-b654-780e78fa807d",
        "colab": {
          "base_uri": "https://localhost:8080/"
        }
      },
      "outputs": [
        {
          "output_type": "stream",
          "name": "stdout",
          "text": [
            "[0. 1. 2. 3. 4. 5. 6. 7. 8. 9.]\n",
            "[0 1 2 3 4 5 6 7 8 9]\n"
          ]
        }
      ],
      "source": [
        "a=np.arange(10,dtype=np.float32)\n",
        "print(a)\n",
        "a=a.astype(dtype=np.int32,copy =False)\n",
        "print(a)"
      ]
    },
    {
      "cell_type": "markdown",
      "metadata": {
        "id": "w488_tfIr3Sn"
      },
      "source": [
        "#### 54. How to read the following file? (★★☆) \n",
        "(**hint**: np.genfromtxt)"
      ]
    },
    {
      "cell_type": "markdown",
      "metadata": {
        "id": "eapq_Ypxr3Sn"
      },
      "source": [
        "```\n",
        "1, 2, 3, 4, 5\n",
        "6,  ,  , 7, 8\n",
        " ,  , 9,10,11\n",
        "```"
      ]
    },
    {
      "cell_type": "code",
      "execution_count": 55,
      "metadata": {
        "id": "HyqmRIUEr3Sn",
        "outputId": "35b826ca-d107-4f85-844f-74152dcb925d",
        "colab": {
          "base_uri": "https://localhost:8080/"
        }
      },
      "outputs": [
        {
          "output_type": "execute_result",
          "data": {
            "text/plain": [
              "array([[ 1,  2,  3,  4,  5],\n",
              "       [ 6, -1, -1,  7,  8],\n",
              "       [-1, -1,  9, 10, 11]])"
            ]
          },
          "metadata": {},
          "execution_count": 55
        }
      ],
      "source": [
        "from io import StringIO\n",
        "s=StringIO(\"\"\"1, 2, 3, 4, 5\n",
        "6,  ,  , 7, 8\n",
        " ,  , 9,10,11\n",
        "\"\"\")\n",
        "a=np.genfromtxt(s,delimiter=\",\",dtype=np.int64)\n",
        "a"
      ]
    },
    {
      "cell_type": "markdown",
      "metadata": {
        "id": "RFvw5oFir3Sn"
      },
      "source": [
        "#### 55. What is the equivalent of enumerate for numpy arrays? (★★☆) \n",
        "(**hint**: np.ndenumerate, np.ndindex)"
      ]
    },
    {
      "cell_type": "code",
      "execution_count": 56,
      "metadata": {
        "id": "iKuYKZYmr3Sn",
        "outputId": "e83eff8f-cd9b-42a1-95ad-dcfeee1d7f96",
        "colab": {
          "base_uri": "https://localhost:8080/"
        }
      },
      "outputs": [
        {
          "output_type": "stream",
          "name": "stdout",
          "text": [
            "np.denumerate\n",
            "(0, 0) value 0\n",
            "(0, 1) value 1\n",
            "(1, 0) value 2\n",
            "(1, 1) value 3\n",
            "(2, 0) value 4\n",
            "(2, 1) value 5\n",
            "(3, 0) value 6\n",
            "(3, 1) value 7\n",
            "(4, 0) value 8\n",
            "(4, 1) value 9\n",
            "np.index\n",
            "(0, 0) value 0\n",
            "(0, 1) value 1\n",
            "(1, 0) value 2\n",
            "(1, 1) value 3\n",
            "(2, 0) value 4\n",
            "(2, 1) value 5\n",
            "(3, 0) value 6\n",
            "(3, 1) value 7\n",
            "(4, 0) value 8\n",
            "(4, 1) value 9\n"
          ]
        }
      ],
      "source": [
        "a=np.arange(10).reshape(5,2)\n",
        "print(\"np.denumerate\")\n",
        "for i,v in np.ndenumerate(a):\n",
        "    print(i,\"value\",v)\n",
        "print(\"np.index\")\n",
        "for i in np.ndindex(a.shape):\n",
        "    print(i,\"value\",a[i])"
      ]
    },
    {
      "cell_type": "markdown",
      "metadata": {
        "id": "yCRe4Vxfr3Sn"
      },
      "source": [
        "#### 56. Generate a generic 2D Gaussian-like array (★★☆) \n",
        "(**hint**: np.meshgrid, np.exp)"
      ]
    },
    {
      "cell_type": "code",
      "execution_count": 57,
      "metadata": {
        "id": "ORrHzC71r3So",
        "outputId": "28682146-6b6f-45ec-f9c8-63a589526d96",
        "colab": {
          "base_uri": "https://localhost:8080/"
        }
      },
      "outputs": [
        {
          "output_type": "stream",
          "name": "stdout",
          "text": [
            "[[0.36787944 0.44822088 0.51979489 0.57375342 0.60279818 0.60279818\n",
            "  0.57375342 0.51979489 0.44822088 0.36787944]\n",
            " [0.44822088 0.54610814 0.63331324 0.69905581 0.73444367 0.73444367\n",
            "  0.69905581 0.63331324 0.54610814 0.44822088]\n",
            " [0.51979489 0.63331324 0.73444367 0.81068432 0.85172308 0.85172308\n",
            "  0.81068432 0.73444367 0.63331324 0.51979489]\n",
            " [0.57375342 0.69905581 0.81068432 0.89483932 0.9401382  0.9401382\n",
            "  0.89483932 0.81068432 0.69905581 0.57375342]\n",
            " [0.60279818 0.73444367 0.85172308 0.9401382  0.98773022 0.98773022\n",
            "  0.9401382  0.85172308 0.73444367 0.60279818]\n",
            " [0.60279818 0.73444367 0.85172308 0.9401382  0.98773022 0.98773022\n",
            "  0.9401382  0.85172308 0.73444367 0.60279818]\n",
            " [0.57375342 0.69905581 0.81068432 0.89483932 0.9401382  0.9401382\n",
            "  0.89483932 0.81068432 0.69905581 0.57375342]\n",
            " [0.51979489 0.63331324 0.73444367 0.81068432 0.85172308 0.85172308\n",
            "  0.81068432 0.73444367 0.63331324 0.51979489]\n",
            " [0.44822088 0.54610814 0.63331324 0.69905581 0.73444367 0.73444367\n",
            "  0.69905581 0.63331324 0.54610814 0.44822088]\n",
            " [0.36787944 0.44822088 0.51979489 0.57375342 0.60279818 0.60279818\n",
            "  0.57375342 0.51979489 0.44822088 0.36787944]]\n"
          ]
        }
      ],
      "source": [
        "x,y=np.meshgrid(np.linspace(-1,1,10),np.linspace(-1,1,10))\n",
        "d=np.sqrt(x*x+y*y)\n",
        "sigma,mu=1,0\n",
        "g=np.exp(-((d-mu)**2/(2*sigma**2)))\n",
        "print(g)"
      ]
    },
    {
      "cell_type": "markdown",
      "metadata": {
        "id": "8ikph0jXr3So"
      },
      "source": [
        " 57. How to randomly place p elements in a 2D array? (★★☆) \n",
        "(**hint**: np.put, np.random.choice)"
      ]
    },
    {
      "cell_type": "code",
      "execution_count": 58,
      "metadata": {
        "id": "HGSPv21lr3So",
        "outputId": "36804757-9733-4734-d147-7e07967c3066",
        "colab": {
          "base_uri": "https://localhost:8080/"
        }
      },
      "outputs": [
        {
          "output_type": "stream",
          "name": "stdout",
          "text": [
            "[[0. 0. 0. 0. 0. 0. 0. 0. 0. 0.]\n",
            " [0. 0. 0. 0. 0. 1. 0. 0. 0. 0.]\n",
            " [0. 0. 0. 0. 0. 0. 0. 0. 0. 0.]\n",
            " [0. 0. 0. 1. 0. 0. 0. 0. 0. 0.]\n",
            " [0. 0. 0. 0. 0. 0. 0. 0. 0. 0.]\n",
            " [0. 0. 0. 0. 0. 0. 0. 0. 0. 0.]\n",
            " [0. 0. 0. 0. 0. 0. 0. 0. 0. 0.]\n",
            " [0. 0. 0. 0. 0. 0. 0. 0. 0. 0.]\n",
            " [0. 0. 0. 0. 0. 0. 0. 0. 0. 0.]\n",
            " [0. 1. 0. 0. 0. 0. 0. 0. 0. 0.]]\n"
          ]
        }
      ],
      "source": [
        "num = 10\n",
        "p = 3\n",
        "a = np.zeros((num,num))\n",
        "np.put(a, np.random.choice(range(num*num), p, replace=False),1)\n",
        "print(a)"
      ]
    },
    {
      "cell_type": "markdown",
      "metadata": {
        "id": "2HY58uW0r3So"
      },
      "source": [
        "#### 58. Subtract the mean of each row of a matrix (★★☆) \n",
        "(**hint**: mean(axis=,keepdims=))"
      ]
    },
    {
      "cell_type": "code",
      "execution_count": 59,
      "metadata": {
        "id": "R8TjUO28r3Sp",
        "outputId": "df1a9b13-2507-4269-da93-d0f4a429e3e8",
        "colab": {
          "base_uri": "https://localhost:8080/"
        }
      },
      "outputs": [
        {
          "output_type": "stream",
          "name": "stdout",
          "text": [
            "[[-0.6715245  -0.51771537  0.77023131  0.60219584  0.04423179  0.75893412\n",
            "   0.50948576 -0.85679456 -0.6953262   0.05628181]\n",
            " [ 1.66495626 -1.04695959  1.44218264 -1.06994745  0.43011773 -0.47289668\n",
            "   0.48938397 -0.37409792 -0.69839073 -0.36434825]\n",
            " [-0.88545777  0.03297277 -1.03588765 -0.0486974  -0.4121821   0.765926\n",
            "   1.49371454 -0.3272534  -0.80917702  1.22604204]\n",
            " [ 0.60639589  0.05224036 -1.6608891   0.17390732  0.42539395 -0.27955882\n",
            "   0.40858715 -0.18798792  1.25284291 -0.79093175]\n",
            " [-0.55766701  0.68328119  1.49300834  0.72049035 -1.8517122   1.01264693\n",
            "  -1.50496493  0.45149141 -0.55692104  0.11034695]\n",
            " [-0.41395844  0.57546407 -1.56406653  0.82057963  0.02474214  0.27744171\n",
            "  -0.69370401  0.77738862 -0.43117399  0.62728681]\n",
            " [-0.51515307 -0.04135825 -2.26615028  1.31419832 -0.92264118 -0.58133617\n",
            "   0.82953024  0.45722508  0.86422428  0.86146104]\n",
            " [-1.93870366  0.43623307 -0.68475878  0.2488211  -0.87162026  2.97619682\n",
            "   0.29453551 -0.75206103  0.04254856  0.24880867]\n",
            " [-0.04153352  1.5329079   0.39415176 -0.08869634 -1.80671179 -1.22480482\n",
            "  -0.11124372 -0.92975087  0.72827985  1.54740155]\n",
            " [-1.00160284  0.59920579  0.42475017  0.6738844   0.41244495 -0.66058806\n",
            "  -0.43959765 -1.41320307  0.68414581  0.72056051]]\n"
          ]
        }
      ],
      "source": [
        "a=np.random.randn(10,10)\n",
        "b=a-np.mean(a,axis=1,keepdims=True)\n",
        "print(b)"
      ]
    },
    {
      "cell_type": "markdown",
      "metadata": {
        "id": "lvEJ1ns4r3Sp"
      },
      "source": [
        "#### 59. How to sort an array by the nth column? (★★☆) \n",
        "(**hint**: argsort)"
      ]
    },
    {
      "cell_type": "code",
      "execution_count": 60,
      "metadata": {
        "id": "p1C4vYcAr3Sp",
        "outputId": "0ab70839-7cae-4bb1-e684-db3b26d07da9",
        "colab": {
          "base_uri": "https://localhost:8080/"
        }
      },
      "outputs": [
        {
          "output_type": "stream",
          "name": "stdout",
          "text": [
            "[[ 2  0 16 17  1]\n",
            " [19  8  4 11 10]\n",
            " [ 5 11 10  2 18]\n",
            " [16  5  2 14 15]\n",
            " [ 6 10 18 15  6]]\n",
            "[[ 2  0 16 17  1]\n",
            " [16  5  2 14 15]\n",
            " [19  8  4 11 10]\n",
            " [ 6 10 18 15  6]\n",
            " [ 5 11 10  2 18]]\n"
          ]
        }
      ],
      "source": [
        "a=np.random.randint(0,20,(5,5))\n",
        "print(a)\n",
        "n=1\n",
        "print(a[a[:,n].argsort()])    # sorting column 1 wise all rows gets realigned based on col 1"
      ]
    },
    {
      "cell_type": "markdown",
      "metadata": {
        "id": "qyhQcPmVr3Sp"
      },
      "source": [
        "#### 60. How to tell if a given 2D array has null columns? (★★☆) \n",
        "(**hint**: any, ~)"
      ]
    },
    {
      "cell_type": "code",
      "execution_count": 61,
      "metadata": {
        "id": "kBtNS51yr3Sp",
        "outputId": "feaba979-ff02-4369-d568-cc7d91db45d5",
        "colab": {
          "base_uri": "https://localhost:8080/"
        }
      },
      "outputs": [
        {
          "output_type": "stream",
          "name": "stdout",
          "text": [
            "False\n"
          ]
        }
      ],
      "source": [
        "a=np.random.randint(0,3,(3,10))\n",
        "print((~a.any(axis=0).any()))        #will return true if all elements are 0's"
      ]
    },
    {
      "cell_type": "markdown",
      "metadata": {
        "id": "_NwO0dinr3Sp"
      },
      "source": [
        "#### 61. Find the nearest value from a given value in an array (★★☆) \n",
        "(**hint**: np.abs, argmin, flat)"
      ]
    },
    {
      "cell_type": "code",
      "execution_count": 62,
      "metadata": {
        "id": "Po5acHDdr3Sq",
        "outputId": "7118487c-5aef-4307-f200-9d2ef2238ec2",
        "colab": {
          "base_uri": "https://localhost:8080/"
        }
      },
      "outputs": [
        {
          "output_type": "stream",
          "name": "stdout",
          "text": [
            "0.45355898224818936\n"
          ]
        }
      ],
      "source": [
        "a=np.random.uniform(0,1,10)\n",
        "b=0.5\n",
        "c=a.flat[np.abs(a-b).argmin()]\n",
        "print(c)"
      ]
    },
    {
      "cell_type": "markdown",
      "metadata": {
        "id": "3yZoAMkWr3Sq"
      },
      "source": [
        "#### 62. Considering two arrays with shape (1,3) and (3,1), how to compute their sum using an iterator? (★★☆) \n",
        "(**hint**: np.nditer)"
      ]
    },
    {
      "cell_type": "code",
      "execution_count": 63,
      "metadata": {
        "id": "eKL_GfPdr3Sq",
        "outputId": "66f655e2-c74d-47d7-da20-e0a5491d95b7",
        "colab": {
          "base_uri": "https://localhost:8080/"
        }
      },
      "outputs": [
        {
          "output_type": "stream",
          "name": "stdout",
          "text": [
            "[[5 6 7]\n",
            " [6 7 8]\n",
            " [7 8 9]]\n"
          ]
        }
      ],
      "source": [
        "a=np.arange(3).reshape(1,3)\n",
        "b=np.arange(5,8).reshape(3,1)\n",
        "it=np.nditer([a,b,None])\n",
        "for i,j,k in it:\n",
        "    k[...]=i+j\n",
        "print(it.operands[2])          #extracting K th storage"
      ]
    },
    {
      "cell_type": "markdown",
      "metadata": {
        "id": "mUlfej8Rr3Sq"
      },
      "source": [
        "#### 63. Create an array class that has a name attribute (★★☆) \n",
        "(**hint**: class method)"
      ]
    },
    {
      "cell_type": "code",
      "execution_count": 64,
      "metadata": {
        "id": "VL0Ln0A0r3Sq",
        "outputId": "8d77615b-cdd4-44a3-c7a6-d524c8efcb39",
        "colab": {
          "base_uri": "https://localhost:8080/"
        }
      },
      "outputs": [
        {
          "output_type": "stream",
          "name": "stdout",
          "text": [
            "abc\n"
          ]
        }
      ],
      "source": [
        "class NamedArray(np.ndarray):\n",
        "    def __new__(self,obj,name=\"no name\"):\n",
        "        self.name=name\n",
        "        return self\n",
        "z=NamedArray(np.arange(10),\"abc\")\n",
        "print(z.name)"
      ]
    },
    {
      "cell_type": "markdown",
      "metadata": {
        "id": "w9R9oACbr3Sq"
      },
      "source": [
        "#### 64. Consider a given vector, how to add 1 to each element indexed by a second vector (be careful with repeated indices)? (★★★) \n",
        "(**hint**: np.bincount | np.add.at)"
      ]
    },
    {
      "cell_type": "code",
      "execution_count": 65,
      "metadata": {
        "id": "VfceThcIr3Sr",
        "outputId": "ad887f01-bfc4-4a0f-b720-0590832b4f1e",
        "colab": {
          "base_uri": "https://localhost:8080/"
        }
      },
      "outputs": [
        {
          "output_type": "stream",
          "name": "stdout",
          "text": [
            "[4. 2. 1. 2. 2. 1. 2. 2. 3. 1.]\n"
          ]
        }
      ],
      "source": [
        "a=np.ones(10)\n",
        "I=np.random.randint(0,len(a),10)\n",
        "a=a+np.bincount(I,minlength=len(a))\n",
        "print(a)"
      ]
    },
    {
      "cell_type": "markdown",
      "metadata": {
        "id": "PB3cLQtGr3Sr"
      },
      "source": [
        "#### 65. How to accumulate elements of a vector (X) to an array (F) based on an index list (I)? (★★★) \n",
        "(**hint**: np.bincount)"
      ]
    },
    {
      "cell_type": "code",
      "execution_count": 66,
      "metadata": {
        "id": "9IjQAIdZr3Sr",
        "outputId": "4c55f186-ee69-4582-aac9-1ef69446bd5e",
        "colab": {
          "base_uri": "https://localhost:8080/"
        }
      },
      "outputs": [
        {
          "output_type": "execute_result",
          "data": {
            "text/plain": [
              "array([0., 0., 0., 1., 0., 2., 0., 3., 0., 4.])"
            ]
          },
          "metadata": {},
          "execution_count": 66
        }
      ],
      "source": [
        "X=np.arange(5)\n",
        "I=np.array([1,3,5,7,9])\n",
        "F=np.bincount(I,X)\n",
        "F"
      ]
    },
    {
      "cell_type": "markdown",
      "metadata": {
        "id": "yDaeCxgMr3Sr"
      },
      "source": [
        "#### 66. Considering a (w,h,3) image of (dtype=ubyte), compute the number of unique colors (★★★) \n",
        "(**hint**: np.unique)"
      ]
    },
    {
      "cell_type": "code",
      "execution_count": 67,
      "metadata": {
        "id": "pFuWO2pDr3Sr",
        "outputId": "4f0f38cf-d4b3-431e-e24b-2452aed70bb3",
        "colab": {
          "base_uri": "https://localhost:8080/"
        }
      },
      "outputs": [
        {
          "output_type": "stream",
          "name": "stdout",
          "text": [
            "[1 3 5 7 9]\n"
          ]
        }
      ],
      "source": [
        "w,h=16,16\n",
        "a=np.random.randint(0,2,(h,w,3)).astype(np.ubyte)\n",
        "b=a[...,0]*256*256+I[...,1]*256+I[...,2]\n",
        "print(np.unique(I))"
      ]
    },
    {
      "cell_type": "markdown",
      "metadata": {
        "id": "WZcsCK3Hr3Sr"
      },
      "source": [
        "#### 67. Considering a four dimensions array, how to get sum over the last two axis at once? (★★★) \n",
        "(**hint**: sum(axis=(-2,-1)))"
      ]
    },
    {
      "cell_type": "code",
      "execution_count": 68,
      "metadata": {
        "id": "q9stzaIQr3Sr",
        "outputId": "8e3dfeb0-edc0-48a4-bd2d-7123855cd863",
        "colab": {
          "base_uri": "https://localhost:8080/"
        }
      },
      "outputs": [
        {
          "output_type": "stream",
          "name": "stdout",
          "text": [
            "[[120 376]\n",
            " [632 888]]\n"
          ]
        }
      ],
      "source": [
        "a=np.arange(64).reshape(2,2,4,4)\n",
        "#print(a)\n",
        "print(a.sum(axis=(-2,-1)))"
      ]
    },
    {
      "cell_type": "markdown",
      "metadata": {
        "id": "1eCHgCTkr3Ss"
      },
      "source": [
        "#### 68. Considering a one-dimensional vector D, how to compute means of subsets of D using a vector S of same size describing subset  indices? (★★★) \n",
        "(**hint**: np.bincount)"
      ]
    },
    {
      "cell_type": "code",
      "execution_count": 69,
      "metadata": {
        "id": "Q1oZ-O4Wr3Ss",
        "outputId": "f2022105-7b31-4185-ddea-b437b2271608",
        "colab": {
          "base_uri": "https://localhost:8080/"
        }
      },
      "outputs": [
        {
          "output_type": "stream",
          "name": "stdout",
          "text": [
            "[       nan 0.64341318 0.59204812 0.43674746        nan 0.43650238\n",
            " 0.6566995  0.24899866 0.91436718 0.3541572 ]\n"
          ]
        },
        {
          "output_type": "stream",
          "name": "stderr",
          "text": [
            "<ipython-input-69-1e17d20105f4>:5: RuntimeWarning: invalid value encountered in true_divide\n",
            "  D_mean=D_sum/D_count\n"
          ]
        }
      ],
      "source": [
        "D=np.random.uniform(0,1,20)\n",
        "S=np.random.randint(0,10,20)\n",
        "D_sum=np.bincount(S,weights=D)\n",
        "D_count=np.bincount(S)\n",
        "D_mean=D_sum/D_count\n",
        "print(D_mean)"
      ]
    },
    {
      "cell_type": "markdown",
      "metadata": {
        "id": "EI_FzH57r3Ss"
      },
      "source": [
        "#### 69. How to get the diagonal of a dot product? (★★★) \n",
        "(**hint**: np.diag)"
      ]
    },
    {
      "cell_type": "code",
      "execution_count": 70,
      "metadata": {
        "id": "K78CC_KDr3Ss",
        "outputId": "7e16108c-6a25-474a-d142-d75a308b278b",
        "colab": {
          "base_uri": "https://localhost:8080/"
        }
      },
      "outputs": [
        {
          "output_type": "stream",
          "name": "stdout",
          "text": [
            "[ 400 1310 2270 3280 4340]\n"
          ]
        }
      ],
      "source": [
        "a=np.arange(25).reshape(5,5)\n",
        "b=np.arange(25,50).reshape(5,5)\n",
        "dot_p=np.dot(a,b)\n",
        "#print(dot_p)\n",
        "print(np.diag(dot_p))"
      ]
    },
    {
      "cell_type": "markdown",
      "metadata": {
        "id": "drmw9BUWr3Ss"
      },
      "source": [
        "#### 70. Consider the vector \\[1, 2, 3, 4, 5\\], how to build a new vector with 3 consecutive zeros interleaved between each value? (★★★) \n",
        "(**hint**: array\\[::4\\])"
      ]
    },
    {
      "cell_type": "code",
      "execution_count": 71,
      "metadata": {
        "id": "5lXdedJqr3Ss",
        "outputId": "71cd893a-cf93-415a-eb08-0fd8d7df1884",
        "colab": {
          "base_uri": "https://localhost:8080/"
        }
      },
      "outputs": [
        {
          "output_type": "stream",
          "name": "stdout",
          "text": [
            "[1. 0. 0. 0. 2. 0. 0. 0. 3. 0. 0. 0. 4. 0. 0. 0. 5.]\n"
          ]
        }
      ],
      "source": [
        "a=np.array([1,2,3,4,5])\n",
        "no_of_zeros=3\n",
        "#print(a)\n",
        "no_of_zeros_to_be_added=no_of_zeros*(len(a)-1)\n",
        "b=np.zeros(len(a)+no_of_zeros_to_be_added)\n",
        "#print(b)\n",
        "b[::no_of_zeros+1]=a\n",
        "print(b)"
      ]
    },
    {
      "cell_type": "markdown",
      "metadata": {
        "id": "m_8GZ_sLr3St"
      },
      "source": [
        "#### 71. Consider an array of dimension (5,5,3), how to mulitply it by an array with dimensions (5,5)? (★★★) \n",
        "(**hint**: array\\[:, :, None\\])"
      ]
    },
    {
      "cell_type": "code",
      "execution_count": 72,
      "metadata": {
        "id": "46lpP7acr3St",
        "outputId": "532bc5b0-8e26-4658-eec5-c6e04251b13f",
        "colab": {
          "base_uri": "https://localhost:8080/"
        }
      },
      "outputs": [
        {
          "output_type": "stream",
          "name": "stdout",
          "text": [
            "[[[   0    0    0]\n",
            "  [   3    4    5]\n",
            "  [  12   14   16]\n",
            "  [  27   30   33]\n",
            "  [  48   52   56]]\n",
            "\n",
            " [[  75   80   85]\n",
            "  [ 108  114  120]\n",
            "  [ 147  154  161]\n",
            "  [ 192  200  208]\n",
            "  [ 243  252  261]]\n",
            "\n",
            " [[ 300  310  320]\n",
            "  [ 363  374  385]\n",
            "  [ 432  444  456]\n",
            "  [ 507  520  533]\n",
            "  [ 588  602  616]]\n",
            "\n",
            " [[ 675  690  705]\n",
            "  [ 768  784  800]\n",
            "  [ 867  884  901]\n",
            "  [ 972  990 1008]\n",
            "  [1083 1102 1121]]\n",
            "\n",
            " [[1200 1220 1240]\n",
            "  [1323 1344 1365]\n",
            "  [1452 1474 1496]\n",
            "  [1587 1610 1633]\n",
            "  [1728 1752 1776]]]\n"
          ]
        }
      ],
      "source": [
        "a=np.arange(75).reshape(5,5,3)\n",
        "b=np.arange(25).reshape(5,5)\n",
        "print(a*b[:,:,None])"
      ]
    },
    {
      "cell_type": "markdown",
      "metadata": {
        "id": "Z-GmhWjYr3St"
      },
      "source": [
        "#### 72. How to swap two rows of an array? (★★★) \n",
        "(**hint**: array\\[\\[\\]\\] = array\\[\\[\\]\\])"
      ]
    },
    {
      "cell_type": "code",
      "execution_count": 73,
      "metadata": {
        "id": "fR8m1QMGr3St",
        "outputId": "fb1fafa9-80df-4c8d-a72f-0d6a0eb89b7f",
        "colab": {
          "base_uri": "https://localhost:8080/"
        }
      },
      "outputs": [
        {
          "output_type": "stream",
          "name": "stdout",
          "text": [
            "[[20 21 22 23 24]\n",
            " [ 5  6  7  8  9]\n",
            " [10 11 12 13 14]\n",
            " [15 16 17 18 19]\n",
            " [ 0  1  2  3  4]]\n"
          ]
        }
      ],
      "source": [
        "A=np.arange(25).reshape(5,5)\n",
        "#print(A)\n",
        "A[[0,4]] = A[[4,0]]\n",
        "print(A)"
      ]
    },
    {
      "cell_type": "markdown",
      "metadata": {
        "id": "Qq2MXRC8r3St"
      },
      "source": [
        "#### 73. Consider a set of 10 triplets describing 10 triangles (with shared vertices), find the set of unique line segments composing all the  triangles (★★★) \n",
        "(**hint**: repeat, np.roll, np.sort, view, np.unique)"
      ]
    },
    {
      "cell_type": "code",
      "execution_count": 74,
      "metadata": {
        "id": "3XraDkWtr3St",
        "outputId": "39b9286a-6e4d-41a8-fc3c-4a2e3cad1ca2",
        "colab": {
          "base_uri": "https://localhost:8080/"
        }
      },
      "outputs": [
        {
          "output_type": "stream",
          "name": "stdout",
          "text": [
            "[( 1, 76) ( 1, 90) ( 4, 13) ( 4, 52) (11, 72) (11, 85) (13, 17) (13, 30)\n",
            " (13, 52) (15, 70) (15, 81) (17, 30) (22, 33) (22, 75) (31, 37) (31, 95)\n",
            " (33, 75) (37, 74) (37, 88) (37, 95) (39, 52) (39, 79) (52, 79) (60, 80)\n",
            " (60, 91) (70, 81) (72, 85) (74, 88) (76, 90) (80, 91)]\n"
          ]
        }
      ],
      "source": [
        "f=np.random.randint(0,100,(10,3))\n",
        "c=f.repeat(2,axis=1)   #twice each columns are repeated\n",
        "F=np.roll(c,-1,axis=1)  #shift column wise\n",
        "F=F.reshape(len(F)*3,2)    #reshaping matrix to (30,2)\n",
        "F=np.sort(F,axis=1)\n",
        "G=F.view(dtype=[('p0',f.dtype),('p1',f.dtype)])\n",
        "print(np.unique(G))"
      ]
    },
    {
      "cell_type": "markdown",
      "metadata": {
        "id": "fhkR0FCfr3Su"
      },
      "source": [
        "#### 74. Given an array C that is a bincount, how to produce an array A such that np.bincount(A) == C? (★★★) \n",
        "(**hint**: np.repeat)"
      ]
    },
    {
      "cell_type": "code",
      "execution_count": 75,
      "metadata": {
        "id": "bFk2mqfpr3Su",
        "outputId": "2edd6f55-5910-4885-f8e7-00dfc4a09f6c",
        "colab": {
          "base_uri": "https://localhost:8080/"
        }
      },
      "outputs": [
        {
          "output_type": "stream",
          "name": "stdout",
          "text": [
            "[0 2 1 1 2 0 1]\n",
            "[1 1 2 3 4 4 6]\n"
          ]
        }
      ],
      "source": [
        "C=np.bincount([1,1,2,3,4,4,6])\n",
        "print(C)\n",
        "A=np.repeat(np.arange(len(C)),C)\n",
        "print(A)\n",
        "#print(np.bincount(A))"
      ]
    },
    {
      "cell_type": "markdown",
      "metadata": {
        "id": "tnQYAVF2r3Su"
      },
      "source": [
        "#### 75. How to compute averages using a sliding window over an array? (★★★) \n",
        "(**hint**: np.cumsum)"
      ]
    },
    {
      "cell_type": "code",
      "execution_count": 76,
      "metadata": {
        "id": "0GqlO0Ihr3Su",
        "outputId": "82312788-b55e-4edc-b7b6-b78405ce1342",
        "colab": {
          "base_uri": "https://localhost:8080/"
        }
      },
      "outputs": [
        {
          "output_type": "stream",
          "name": "stdout",
          "text": [
            "[ 1.  2.  3.  4.  5.  6.  7.  8.  9. 10. 11. 12. 13. 14. 15. 16. 17. 18.]\n"
          ]
        }
      ],
      "source": [
        "def moving_avg(a,n):\n",
        "    r=np.cumsum(a,dtype=float)\n",
        "    r[n:]=r[n:]-r[:-n]\n",
        "    return r[n-1:]/n    \n",
        "a=np.arange(20)\n",
        "r=moving_avg(a,3)\n",
        "print(r)"
      ]
    },
    {
      "cell_type": "markdown",
      "metadata": {
        "id": "nqKPES5Wr3Su"
      },
      "source": [
        "#### 76. Consider a one-dimensional array Z, build a two-dimensional array whose first row is (Z\\[0\\],Z\\[1\\],Z\\[2\\]) and each subsequent row is  shifted by 1 (last row should be (Z\\[-3\\],Z\\[-2\\],Z\\[-1\\]) (★★★) \n",
        "(**hint**: from numpy.lib import stride_tricks)"
      ]
    },
    {
      "cell_type": "code",
      "execution_count": 77,
      "metadata": {
        "id": "9TaacJCsr3Sv",
        "outputId": "fa9a92bf-8402-45ff-fc58-78edad700506",
        "colab": {
          "base_uri": "https://localhost:8080/"
        }
      },
      "outputs": [
        {
          "output_type": "stream",
          "name": "stdout",
          "text": [
            "[[0 1 2]\n",
            " [1 2 3]\n",
            " [2 3 4]\n",
            " [3 4 5]\n",
            " [4 5 6]\n",
            " [5 6 7]\n",
            " [6 7 8]\n",
            " [7 8 9]]\n"
          ]
        }
      ],
      "source": [
        "from numpy.lib import stride_tricks\n",
        "def rolling(a,n):\n",
        "    shape=(a.size-n+1,n)\n",
        "    strides=(a.itemsize,a.itemsize)\n",
        "    return stride_tricks.as_strided(a,shape=shape,strides=strides)\n",
        "r=rolling(np.arange(10),3)\n",
        "print(r)"
      ]
    },
    {
      "cell_type": "markdown",
      "metadata": {
        "id": "S1Da_s4Br3Sv"
      },
      "source": [
        "#### 77. How to negate a boolean, or to change the sign of a float inplace? (★★★) \n",
        "(**hint**: np.logical_not, np.negative)"
      ]
    },
    {
      "cell_type": "code",
      "execution_count": 78,
      "metadata": {
        "id": "TGV46fFDr3Sv",
        "outputId": "ae9346ba-d70b-4bb8-9ba6-06f8f5f10cfb",
        "colab": {
          "base_uri": "https://localhost:8080/"
        }
      },
      "outputs": [
        {
          "output_type": "stream",
          "name": "stdout",
          "text": [
            "[False False False False  True False False False False False]\n",
            "[-0.38544282 -0.88462543  0.94537052  0.71409968 -0.35090952 -0.58370048\n",
            " -0.40994885  0.60304781  0.32360784 -0.15383855]\n"
          ]
        }
      ],
      "source": [
        "a=np.random.randint(0,20,10)\n",
        "print(np.logical_not(a))\n",
        "b=np.random.uniform(-1,1,10)\n",
        "print(np.negative(b))"
      ]
    },
    {
      "cell_type": "markdown",
      "metadata": {
        "id": "PNMbgjHAr3Sv"
      },
      "source": [
        "#### 78. Consider 2 sets of points P0,P1 describing lines (2d) and a point p, how to compute distance from p to each line i  (P0\\[i\\],P1\\[i\\])? (★★★)"
      ]
    },
    {
      "cell_type": "code",
      "execution_count": 79,
      "metadata": {
        "id": "jEAZLCEar3Sv",
        "outputId": "90f382f6-b594-4dfe-ef47-37151c24f30c",
        "colab": {
          "base_uri": "https://localhost:8080/"
        }
      },
      "outputs": [
        {
          "output_type": "stream",
          "name": "stdout",
          "text": [
            "[4.46053671 6.64721308 8.30309418 3.3291334  5.34611943 5.80302597\n",
            " 4.2258375  2.42885176 6.67766157 3.69625694]\n"
          ]
        }
      ],
      "source": [
        "def distance(P0,P1,p):\n",
        "    T=P1-P0\n",
        "    L=(T**2).sum(axis=1)\n",
        "    U=-((P0[:,0]-p[...,0])*T[:,0]+(P1[:,1]-p[...,1])*T[:,1])/L\n",
        "    U=U.reshape(len(U),1)\n",
        "    D=P0+U*T-p\n",
        "    return np.sqrt((D**2).sum(axis=1))\n",
        "P0=np.random.uniform(-10,10,(10,2))\n",
        "P1=np.random.uniform(-10,10,(10,2))\n",
        "p=np.random.uniform(-10,10,(1,2))\n",
        "print(distance(P0,P1,p))"
      ]
    },
    {
      "cell_type": "markdown",
      "metadata": {
        "id": "Bb607fvFr3Sw"
      },
      "source": [
        "#### 79. Consider 2 sets of points P0,P1 describing lines (2d) and a set of points P, how to compute distance from each point j (P\\[j\\]) to each line i (P0\\[i\\],P1\\[i\\])? (★★★)"
      ]
    },
    {
      "cell_type": "code",
      "execution_count": 80,
      "metadata": {
        "id": "NnEawra0r3Sw",
        "outputId": "1cdb51f0-a110-4789-e016-fbaea5cb4574",
        "colab": {
          "base_uri": "https://localhost:8080/"
        }
      },
      "outputs": [
        {
          "output_type": "stream",
          "name": "stdout",
          "text": [
            "[[ 3.42467492  9.93157122 19.32490491  8.23161089  9.21124047 12.20618462\n",
            "  11.97447737 13.8999228   5.95819904  3.63570542]\n",
            " [ 3.98749028 11.01958984 11.66739038  7.81669757  5.65124594  7.43800864\n",
            "  14.90091752 12.24589613  1.89787764  5.90898238]\n",
            " [ 1.85895704  8.54515745 14.38956271  6.14516239  5.05646875  8.55444128\n",
            "  12.08050227 11.39899569  4.20504835  2.30619862]\n",
            " [11.51878639  8.80512616 12.56441275 11.34453132  8.41548807  9.19890903\n",
            "  12.6793423  12.30141952 11.55090103  3.63467513]\n",
            " [ 4.16037222  8.50095587 14.23022475  6.65825702  4.7507879   7.65096756\n",
            "  12.01187999 11.33754764  6.76478701  2.13576557]\n",
            " [ 3.63530721 11.2245013  21.0359878   8.95401853 10.25963063 12.87899643\n",
            "  12.69660852 15.0079667   7.49037535  5.43913476]\n",
            " [ 4.04393527  9.60449129 17.67941636  6.15051087  5.26981456  8.1941056\n",
            "  11.76670428 12.1185139  10.89328303  6.23531405]\n",
            " [12.1935125  10.13834759 11.56231445 12.88067574 10.13665101 10.16485849\n",
            "  14.25439545 13.61297621  9.58234497  2.02678497]\n",
            " [ 5.05722406  8.71559783 17.35471302  8.41739087  9.14000356 12.74803342\n",
            "  11.58227501 13.05937318  2.24707002  2.22599057]\n",
            " [10.39516724 10.67287031 21.64072067 13.51303895 14.92342916 18.10336287\n",
            "  12.4870515  16.89034477  1.56929096  2.08643401]]\n"
          ]
        }
      ],
      "source": [
        "def distance(P0,P1,p):\n",
        "    T=P1-P0\n",
        "    L=(T**2).sum(axis=1)\n",
        "    U=-((P0[:,0]-p[...,0])*T[:,0]+(P1[:,1]-p[...,1])*T[:,1])/L\n",
        "    U=U.reshape(len(U),1)\n",
        "    D=P0+U*T-p\n",
        "    return np.sqrt((D**2).sum(axis=1))\n",
        "P0=np.random.uniform(-10,10,(10,2))\n",
        "P1=np.random.uniform(-10,10,(10,2))\n",
        "p=np.random.uniform(-10,10,(10,2))\n",
        "print(np.array([distance(P0,P1,p_i) for p_i in p]))"
      ]
    },
    {
      "cell_type": "markdown",
      "metadata": {
        "id": "_e7agtfNr3Sw"
      },
      "source": [
        " 80. Consider an arbitrary array, write a function that extract a subpart with a fixed shape and centered on a given element (pad with a `fill` value when necessary) (★★★) \n",
        "(**hint**: minimum, maximum)"
      ]
    },
    {
      "cell_type": "code",
      "execution_count": 81,
      "metadata": {
        "id": "94StLWm5r3Sw",
        "outputId": "7997429a-86f5-41ce-9016-b516d978101e",
        "colab": {
          "base_uri": "https://localhost:8080/"
        }
      },
      "outputs": [
        {
          "output_type": "stream",
          "name": "stdout",
          "text": [
            "[[7 1 2 9 4 7 9 3 3 4]\n",
            " [6 1 5 6 4 1 9 3 5 3]\n",
            " [0 1 9 1 4 5 6 0 9 7]\n",
            " [4 4 3 6 1 8 4 2 5 2]\n",
            " [3 9 6 4 3 2 4 6 5 0]\n",
            " [8 3 2 2 9 7 3 5 7 8]\n",
            " [2 0 2 3 4 3 1 7 8 6]\n",
            " [2 5 4 7 7 1 1 3 1 0]\n",
            " [3 3 7 1 4 8 0 8 6 2]\n",
            " [2 0 0 7 3 3 5 5 2 4]]\n",
            "[[7 1 2 9 4 7 9 3 3 4]\n",
            " [6 1 5 6 4 1 9 3 5 3]\n",
            " [0 1 9 1 4 5 6 0 9 7]\n",
            " [4 4 3 6 1 8 4 2 5 2]]\n"
          ]
        }
      ],
      "source": [
        "import numpy as np\n",
        "Z = np.random.randint(0,10,(10,10))\n",
        "shape = (5,5)\n",
        "fill  = 0\n",
        "position = (1,1)\n",
        "\n",
        "R = np.ones(shape, dtype=Z.dtype)*fill\n",
        "P  = np.array(list(position)).astype(int)\n",
        "Rs = np.array(list(R.shape)).astype(int)\n",
        "Zs = np.array(list(Z.shape)).astype(int)\n",
        "\n",
        "R_start = np.zeros((len(shape),)).astype(int)\n",
        "R_stop  = np.array(list(shape)).astype(int)\n",
        "Z_start = (P-Rs//2)\n",
        "Z_stop  = (P+Rs//2)+Rs%2\n",
        "\n",
        "R_start = (R_start - np.minimum(Z_start,0)).tolist()\n",
        "Z_start = (np.maximum(Z_start,0)).tolist()\n",
        "R_stop = np.maximum(R_start, (R_stop - np.maximum(Z_stop-Zs,0))).tolist()\n",
        "Z_stop = (np.minimum(Z_stop,Zs)).tolist()\n",
        "\n",
        "r = [slice(start,stop) for start,stop in zip(R_start,R_stop)]\n",
        "z = [slice(start,stop) for start,stop in zip(Z_start,Z_stop)]\n",
        "R= Z[z[0]]\n",
        "print(Z)\n",
        "print(R)"
      ]
    },
    {
      "cell_type": "markdown",
      "metadata": {
        "id": "ubBteN7tr3Sx"
      },
      "source": [
        "#### 81. Consider an array Z = \\[1,2,3,4,5,6,7,8,9,10,11,12,13,14\\], how to generate an array R = \\[\\[1,2,3,4\\], \\[2,3,4,5\\], \\[3,4,5,6\\], ..., \\[11,12,13,14\\]\\]? (★★★) \n",
        "(**hint**: stride\\_tricks.as\\_strided)"
      ]
    },
    {
      "cell_type": "code",
      "execution_count": 82,
      "metadata": {
        "id": "hkHGFufOr3Sx",
        "outputId": "9a5744e1-9008-4e7c-b405-2bb19338006b",
        "colab": {
          "base_uri": "https://localhost:8080/"
        }
      },
      "outputs": [
        {
          "output_type": "stream",
          "name": "stdout",
          "text": [
            "[[ 1  2  3  4]\n",
            " [ 2  3  4  5]\n",
            " [ 3  4  5  6]\n",
            " [ 4  5  6  7]\n",
            " [ 5  6  7  8]\n",
            " [ 6  7  8  9]\n",
            " [ 7  8  9 10]\n",
            " [ 8  9 10 11]\n",
            " [ 9 10 11 12]\n",
            " [10 11 12 13]\n",
            " [11 12 13 14]]\n"
          ]
        }
      ],
      "source": [
        "from numpy.lib import stride_tricks\n",
        "a=np.arange(1,15,dtype=np.uint32)\n",
        "#print(a)\n",
        "b=stride_tricks.as_strided(a,(11,4),(4,4))\n",
        "print(b)"
      ]
    },
    {
      "cell_type": "markdown",
      "metadata": {
        "id": "3LK1pkQnr3Sx"
      },
      "source": [
        "#### 82. Compute a matrix rank (★★★) \n",
        "(**hint**: np.linalg.svd) (suggestion: np.linalg.svd)"
      ]
    },
    {
      "cell_type": "code",
      "execution_count": 83,
      "metadata": {
        "id": "8SLh60Vkr3Sx",
        "outputId": "0e9093d7-4b2a-428c-acf6-123463c07830",
        "colab": {
          "base_uri": "https://localhost:8080/"
        }
      },
      "outputs": [
        {
          "output_type": "stream",
          "name": "stdout",
          "text": [
            "10\n"
          ]
        }
      ],
      "source": [
        "a=np.random.uniform(0,1,(10,10))\n",
        "U,S,V=np.linalg.svd(a)\n",
        "rank=np.sum(S>1e-10)\n",
        "print(rank)"
      ]
    },
    {
      "cell_type": "markdown",
      "metadata": {
        "id": "IXzOUTpur3Sx"
      },
      "source": [
        "#### 83. How to find the most frequent value in an array? \n",
        "(**hint**: np.bincount, argmax)"
      ]
    },
    {
      "cell_type": "code",
      "execution_count": 84,
      "metadata": {
        "id": "oF6LpPuGr3Sy",
        "outputId": "27f6bb6f-5eec-4710-f3fe-e9b9402ad2d1",
        "colab": {
          "base_uri": "https://localhost:8080/"
        }
      },
      "outputs": [
        {
          "output_type": "stream",
          "name": "stdout",
          "text": [
            "5\n"
          ]
        }
      ],
      "source": [
        "a=np.array([1,2,2,3,3,4,3,4,5,5,5,5,5,5,7])\n",
        "b=np.bincount(a)\n",
        "print(np.argmax(b))"
      ]
    },
    {
      "cell_type": "markdown",
      "metadata": {
        "id": "5Je5RoO5r3Sy"
      },
      "source": [
        "#### 84. Extract all the contiguous 3x3 blocks from a random 10x10 matrix (★★★) \n",
        "(**hint**: stride\\_tricks.as\\_strided)"
      ]
    },
    {
      "cell_type": "code",
      "execution_count": 85,
      "metadata": {
        "id": "-OPcLYYRr3Sy",
        "outputId": "04d84a1d-e18a-4439-c6f5-5945475d153b",
        "colab": {
          "base_uri": "https://localhost:8080/"
        }
      },
      "outputs": [
        {
          "output_type": "stream",
          "name": "stdout",
          "text": [
            "[[[[0 2 1]\n",
            "   [1 0 4]\n",
            "   [1 2 4]]\n",
            "\n",
            "  [[2 1 4]\n",
            "   [0 4 1]\n",
            "   [2 4 0]]\n",
            "\n",
            "  [[1 4 2]\n",
            "   [4 1 0]\n",
            "   [4 0 3]]\n",
            "\n",
            "  [[4 2 1]\n",
            "   [1 0 1]\n",
            "   [0 3 3]]\n",
            "\n",
            "  [[2 1 4]\n",
            "   [0 1 4]\n",
            "   [3 3 3]]\n",
            "\n",
            "  [[1 4 0]\n",
            "   [1 4 2]\n",
            "   [3 3 3]]\n",
            "\n",
            "  [[4 0 1]\n",
            "   [4 2 1]\n",
            "   [3 3 3]]\n",
            "\n",
            "  [[0 1 3]\n",
            "   [2 1 4]\n",
            "   [3 3 3]]]\n",
            "\n",
            "\n",
            " [[[1 0 4]\n",
            "   [1 2 4]\n",
            "   [4 4 4]]\n",
            "\n",
            "  [[0 4 1]\n",
            "   [2 4 0]\n",
            "   [4 4 0]]\n",
            "\n",
            "  [[4 1 0]\n",
            "   [4 0 3]\n",
            "   [4 0 3]]\n",
            "\n",
            "  [[1 0 1]\n",
            "   [0 3 3]\n",
            "   [0 3 0]]\n",
            "\n",
            "  [[0 1 4]\n",
            "   [3 3 3]\n",
            "   [3 0 2]]\n",
            "\n",
            "  [[1 4 2]\n",
            "   [3 3 3]\n",
            "   [0 2 1]]\n",
            "\n",
            "  [[4 2 1]\n",
            "   [3 3 3]\n",
            "   [2 1 1]]\n",
            "\n",
            "  [[2 1 4]\n",
            "   [3 3 3]\n",
            "   [1 1 0]]]\n",
            "\n",
            "\n",
            " [[[1 2 4]\n",
            "   [4 4 4]\n",
            "   [1 4 4]]\n",
            "\n",
            "  [[2 4 0]\n",
            "   [4 4 0]\n",
            "   [4 4 2]]\n",
            "\n",
            "  [[4 0 3]\n",
            "   [4 0 3]\n",
            "   [4 2 0]]\n",
            "\n",
            "  [[0 3 3]\n",
            "   [0 3 0]\n",
            "   [2 0 2]]\n",
            "\n",
            "  [[3 3 3]\n",
            "   [3 0 2]\n",
            "   [0 2 2]]\n",
            "\n",
            "  [[3 3 3]\n",
            "   [0 2 1]\n",
            "   [2 2 4]]\n",
            "\n",
            "  [[3 3 3]\n",
            "   [2 1 1]\n",
            "   [2 4 0]]\n",
            "\n",
            "  [[3 3 3]\n",
            "   [1 1 0]\n",
            "   [4 0 1]]]\n",
            "\n",
            "\n",
            " [[[4 4 4]\n",
            "   [1 4 4]\n",
            "   [2 1 2]]\n",
            "\n",
            "  [[4 4 0]\n",
            "   [4 4 2]\n",
            "   [1 2 4]]\n",
            "\n",
            "  [[4 0 3]\n",
            "   [4 2 0]\n",
            "   [2 4 2]]\n",
            "\n",
            "  [[0 3 0]\n",
            "   [2 0 2]\n",
            "   [4 2 3]]\n",
            "\n",
            "  [[3 0 2]\n",
            "   [0 2 2]\n",
            "   [2 3 3]]\n",
            "\n",
            "  [[0 2 1]\n",
            "   [2 2 4]\n",
            "   [3 3 3]]\n",
            "\n",
            "  [[2 1 1]\n",
            "   [2 4 0]\n",
            "   [3 3 2]]\n",
            "\n",
            "  [[1 1 0]\n",
            "   [4 0 1]\n",
            "   [3 2 0]]]\n",
            "\n",
            "\n",
            " [[[1 4 4]\n",
            "   [2 1 2]\n",
            "   [1 2 3]]\n",
            "\n",
            "  [[4 4 2]\n",
            "   [1 2 4]\n",
            "   [2 3 4]]\n",
            "\n",
            "  [[4 2 0]\n",
            "   [2 4 2]\n",
            "   [3 4 0]]\n",
            "\n",
            "  [[2 0 2]\n",
            "   [4 2 3]\n",
            "   [4 0 1]]\n",
            "\n",
            "  [[0 2 2]\n",
            "   [2 3 3]\n",
            "   [0 1 1]]\n",
            "\n",
            "  [[2 2 4]\n",
            "   [3 3 3]\n",
            "   [1 1 4]]\n",
            "\n",
            "  [[2 4 0]\n",
            "   [3 3 2]\n",
            "   [1 4 3]]\n",
            "\n",
            "  [[4 0 1]\n",
            "   [3 2 0]\n",
            "   [4 3 2]]]\n",
            "\n",
            "\n",
            " [[[2 1 2]\n",
            "   [1 2 3]\n",
            "   [1 0 4]]\n",
            "\n",
            "  [[1 2 4]\n",
            "   [2 3 4]\n",
            "   [0 4 0]]\n",
            "\n",
            "  [[2 4 2]\n",
            "   [3 4 0]\n",
            "   [4 0 1]]\n",
            "\n",
            "  [[4 2 3]\n",
            "   [4 0 1]\n",
            "   [0 1 4]]\n",
            "\n",
            "  [[2 3 3]\n",
            "   [0 1 1]\n",
            "   [1 4 4]]\n",
            "\n",
            "  [[3 3 3]\n",
            "   [1 1 4]\n",
            "   [4 4 0]]\n",
            "\n",
            "  [[3 3 2]\n",
            "   [1 4 3]\n",
            "   [4 0 4]]\n",
            "\n",
            "  [[3 2 0]\n",
            "   [4 3 2]\n",
            "   [0 4 2]]]\n",
            "\n",
            "\n",
            " [[[1 2 3]\n",
            "   [1 0 4]\n",
            "   [3 2 3]]\n",
            "\n",
            "  [[2 3 4]\n",
            "   [0 4 0]\n",
            "   [2 3 2]]\n",
            "\n",
            "  [[3 4 0]\n",
            "   [4 0 1]\n",
            "   [3 2 0]]\n",
            "\n",
            "  [[4 0 1]\n",
            "   [0 1 4]\n",
            "   [2 0 3]]\n",
            "\n",
            "  [[0 1 1]\n",
            "   [1 4 4]\n",
            "   [0 3 1]]\n",
            "\n",
            "  [[1 1 4]\n",
            "   [4 4 0]\n",
            "   [3 1 4]]\n",
            "\n",
            "  [[1 4 3]\n",
            "   [4 0 4]\n",
            "   [1 4 2]]\n",
            "\n",
            "  [[4 3 2]\n",
            "   [0 4 2]\n",
            "   [4 2 1]]]\n",
            "\n",
            "\n",
            " [[[1 0 4]\n",
            "   [3 2 3]\n",
            "   [3 2 3]]\n",
            "\n",
            "  [[0 4 0]\n",
            "   [2 3 2]\n",
            "   [2 3 4]]\n",
            "\n",
            "  [[4 0 1]\n",
            "   [3 2 0]\n",
            "   [3 4 1]]\n",
            "\n",
            "  [[0 1 4]\n",
            "   [2 0 3]\n",
            "   [4 1 3]]\n",
            "\n",
            "  [[1 4 4]\n",
            "   [0 3 1]\n",
            "   [1 3 1]]\n",
            "\n",
            "  [[4 4 0]\n",
            "   [3 1 4]\n",
            "   [3 1 3]]\n",
            "\n",
            "  [[4 0 4]\n",
            "   [1 4 2]\n",
            "   [1 3 0]]\n",
            "\n",
            "  [[0 4 2]\n",
            "   [4 2 1]\n",
            "   [3 0 4]]]]\n"
          ]
        }
      ],
      "source": [
        "a=np.random.randint(0,5,(10,10))\n",
        "n=3\n",
        "i=1+(a.shape[0]-3)\n",
        "j=1+(a.shape[1]-3)\n",
        "C=stride_tricks.as_strided(a,shape=(i,j,n,n),strides=a.strides+a.strides)\n",
        "print(C)"
      ]
    },
    {
      "cell_type": "markdown",
      "metadata": {
        "id": "s0nd4f_nr3Sy"
      },
      "source": [
        "#### 85. Create a 2D array subclass such that Z\\[i,j\\] == Z\\[j,i\\] (★★★) \n",
        "(**hint**: class method)"
      ]
    },
    {
      "cell_type": "code",
      "execution_count": 86,
      "metadata": {
        "id": "Tqnsgu9sr3Sy",
        "outputId": "ddf47494-c8f1-429e-bec9-5e866e60dc9c",
        "colab": {
          "base_uri": "https://localhost:8080/"
        }
      },
      "outputs": [
        {
          "output_type": "stream",
          "name": "stdout",
          "text": [
            "[[ 8 16  6  5 11]\n",
            " [16  7 15  3  7]\n",
            " [ 6 15  1 42 12]\n",
            " [ 5  3 42  4  7]\n",
            " [11  7 12  7  9]]\n"
          ]
        }
      ],
      "source": [
        "class Symetric(np.ndarray):\n",
        "    def __setitem__(self,index,value):\n",
        "        i,j=index\n",
        "        super(Symetric,self).__setitem__((i,j),value)\n",
        "        super(Symetric,self).__setitem__((j,i),value)\n",
        "def symetric(a):\n",
        "    return np.asarray(a+a.T-np.diag(a.diagonal())).view(Symetric)\n",
        "S=symetric(np.random.randint(0,10,(5,5)))\n",
        "S[2,3]=42\n",
        "print(S)"
      ]
    },
    {
      "cell_type": "markdown",
      "metadata": {
        "id": "l-jtpwoXr3Sz"
      },
      "source": [
        "#### 86. Consider a set of p matrices wich shape (n,n) and a set of p vectors with shape (n,1). How to compute the sum of of the p matrix products at once? (result has shape (n,1)) (★★★) \n",
        "(**hint**: np.tensordot)"
      ]
    },
    {
      "cell_type": "code",
      "execution_count": 87,
      "metadata": {
        "id": "t40eYWGcr3Sz",
        "outputId": "6f3e30f1-0f39-4f38-80d5-d9b1f716e133",
        "colab": {
          "base_uri": "https://localhost:8080/"
        }
      },
      "outputs": [
        {
          "output_type": "stream",
          "name": "stdout",
          "text": [
            "[[200.]\n",
            " [200.]\n",
            " [200.]\n",
            " [200.]\n",
            " [200.]\n",
            " [200.]\n",
            " [200.]\n",
            " [200.]\n",
            " [200.]\n",
            " [200.]\n",
            " [200.]\n",
            " [200.]\n",
            " [200.]\n",
            " [200.]\n",
            " [200.]\n",
            " [200.]\n",
            " [200.]\n",
            " [200.]\n",
            " [200.]\n",
            " [200.]]\n"
          ]
        }
      ],
      "source": [
        "p,n=10,20\n",
        "M=np.ones((p,n,n))\n",
        "V=np.ones((p,n,1))\n",
        "S=np.tensordot(M,V,axes=[[0,2],[0,1]])\n",
        "print(S)"
      ]
    },
    {
      "cell_type": "markdown",
      "metadata": {
        "id": "-25hE7Iur3Sz"
      },
      "source": [
        "#### 87. Consider a 16x16 array, how to get the block-sum (block size is 4x4)? (★★★) \n",
        "(**hint**: np.add.reduceat)"
      ]
    },
    {
      "cell_type": "code",
      "execution_count": 88,
      "metadata": {
        "id": "NbBPf0Oqr3Sz",
        "outputId": "1b24dbad-f37c-4a7b-b585-bbd1ebeefbee",
        "colab": {
          "base_uri": "https://localhost:8080/"
        }
      },
      "outputs": [
        {
          "output_type": "stream",
          "name": "stdout",
          "text": [
            "[[16. 16. 16. 16.]\n",
            " [16. 16. 16. 16.]\n",
            " [16. 16. 16. 16.]\n",
            " [16. 16. 16. 16.]]\n"
          ]
        }
      ],
      "source": [
        "a=np.ones((16,16))\n",
        "k=4\n",
        "b=np.add.reduceat(np.add.reduceat(a,np.arange(0,a.shape[0],k),axis=0),\n",
        "                                np.arange(0,a.shape[1],k),axis=1)\n",
        "print(b)"
      ]
    },
    {
      "cell_type": "markdown",
      "metadata": {
        "id": "LKGwZEDOr3S1"
      },
      "source": [
        "#### 88. How to implement the Game of Life using numpy arrays? (★★★)"
      ]
    },
    {
      "cell_type": "code",
      "execution_count": 89,
      "metadata": {
        "id": "FMMYFO17r3S1",
        "outputId": "686c91fb-8d0a-48bf-aff0-bd7984acb469",
        "colab": {
          "base_uri": "https://localhost:8080/"
        }
      },
      "outputs": [
        {
          "output_type": "stream",
          "name": "stdout",
          "text": [
            "[[0 0 0 0 0 0 0 0 0 0 0 0 0 0 0 0 0 0 0 0 0 0 0 0 0 0 0 0 0 0 0 0 0 0 0 0\n",
            "  0 0 0 0 0 0 0 0 0 0 0 0 0 0]\n",
            " [0 0 0 0 0 0 0 0 0 0 0 0 0 0 0 0 0 0 0 0 0 0 0 0 0 0 0 0 0 0 0 0 0 0 0 0\n",
            "  0 0 0 0 0 0 0 0 0 0 0 0 0 0]\n",
            " [0 0 0 0 0 0 0 0 0 0 0 0 0 0 0 0 0 0 0 0 0 0 0 0 0 0 0 0 0 0 0 0 0 0 0 0\n",
            "  0 0 0 0 0 0 0 0 0 0 0 0 0 0]\n",
            " [0 0 0 0 0 0 0 0 0 0 0 0 0 0 0 0 0 0 0 0 0 0 0 0 0 0 0 0 0 0 0 0 0 0 0 0\n",
            "  0 0 0 0 0 0 0 0 0 0 0 0 0 0]\n",
            " [0 0 0 0 0 0 0 0 0 0 0 0 0 0 0 0 0 0 0 0 0 0 0 0 0 0 0 0 0 0 0 0 0 0 0 0\n",
            "  0 0 0 0 0 0 0 0 0 0 0 0 0 0]\n",
            " [0 0 0 0 0 0 0 0 0 0 0 0 0 0 0 0 0 0 0 0 0 0 0 0 0 0 0 0 0 0 0 0 0 0 0 0\n",
            "  0 0 0 0 0 0 0 0 0 0 0 0 0 0]\n",
            " [0 0 0 0 0 0 0 0 0 0 0 0 0 0 0 0 0 0 0 0 0 0 0 0 0 0 0 0 0 0 0 0 0 0 0 0\n",
            "  0 0 0 0 0 0 0 0 0 0 0 0 0 0]\n",
            " [0 0 0 0 0 0 0 0 0 0 0 0 0 0 0 0 0 0 0 0 0 0 0 0 0 0 0 0 0 0 0 0 0 0 0 0\n",
            "  0 0 0 0 0 0 0 0 0 0 0 0 0 0]\n",
            " [0 0 0 0 0 0 0 0 0 0 0 0 0 0 0 0 0 0 0 0 0 0 1 0 0 0 0 0 0 0 0 0 0 0 0 0\n",
            "  0 0 0 0 0 0 0 0 0 0 0 0 0 0]\n",
            " [0 0 0 0 0 0 0 0 0 0 0 0 0 0 0 0 0 0 0 0 0 0 1 0 0 0 0 0 0 0 0 0 0 0 0 0\n",
            "  0 0 0 0 0 0 0 0 0 0 0 0 0 0]\n",
            " [0 0 0 0 0 0 0 0 0 0 0 0 0 0 0 0 0 0 0 0 0 0 1 0 0 0 0 0 0 0 0 0 0 0 0 0\n",
            "  0 0 0 0 0 0 0 0 0 0 0 0 0 0]\n",
            " [0 0 0 0 0 0 0 0 0 0 0 0 0 0 0 0 0 0 1 1 0 0 0 0 0 0 0 0 0 0 0 0 0 0 0 0\n",
            "  0 0 0 0 1 0 0 0 0 0 0 0 0 0]\n",
            " [0 0 0 0 0 0 0 0 0 0 0 0 0 0 0 0 0 0 1 1 0 0 0 0 0 0 0 0 0 0 0 0 0 0 0 0\n",
            "  0 0 0 0 0 1 1 0 0 0 0 0 0 0]\n",
            " [0 0 0 0 0 0 0 0 0 0 0 0 0 0 0 0 0 0 0 0 0 0 0 0 0 0 0 0 0 0 0 0 0 0 0 0\n",
            "  0 0 0 0 0 1 1 1 0 0 0 0 0 0]\n",
            " [0 0 0 0 0 0 0 0 0 0 0 0 0 0 0 0 0 0 0 0 0 0 0 0 0 0 0 0 0 0 0 0 0 0 0 0\n",
            "  0 0 0 0 0 1 1 0 0 0 0 0 0 0]\n",
            " [0 0 0 0 0 0 0 0 0 0 0 0 0 0 0 0 0 0 0 0 0 0 0 0 0 0 0 0 0 0 0 0 0 0 0 0\n",
            "  0 0 0 0 0 0 1 1 1 0 0 0 0 0]\n",
            " [0 0 0 0 0 0 0 0 0 0 0 0 0 0 0 0 0 0 0 0 0 0 0 0 0 0 0 0 0 0 0 0 0 0 0 0\n",
            "  0 0 0 0 0 0 0 1 1 0 0 0 0 0]\n",
            " [0 0 0 0 0 0 0 0 0 0 0 0 0 0 0 0 0 0 0 0 0 0 0 0 0 0 0 0 0 0 0 0 0 0 0 1\n",
            "  0 0 0 0 0 0 1 1 0 0 0 0 0 0]\n",
            " [0 0 0 0 0 0 0 0 0 0 0 0 0 0 0 0 0 0 0 0 0 0 0 0 0 0 0 0 0 0 0 0 0 0 1 0\n",
            "  1 0 0 0 0 1 0 1 0 0 0 0 0 0]\n",
            " [0 0 0 0 0 0 0 0 0 0 0 0 0 0 0 0 0 0 0 0 0 0 0 0 0 0 0 0 0 0 0 0 0 0 1 0\n",
            "  0 1 0 0 0 0 0 0 1 0 0 0 0 0]\n",
            " [0 0 0 0 0 0 0 0 0 0 0 0 0 0 0 0 1 0 0 0 0 0 0 0 0 0 0 0 0 1 1 1 0 0 0 1\n",
            "  1 0 0 0 0 0 0 1 0 0 0 0 0 0]\n",
            " [0 0 0 0 0 0 0 0 0 0 0 0 0 0 0 1 1 1 0 0 0 0 0 0 0 0 0 0 0 1 0 0 0 0 0 0\n",
            "  0 0 0 0 0 0 0 0 0 0 0 0 0 0]\n",
            " [0 0 0 0 0 0 0 0 0 0 0 0 0 0 1 0 0 1 1 0 0 0 0 0 0 0 0 0 0 0 1 0 0 0 0 0\n",
            "  0 0 0 0 0 0 0 0 0 0 0 0 0 0]\n",
            " [0 0 0 0 0 0 0 0 0 0 0 0 0 0 1 1 1 0 1 0 0 0 0 0 0 0 0 0 0 0 0 0 0 0 0 0\n",
            "  0 0 0 0 0 0 0 0 0 0 0 0 0 0]\n",
            " [0 0 0 0 0 0 0 0 0 0 0 0 1 1 0 1 0 1 1 0 0 0 0 0 0 0 0 0 0 0 0 0 0 0 0 0\n",
            "  0 0 0 0 0 0 0 0 0 0 0 0 0 0]\n",
            " [0 0 0 0 0 0 0 0 0 0 0 1 0 0 1 0 0 0 0 0 0 0 0 0 0 0 0 0 0 0 0 0 0 0 0 0\n",
            "  0 0 0 0 0 0 0 0 0 0 0 0 0 0]\n",
            " [0 0 0 0 0 0 0 0 0 0 1 1 1 1 1 1 0 0 0 0 0 0 0 0 0 0 0 0 0 0 0 0 0 0 0 0\n",
            "  0 0 0 0 0 0 0 0 0 0 0 0 0 0]\n",
            " [0 0 0 0 0 0 0 0 0 0 0 1 0 0 1 0 0 0 0 0 0 0 0 0 0 0 0 0 0 0 0 0 0 0 0 0\n",
            "  0 0 0 0 0 0 0 0 0 0 0 0 0 0]\n",
            " [0 0 0 0 0 0 0 0 0 0 0 0 1 1 0 1 0 1 1 0 0 0 0 0 0 0 0 0 0 0 0 0 0 0 0 0\n",
            "  0 0 0 0 0 0 0 0 0 0 0 0 0 0]\n",
            " [0 0 0 0 0 0 0 0 0 0 0 0 0 0 1 1 1 0 1 0 0 0 0 0 0 0 0 0 0 0 0 0 0 0 0 0\n",
            "  0 0 0 0 0 0 0 0 0 0 0 0 0 0]\n",
            " [0 0 0 0 0 0 0 0 0 0 0 0 0 0 1 0 0 1 1 0 0 0 0 0 0 0 0 0 0 0 0 0 0 0 0 0\n",
            "  0 0 0 0 0 0 0 0 0 0 0 0 0 0]\n",
            " [0 0 0 0 0 0 0 0 0 0 0 0 0 0 0 1 1 1 0 0 0 0 0 0 0 0 0 0 0 0 0 0 0 0 0 0\n",
            "  0 0 0 0 0 0 0 0 0 0 0 0 0 0]\n",
            " [0 0 0 0 0 0 0 0 0 0 0 0 0 0 0 0 1 0 0 0 0 0 0 0 0 0 0 0 0 0 0 0 0 0 0 0\n",
            "  0 0 0 0 0 0 0 0 0 0 0 0 0 0]\n",
            " [0 0 0 0 0 0 0 0 0 0 0 0 0 0 0 0 0 0 0 0 0 0 0 0 0 0 0 1 1 1 0 0 0 0 0 0\n",
            "  0 0 0 1 0 0 0 0 0 0 0 0 0 0]\n",
            " [0 0 0 0 0 0 0 0 0 0 0 0 0 0 0 0 0 0 0 0 0 0 0 0 0 0 0 0 0 0 0 0 0 0 0 0\n",
            "  0 0 0 1 0 0 0 0 0 0 0 0 0 0]\n",
            " [0 0 0 0 0 0 0 0 0 0 0 0 0 0 0 0 0 0 0 0 0 0 0 0 0 0 0 0 0 0 0 0 0 0 0 0\n",
            "  0 0 0 1 0 0 0 0 0 0 0 0 0 0]\n",
            " [0 0 0 0 0 0 0 0 0 0 0 0 0 0 0 0 0 0 0 0 0 0 0 0 0 0 0 0 0 0 0 0 0 0 0 0\n",
            "  0 0 0 0 0 0 0 0 0 0 0 0 0 0]\n",
            " [0 0 0 0 0 0 0 0 0 0 0 0 0 0 0 0 0 0 0 0 0 0 0 0 0 0 0 0 0 0 0 0 0 0 0 0\n",
            "  0 0 0 0 0 1 1 1 0 0 0 0 0 0]\n",
            " [0 0 0 0 0 0 0 0 0 0 0 0 0 0 0 0 0 0 0 0 0 0 0 0 0 0 0 0 0 0 0 0 0 0 0 0\n",
            "  0 0 0 0 0 0 0 0 0 0 0 0 0 0]\n",
            " [0 0 0 0 0 0 0 0 0 0 0 0 0 0 0 0 0 0 0 0 0 0 0 0 0 0 0 0 0 0 0 0 0 0 0 0\n",
            "  0 0 0 0 0 0 0 0 0 0 0 0 0 0]\n",
            " [0 0 0 0 0 0 0 0 0 0 0 0 0 0 0 0 0 0 0 0 0 0 0 0 0 1 1 0 0 0 0 1 1 0 0 0\n",
            "  0 0 0 0 0 0 0 0 0 0 0 0 0 0]\n",
            " [0 0 0 0 0 0 0 0 0 0 0 0 0 0 0 0 0 0 0 0 0 0 0 0 1 1 0 1 1 1 0 1 0 0 0 0\n",
            "  0 0 0 0 0 0 0 0 0 0 0 0 0 0]\n",
            " [0 0 0 0 0 0 0 0 0 0 0 0 0 0 0 0 0 0 0 0 0 0 0 0 0 1 0 0 0 0 0 0 0 0 0 0\n",
            "  0 0 0 0 0 0 0 0 0 0 0 0 0 0]\n",
            " [0 0 0 0 0 0 0 0 0 0 0 0 0 0 0 0 0 0 0 0 0 0 0 0 0 0 1 0 1 0 1 1 0 0 0 0\n",
            "  0 0 0 0 0 0 0 0 0 0 1 1 0 0]\n",
            " [0 0 0 0 0 0 0 0 0 0 0 0 0 0 0 0 0 0 0 0 0 0 0 0 0 0 0 0 1 0 1 0 0 0 0 0\n",
            "  0 0 0 0 0 0 0 0 0 0 1 1 0 0]\n",
            " [0 0 0 0 0 0 0 0 0 0 0 0 0 0 0 0 0 0 0 0 0 0 0 0 0 0 0 0 0 0 1 0 1 1 0 0\n",
            "  0 0 0 0 0 0 0 0 0 0 0 0 0 0]\n",
            " [0 0 0 0 0 0 0 0 0 0 0 0 0 0 0 0 0 0 0 0 0 0 0 0 0 0 0 0 0 0 1 0 0 1 0 0\n",
            "  0 0 0 0 0 0 0 0 0 0 0 0 0 0]\n",
            " [0 0 0 0 0 0 0 0 0 0 0 0 0 0 0 0 0 0 0 0 0 0 0 0 0 0 0 0 0 0 1 1 1 0 0 0\n",
            "  0 0 0 0 0 0 0 0 0 0 0 0 0 0]\n",
            " [0 0 0 0 0 0 0 0 0 0 0 0 0 0 0 0 0 0 0 0 0 0 0 0 0 0 0 0 0 0 0 0 0 0 0 0\n",
            "  0 0 0 0 0 0 0 0 0 0 0 0 0 0]\n",
            " [0 0 0 0 0 0 0 0 0 0 0 0 0 0 0 0 0 0 0 0 0 0 0 0 0 0 0 0 0 0 0 0 0 0 0 0\n",
            "  0 0 0 0 0 0 0 0 0 0 0 0 0 0]]\n"
          ]
        }
      ],
      "source": [
        "def iterated(a):\n",
        "    N = (a[0:-2,0:-2] + a[0:-2,1:-1] + a[0:-2,2:] +\n",
        "         a[1:-1,0:-2]                + a[1:-1,2:] +\n",
        "         a[2:  ,0:-2] + a[2:  ,1:-1] + a[2:  ,2:])\n",
        "    birth = (N==3) & (a[1:-1,1:-1]==0)\n",
        "    survive = ((N==2) | (N==3)) & (a[1:-1,1:-1]==1)\n",
        "    a[...] = 0\n",
        "    a[1:-1,1:-1][birth | survive] = 1\n",
        "    return a\n",
        "a= np.random.randint(0,2,(50,50))\n",
        "for i in range(100):\n",
        "    a = iterated(a)\n",
        "print(a)"
      ]
    },
    {
      "cell_type": "markdown",
      "metadata": {
        "id": "CBfmFYSEr3S1"
      },
      "source": [
        "#### 89. How to get the n largest values of an array (★★★) \n",
        "(**hint**: np.argsort | np.argpartition)"
      ]
    },
    {
      "cell_type": "code",
      "execution_count": 90,
      "metadata": {
        "id": "buEKd3iIr3S1",
        "outputId": "6b8a1489-c316-4dc4-b506-6feb2f3b9c80",
        "colab": {
          "base_uri": "https://localhost:8080/"
        }
      },
      "outputs": [
        {
          "output_type": "stream",
          "name": "stdout",
          "text": [
            "[9995 9996 9997 9998 9999]\n",
            "[9995 9999 9998 9997 9996]\n"
          ]
        }
      ],
      "source": [
        "a=np.arange(10000)\n",
        "n=5\n",
        "print(a[np.argsort(a)[-n:]])\n",
        "print(a[np.argpartition(-a,n)[:n]])"
      ]
    },
    {
      "cell_type": "markdown",
      "metadata": {
        "id": "KzD6r2AVr3S2"
      },
      "source": [
        "#### 90. Given an arbitrary number of vectors, build the cartesian product (every combinations of every item) (★★★) \n",
        "(**hint**: np.indices)"
      ]
    },
    {
      "cell_type": "code",
      "execution_count": 91,
      "metadata": {
        "scrolled": true,
        "id": "v24LxmICr3S2",
        "outputId": "4b1e1320-6127-4c2d-e254-070e532523ef",
        "colab": {
          "base_uri": "https://localhost:8080/"
        }
      },
      "outputs": [
        {
          "output_type": "stream",
          "name": "stdout",
          "text": [
            "[[1 4 6]\n",
            " [1 4 7]\n",
            " [1 5 6]\n",
            " [1 5 7]\n",
            " [2 4 6]\n",
            " [2 4 7]\n",
            " [2 5 6]\n",
            " [2 5 7]\n",
            " [3 4 6]\n",
            " [3 4 7]\n",
            " [3 5 6]\n",
            " [3 5 7]]\n"
          ]
        }
      ],
      "source": [
        "def cartesian(arrays):\n",
        "    arrays = [np.asarray(a) for a in arrays]  #converting array to numpy arr\n",
        "    shape = (len(x) for x in arrays)\n",
        "    ix = np.indices(shape, dtype=int)    #making indices array with idx representation\n",
        "    ix = ix.reshape(len(arrays), -1).T        #consolidating and taking transpose\n",
        "    for n, arr in enumerate(arrays):        #seperating iterators and arrays \n",
        "        ix[:, n] = arrays[n][ix[:, n]]\n",
        "    return ix\n",
        "print (cartesian(([1, 2, 3], [4, 5], [6, 7])))"
      ]
    },
    {
      "cell_type": "markdown",
      "metadata": {
        "id": "qubRccdNr3S2"
      },
      "source": [
        "#### 91. How to create a record array from a regular array? (★★★) \n",
        "(**hint**: np.core.records.fromarrays)"
      ]
    },
    {
      "cell_type": "code",
      "execution_count": 92,
      "metadata": {
        "id": "gPaQ-g4ir3S2",
        "outputId": "a84eeafe-cf43-4606-d288-144e863402be",
        "colab": {
          "base_uri": "https://localhost:8080/"
        }
      },
      "outputs": [
        {
          "output_type": "stream",
          "name": "stdout",
          "text": [
            "[('hello', '3.7', '6.5') ('world', '7', '4.9')]\n"
          ]
        }
      ],
      "source": [
        "a=np.array([(\"hello\",3.7,6.5),(\"world\",7,4.9)])\n",
        "r=np.core.records.fromarrays(a.T,names=('a','b','c'))    # passing three arrays by transpose and getting core dump \n",
        "print(r)"
      ]
    },
    {
      "cell_type": "markdown",
      "metadata": {
        "id": "z8WlGPaHr3S2"
      },
      "source": [
        "#### 92. Consider a large vector Z, compute Z to the power of 3 using 3 different methods (★★★) \n",
        "(**hint**: np.power, \\*, np.einsum)"
      ]
    },
    {
      "cell_type": "code",
      "execution_count": 93,
      "metadata": {
        "id": "Xi1YPOFcr3S2",
        "outputId": "561ed116-f518-4bd9-efae-f7d8d1edc73c",
        "colab": {
          "base_uri": "https://localhost:8080/"
        }
      },
      "outputs": [
        {
          "output_type": "stream",
          "name": "stdout",
          "text": [
            "[ 0  1  8 27 64]\n",
            "[ 0  1  8 27 64]\n",
            "[ 0  1  8 27 64]\n"
          ]
        }
      ],
      "source": [
        "Z=np.arange(5)\n",
        "print(np.power(Z,3))\n",
        "print(Z*Z*Z)\n",
        "print(np.einsum('i,i,i->i',Z,Z,Z))"
      ]
    },
    {
      "cell_type": "markdown",
      "metadata": {
        "id": "dpiah601r3S2"
      },
      "source": [
        "#### 93. Consider two arrays A and B of shape (8,3) and (2,2). How to find rows of A that contain elements of each row of B regardless of the order of the elements in B? (★★★) \n",
        "(**hint**: np.where)"
      ]
    },
    {
      "cell_type": "code",
      "execution_count": 94,
      "metadata": {
        "id": "rAz55VRsr3S3",
        "outputId": "f8839781-1b07-4e4c-eba9-e741ca07dc81",
        "colab": {
          "base_uri": "https://localhost:8080/"
        }
      },
      "outputs": [
        {
          "output_type": "stream",
          "name": "stdout",
          "text": [
            "[0 1 2 3 4 5 6 7]\n"
          ]
        }
      ],
      "source": [
        "a=np.random.randint(0,5,(8,3))\n",
        "b=np.random.randint(0,5,(2,2))\n",
        "c=(a[..., np.newaxis, np.newaxis] == b)\n",
        "rows = np.where(c.any((3,1)).all(1))[0]\n",
        "print(rows)"
      ]
    },
    {
      "cell_type": "markdown",
      "metadata": {
        "id": "CwEIIjmMr3S3"
      },
      "source": [
        "#### 94. Considering a 10x3 matrix, extract rows with unequal values (e.g. \\[2,2,3\\]) (★★★)"
      ]
    },
    {
      "cell_type": "code",
      "execution_count": 95,
      "metadata": {
        "id": "jLl8kIV2r3S3",
        "outputId": "8f389a46-f777-4914-f7ac-afd614cc0a30",
        "colab": {
          "base_uri": "https://localhost:8080/"
        }
      },
      "outputs": [
        {
          "output_type": "stream",
          "name": "stdout",
          "text": [
            "[[0 0 3]\n",
            " [1 1 0]\n",
            " [0 1 1]\n",
            " [0 0 1]\n",
            " [1 2 3]\n",
            " [2 1 1]\n",
            " [0 4 2]\n",
            " [1 3 0]\n",
            " [4 0 3]\n",
            " [0 3 4]]\n",
            "[[0 0 3]\n",
            " [1 1 0]\n",
            " [0 1 1]\n",
            " [0 0 1]\n",
            " [1 2 3]\n",
            " [2 1 1]\n",
            " [0 4 2]\n",
            " [1 3 0]\n",
            " [4 0 3]\n",
            " [0 3 4]]\n"
          ]
        }
      ],
      "source": [
        "A= np.random.randint(0,5,(10,3))\n",
        "print(A)\n",
        "E = np.all(A[:,1:] == A[:,:-1], axis=1)\n",
        "U = A[~E]\n",
        "print(U)"
      ]
    },
    {
      "cell_type": "markdown",
      "metadata": {
        "id": "KM9PpC-Cr3S3"
      },
      "source": [
        "#### 95. Convert a vector of ints into a matrix binary representation (★★★) \n",
        "(**hint**: np.unpackbits)"
      ]
    },
    {
      "cell_type": "code",
      "execution_count": 96,
      "metadata": {
        "id": "Y8cz73YSr3S4",
        "outputId": "73ef9f3f-bc33-447d-bf0b-9f4c41c6b7af",
        "colab": {
          "base_uri": "https://localhost:8080/"
        }
      },
      "outputs": [
        {
          "output_type": "stream",
          "name": "stdout",
          "text": [
            "[[0 0 0 0 0 0 0 1]\n",
            " [0 0 0 0 0 0 1 0]\n",
            " [0 0 0 0 0 0 1 1]\n",
            " [0 0 0 0 0 1 0 0]\n",
            " [0 0 0 0 0 1 0 1]\n",
            " [0 0 0 0 1 0 0 0]]\n"
          ]
        }
      ],
      "source": [
        "a=np.array([1,2,3,4,5,8],dtype=np.uint8)\n",
        "print(np.unpackbits(a[:,np.newaxis],axis=1))"
      ]
    },
    {
      "cell_type": "markdown",
      "metadata": {
        "id": "H-2HjSs3r3S4"
      },
      "source": [
        "#### 96. Given a two dimensional array, how to extract unique rows? (★★★) \n",
        "(**hint**: np.ascontiguousarray)"
      ]
    },
    {
      "cell_type": "code",
      "execution_count": 97,
      "metadata": {
        "id": "-ynYBk5tr3S4",
        "outputId": "efcd8b8f-074c-4324-ed44-52efe7d391a4",
        "colab": {
          "base_uri": "https://localhost:8080/"
        }
      },
      "outputs": [
        {
          "output_type": "stream",
          "name": "stdout",
          "text": [
            "[[0 0 0]\n",
            " [0 0 1]\n",
            " [0 1 0]\n",
            " [1 0 0]\n",
            " [1 1 1]]\n"
          ]
        }
      ],
      "source": [
        "A= np.random.randint(0,2,(6,3))\n",
        "T = np.ascontiguousarray(A).view(np.dtype((np.void, A.dtype.itemsize * A.shape[1])))\n",
        "_, idx = np.unique(T, return_index=True)\n",
        "uA = A[idx]\n",
        "print(uA)"
      ]
    },
    {
      "cell_type": "markdown",
      "metadata": {
        "id": "YCagUK47r3S4"
      },
      "source": [
        "#### 97. Considering 2 vectors A & B, write the einsum equivalent of inner, outer, sum, and mul function (★★★) \n",
        "(**hint**: np.einsum)"
      ]
    },
    {
      "cell_type": "code",
      "execution_count": 98,
      "metadata": {
        "id": "qudKNtqUr3S4",
        "outputId": "66e73b48-390f-42cb-c218-882572f84cf5",
        "colab": {
          "base_uri": "https://localhost:8080/"
        }
      },
      "outputs": [
        {
          "output_type": "stream",
          "name": "stdout",
          "text": [
            "15\n",
            "[ 10  40  90 160 250]\n",
            "550\n",
            "[[ 10  20  30  40  50]\n",
            " [ 20  40  60  80 100]\n",
            " [ 30  60  90 120 150]\n",
            " [ 40  80 120 160 200]\n",
            " [ 50 100 150 200 250]]\n"
          ]
        }
      ],
      "source": [
        "A = np.array([1,2,3,4,5])\n",
        "B = np.array([10,20,30,40,50])\n",
        "print(np.einsum('i->', A))       #sum\n",
        "print(np.einsum('i,i->i', A, B)) # A * B\n",
        "print(np.einsum('i,i', A, B))    # np.inner(A, B)\n",
        "print(np.einsum('i,j->ij', A, B))    # np.outer(A, B)"
      ]
    },
    {
      "cell_type": "markdown",
      "metadata": {
        "id": "0PEuojrUr3S4"
      },
      "source": [
        "#### 98. Considering a path described by two vectors (X,Y), how to sample it using equidistant samples (★★★)? \n",
        "(**hint**: np.cumsum, np.interp)"
      ]
    },
    {
      "cell_type": "code",
      "execution_count": 99,
      "metadata": {
        "id": "0irQTjynr3S5"
      },
      "outputs": [],
      "source": [
        "phi = np.arange(0, 10*np.pi, 0.1)\n",
        "a = 1\n",
        "x = a*phi*np.cos(phi)\n",
        "y = a*phi*np.sin(phi)\n",
        "dr = (np.diff(x)**2 + np.diff(y)**2)**.5 # segment lengths\n",
        "r = np.zeros_like(x)\n",
        "r[1:] = np.cumsum(dr)                # integrate_path\n",
        "r_int = np.linspace(0, r.max(), 200) # regular_spaced_path\n",
        "x_int = np.interp(r_int, r, x)       # integrate_path\n",
        "y_int = np.interp(r_int, r, y)\n",
        "#print(x_int)\n",
        "#print(y_int)"
      ]
    },
    {
      "cell_type": "markdown",
      "metadata": {
        "id": "JbopV56Ar3S5"
      },
      "source": [
        "#### 99. Given an integer n and a 2D array X, select from X the rows which can be interpreted as draws from a multinomial distribution with n degrees, i.e., the rows which only contain integers and which sum to n. (★★★) \n",
        "(**hint**: np.logical\\_and.reduce, np.mod)"
      ]
    },
    {
      "cell_type": "code",
      "execution_count": 100,
      "metadata": {
        "id": "TRH1n2IKr3S5",
        "outputId": "b7898c17-c7bd-4658-f864-949dc4da693e",
        "colab": {
          "base_uri": "https://localhost:8080/"
        }
      },
      "outputs": [
        {
          "output_type": "stream",
          "name": "stdout",
          "text": [
            "[[2. 0. 1. 1.]]\n"
          ]
        }
      ],
      "source": [
        "A = np.asarray([[1.0, 0.0, 3.0, 8.0],\n",
        "                [2.0, 0.0, 1.0, 1.0],\n",
        "                [1.5, 2.5, 1.0, 0.0]])\n",
        "n = 4\n",
        "M = np.logical_and.reduce(np.mod(A, 1) == 0, axis=-1)\n",
        "M &= (A.sum(axis=-1) == n)\n",
        "print(A[M])"
      ]
    },
    {
      "cell_type": "markdown",
      "metadata": {
        "id": "VpjP5jwwr3S5"
      },
      "source": [
        "#### 100. Compute bootstrapped 95% confidence intervals for the mean of a 1D array X (i.e., resample the elements of an array with replacement N times, compute the mean of each sample, and then compute percentiles over the means). (★★★) \n",
        "(**hint**: np.percentile)"
      ]
    },
    {
      "cell_type": "code",
      "execution_count": 101,
      "metadata": {
        "id": "tvqgvdxdr3S5",
        "outputId": "4555d2d0-8db8-4b07-f40b-afe217bd175a",
        "colab": {
          "base_uri": "https://localhost:8080/"
        }
      },
      "outputs": [
        {
          "output_type": "stream",
          "name": "stdout",
          "text": [
            "[-0.21078288  0.11534017]\n"
          ]
        }
      ],
      "source": [
        "A = np.random.randn(100) # random 1D array\n",
        "N = 1000 # no.of bootstrap samples\n",
        "idx = np.random.randint(0, A.size, (N, A.size))\n",
        "means = A[idx].mean(axis=1)\n",
        "confint = np.percentile(means, [2.5, 97.5])\n",
        "print(confint)"
      ]
    }
  ],
  "metadata": {
    "kernelspec": {
      "display_name": "Python 3 (ipykernel)",
      "language": "python",
      "name": "python3"
    },
    "language_info": {
      "codemirror_mode": {
        "name": "ipython",
        "version": 3
      },
      "file_extension": ".py",
      "mimetype": "text/x-python",
      "name": "python",
      "nbconvert_exporter": "python",
      "pygments_lexer": "ipython3",
      "version": "3.11.1"
    },
    "colab": {
      "provenance": []
    }
  },
  "nbformat": 4,
  "nbformat_minor": 0
}